{
 "cells": [
  {
   "cell_type": "code",
   "execution_count": 3,
   "metadata": {
    "id": "bseC1rKYSXbg"
   },
   "outputs": [],
   "source": [
    "from os import path as os_path\n",
    "from logging import getLogger\n",
    "from typing import Dict, Callable\n",
    "import torch\n",
    "from torchtext.data import to_map_style_dataset\n",
    "from torch.utils.data import DataLoader\n",
    "from functools import partial\n",
    "\n",
    "MIN_FREQUENCY_OF_WORD = 10\n",
    "UNKNOWN_WORD_INDEX = 0\n",
    "CBOW_N_WORDS = 2\n",
    "SKIPGRAM_N_WORDS = 2\n",
    "MAX_SEQUENCE_LENGTH = 100\n",
    "\n",
    "\n",
    "\n",
    "class DataSet:\n",
    "    \"\"\"\n",
    "    This class provides a simple API for loading the data set\n",
    "    The preprocessing of the text will be handled in this class\n",
    "    \"\"\"\n",
    "\n",
    "    def __init__(self, \n",
    "                 path_to_data_set: str = \n",
    "                 \"path_to_dataset\"):\n",
    "        # Make sure that the provided file path is correct\n",
    "        if not os_path.isfile(path_to_data_set):\n",
    "            print(f\"The provided file path to the data set is invalid : {path_to_data_set}\")\n",
    "            raise IOError(\"Unable to load data set file\")\n",
    "\n",
    "        self._data_set_path = path_to_data_set\n",
    "        # Read the entire contents of the dataset to memory\n",
    "        with open(self._data_set_path, mode=\"r\") as open_dataset:\n",
    "            self._loaded_data_set = open_dataset.read()\n",
    "\n",
    "        self._data_set_lines = self._loaded_data_set.splitlines()\n",
    "\n",
    "        # Now the entire data set is loaded into memory\n",
    "        # Proceed to extract the vocabulary from the data set\n",
    "        self._vocabulary = self.__extract_vocabulary()\n",
    "        self._indexed_vocabulary = self.__get_indexed_vocabulary()\n",
    "\n",
    "    def __extract_vocabulary(self) -> Dict[str, int]:\n",
    "        \"\"\"\n",
    "        This method extracts all the unique words in the data set\n",
    "        :return: The vocabulary as a dictionary with the frequency of words as values and words as keys\n",
    "        \"\"\"\n",
    "        vocabulary = {}\n",
    "        for line in self._loaded_data_set.splitlines():\n",
    "            for word in line.split():\n",
    "                if word not in vocabulary:\n",
    "                    vocabulary[word] = 1\n",
    "                else:\n",
    "                    vocabulary[word] += 1\n",
    "\n",
    "        print(\"Succesfully built vocabulary from the data set\")\n",
    "        print(f\"The total number of unique words found are : {len(vocabulary)}\")\n",
    "\n",
    "        return vocabulary\n",
    "\n",
    "    def __get_indexed_vocabulary(self) -> Dict[str, int]:\n",
    "        \"\"\"\n",
    "        This function maps each word to an index, while taking into account\n",
    "        the minimum frequency that is needed for  a word to be included\n",
    "        :return: The method returns a dictionary which maps each word to an index\n",
    "        \"\"\"\n",
    "        indexed_vocabulary = {}\n",
    "        index = 1\n",
    "        for word in self._vocabulary.keys():\n",
    "            if self._vocabulary[word] < MIN_FREQUENCY_OF_WORD:\n",
    "                continue\n",
    "            else:\n",
    "                indexed_vocabulary[word] = index\n",
    "                index += 1\n",
    "\n",
    "        return indexed_vocabulary\n",
    "\n",
    "    \n",
    "    def __getitem__(self, index: int):\n",
    "        return self._data_set_lines[index]\n",
    "\n",
    "    def __len__(self):\n",
    "        return len(self._data_set_lines)\n",
    "    \n",
    "    def get_vocabulary(self):\n",
    "        return self._indexed_vocabulary\n",
    "\n",
    "    \n",
    "    def get_word_indices(self, sentence: str) -> list:\n",
    "        \"\"\"\n",
    "        This method returns the indices of each word in the sentence\n",
    "        An unknown word is given the default index 0\n",
    "        :param sentence: The sentence from the data set as a string\n",
    "        :return: The indices from the _indexed_vocabulary\n",
    "        \"\"\"\n",
    "        indices = []\n",
    "        for word in sentence.split():\n",
    "            if word in self._indexed_vocabulary:\n",
    "                indices.append(self._indexed_vocabulary[word])\n",
    "            else:\n",
    "                # The vocabulary does not contain the word\n",
    "                indices.append(UNKNOWN_WORD_INDEX)\n",
    "\n",
    "        return indices\n",
    "\n",
    "    @staticmethod\n",
    "    def collate_cbow(batch, get_word_indices: Callable):\n",
    "        \"\"\"\n",
    "        Collate_fn for CBOW model to be used with Dataloader.\n",
    "        `batch` is expected to be list of text paragrahs.\n",
    "\n",
    "        Context is represented as N=CBOW_N_WORDS past words\n",
    "        and N=CBOW_N_WORDS future words.\n",
    "\n",
    "        Long paragraphs will be truncated to contain\n",
    "        no more that MAX_SEQUENCE_LENGTH tokens.\n",
    "\n",
    "        Each element in `batch_input` is N=CBOW_N_WORDS*2 context words.\n",
    "        Each element in `batch_output` is a middle word.\n",
    "        \"\"\"\n",
    "        batch_input, batch_output = [], []\n",
    "        for text in batch:\n",
    "            text_tokens_ids = get_word_indices(text)\n",
    "\n",
    "            if len(text_tokens_ids) < CBOW_N_WORDS * 2 + 1:\n",
    "                continue\n",
    "\n",
    "            if MAX_SEQUENCE_LENGTH:\n",
    "                text_tokens_ids = text_tokens_ids[:MAX_SEQUENCE_LENGTH]\n",
    "\n",
    "            for idx in range(len(text_tokens_ids) - CBOW_N_WORDS * 2):\n",
    "                token_id_sequence = text_tokens_ids[idx: (idx + CBOW_N_WORDS * 2 + 1)]\n",
    "                output = token_id_sequence.pop(CBOW_N_WORDS)\n",
    "                input_ = token_id_sequence\n",
    "                batch_input.append(input_)\n",
    "                batch_output.append(output)\n",
    "\n",
    "        batch_input = torch.tensor(batch_input, dtype=torch.long)\n",
    "        batch_output = torch.tensor(batch_output, dtype=torch.long)\n",
    "        return batch_input, batch_output\n",
    "\n",
    "\n",
    "    @staticmethod\n",
    "    def collate_skipgram(batch, get_word_indices: Callable):\n",
    "        \"\"\"\n",
    "        Collate_fn for Skip-Gram model to be used with Dataloader.\n",
    "        `batch` is going to be sentences from the data set\n",
    "\n",
    "        Context is represented as N=SKIPGRAM_N_WORDS past words\n",
    "        and N=SKIPGRAM_N_WORDS future words.\n",
    "\n",
    "        Each element in `batch_input` is a middle word.\n",
    "        Each element in `batch_output` is a context word.\n",
    "        \"\"\"\n",
    "        batch_input, batch_output = [], []\n",
    "        for text in batch:\n",
    "            text_tokens_ids = get_word_indices(text)\n",
    "\n",
    "            if len(text_tokens_ids) < SKIPGRAM_N_WORDS * 2 + 1:\n",
    "                continue\n",
    "\n",
    "            if MAX_SEQUENCE_LENGTH:\n",
    "                text_tokens_ids = text_tokens_ids[:MAX_SEQUENCE_LENGTH]\n",
    "\n",
    "            for idx in range(len(text_tokens_ids) - SKIPGRAM_N_WORDS * 2):\n",
    "                token_id_sequence = text_tokens_ids[idx: (idx + SKIPGRAM_N_WORDS * 2 + 1)]\n",
    "                input_ = token_id_sequence.pop(SKIPGRAM_N_WORDS)\n",
    "                outputs = token_id_sequence\n",
    "\n",
    "                for output in outputs:\n",
    "                    batch_input.append(input_)\n",
    "                    batch_output.append(output)\n",
    "\n",
    "        batch_input = torch.tensor(batch_input, dtype=torch.long)\n",
    "        batch_output = torch.tensor(batch_output, dtype=torch.long)\n",
    "        return batch_input, batch_output\n",
    "\n",
    "    @staticmethod\n",
    "    def get_dataloader_and_vocab(\n",
    "            model_name, batch_size, shuffle, vocab=None\n",
    "    ):\n",
    "        data_set = DataSet()\n",
    "        if not vocab:\n",
    "            vocab = data_set.get_vocabulary()\n",
    "\n",
    "        text_pipeline = data_set.get_word_indices\n",
    "\n",
    "        if model_name == \"cbow\":\n",
    "            collate_fn = DataSet.collate_cbow\n",
    "        elif model_name == \"skipgram\":\n",
    "            collate_fn = DataSet.collate_skipgram\n",
    "        else:\n",
    "            raise ValueError(\"Choose model from: cbow, skipgram\")\n",
    "\n",
    "        dataloader = DataLoader(\n",
    "            data_set,\n",
    "            batch_size=batch_size,\n",
    "            shuffle=shuffle,\n",
    "            collate_fn=partial(collate_fn, get_word_indices=text_pipeline),\n",
    "        )\n",
    "        return dataloader, vocab\n"
   ]
  },
  {
   "cell_type": "code",
   "execution_count": 4,
   "metadata": {
    "id": "TvjJOg6GXJ7F"
   },
   "outputs": [],
   "source": [
    "import torch.nn as nn\n",
    "\n",
    "EMBEDDING_VECTOR_DIM = 150\n",
    "# Restrict the maximum value of the weights for a word to prevent them from becoming too large\n",
    "EMBED_MAX_NORM = 1\n",
    "\n",
    "\n",
    "class CbowModel(nn.Module):\n",
    "    def __init__(self, vocab_size: int):\n",
    "        super().__init__()\n",
    "        self.embedding_layer = nn.Embedding(\n",
    "            num_embeddings=vocab_size,\n",
    "            embedding_dim=EMBEDDING_VECTOR_DIM,\n",
    "            max_norm=EMBED_MAX_NORM,\n",
    "        )\n",
    "        self.linear = nn.Linear(\n",
    "            in_features=EMBEDDING_VECTOR_DIM,\n",
    "            out_features=vocab_size)\n",
    "\n",
    "    def forward(self, input_features):\n",
    "        x = self.embedding_layer(input_features)\n",
    "        # For the CBOW approach we have to use the mean of the embedded context words\n",
    "        x = x.mean(axis=1)\n",
    "        x = self.linear(x)\n",
    "        return x\n",
    "\n",
    "\n",
    "class SkipGramModel(nn.Module):\n",
    "    \"\"\"\n",
    "    Class to create a skip gram model\n",
    "    \"\"\"\n",
    "    def __init__(self, vocab_size: int):\n",
    "        super(SkipGramModel, self).__init__()\n",
    "        self.embedding_layer = nn.Embedding(\n",
    "            num_embeddings=vocab_size,\n",
    "            embedding_dim=EMBEDDING_VECTOR_DIM,\n",
    "            max_norm=EMBED_MAX_NORM,\n",
    "        )\n",
    "        self.linear = nn.Linear(\n",
    "            in_features=EMBEDDING_VECTOR_DIM,\n",
    "            out_features=vocab_size,\n",
    "        )\n",
    "\n",
    "    def forward(self, input_features):\n",
    "        x = self.embedding_layer(input_features)\n",
    "        # No need to take mean in case of a skip gram mode\n",
    "        x = self.linear(x)\n",
    "        return x"
   ]
  },
  {
   "cell_type": "code",
   "execution_count": 7,
   "metadata": {
    "colab": {
     "base_uri": "https://localhost:8080/"
    },
    "id": "O9Q7QH03Xdbb",
    "outputId": "d124c564-7b61-4cba-cfab-b5a9a12f61a2"
   },
   "outputs": [
    {
     "name": "stdout",
     "output_type": "stream",
     "text": [
      "Succesfully built vocabulary from the data set\n",
      "The total number of unique words found are : 15517\n",
      "Succesfully built vocabulary from the data set\n",
      "The total number of unique words found are : 15517\n"
     ]
    },
    {
     "name": "stderr",
     "output_type": "stream",
     "text": [
      "  0%|          | 2/1000 [00:00<02:36,  6.37it/s]"
     ]
    },
    {
     "name": "stdout",
     "output_type": "stream",
     "text": [
      "Epoch loss : 6.770091948509216\n",
      "Epoch loss : 6.223940343856811\n"
     ]
    },
    {
     "name": "stderr",
     "output_type": "stream",
     "text": [
      "  0%|          | 4/1000 [00:00<02:36,  6.35it/s]"
     ]
    },
    {
     "name": "stdout",
     "output_type": "stream",
     "text": [
      "Epoch loss : 5.794501754442851\n",
      "Epoch loss : 5.521556769609451\n"
     ]
    },
    {
     "name": "stderr",
     "output_type": "stream",
     "text": [
      "  1%|          | 6/1000 [00:00<02:36,  6.36it/s]"
     ]
    },
    {
     "name": "stdout",
     "output_type": "stream",
     "text": [
      "Epoch loss : 5.341455503463745\n",
      "Epoch loss : 5.210314040184021\n"
     ]
    },
    {
     "name": "stderr",
     "output_type": "stream",
     "text": [
      "  1%|          | 8/1000 [00:01<02:37,  6.28it/s]"
     ]
    },
    {
     "name": "stdout",
     "output_type": "stream",
     "text": [
      "Epoch loss : 5.106981028829302\n",
      "Epoch loss : 5.020740823149681\n"
     ]
    },
    {
     "name": "stderr",
     "output_type": "stream",
     "text": [
      "  1%|          | 10/1000 [00:01<02:35,  6.36it/s]"
     ]
    },
    {
     "name": "stdout",
     "output_type": "stream",
     "text": [
      "Epoch loss : 4.945663929250506\n",
      "Epoch loss : 4.878316205263138\n"
     ]
    },
    {
     "name": "stderr",
     "output_type": "stream",
     "text": [
      "  1%|          | 12/1000 [00:01<02:35,  6.37it/s]"
     ]
    },
    {
     "name": "stdout",
     "output_type": "stream",
     "text": [
      "Epoch loss : 4.816655064062639\n",
      "Epoch loss : 4.759397992690404\n"
     ]
    },
    {
     "name": "stderr",
     "output_type": "stream",
     "text": [
      "  1%|▏         | 14/1000 [00:02<02:37,  6.26it/s]"
     ]
    },
    {
     "name": "stdout",
     "output_type": "stream",
     "text": [
      "Epoch loss : 4.705680034160614\n",
      "Epoch loss : 4.654883821862085\n"
     ]
    },
    {
     "name": "stderr",
     "output_type": "stream",
     "text": [
      "  2%|▏         | 16/1000 [00:02<02:35,  6.34it/s]"
     ]
    },
    {
     "name": "stdout",
     "output_type": "stream",
     "text": [
      "Epoch loss : 4.606566417058309\n",
      "Epoch loss : 4.560385833829641\n"
     ]
    },
    {
     "name": "stderr",
     "output_type": "stream",
     "text": [
      "  2%|▏         | 18/1000 [00:02<02:33,  6.40it/s]"
     ]
    },
    {
     "name": "stdout",
     "output_type": "stream",
     "text": [
      "Epoch loss : 4.5160886315738455\n",
      "Epoch loss : 4.473481070200602\n"
     ]
    },
    {
     "name": "stderr",
     "output_type": "stream",
     "text": [
      "  2%|▏         | 20/1000 [00:03<02:32,  6.42it/s]"
     ]
    },
    {
     "name": "stdout",
     "output_type": "stream",
     "text": [
      "Epoch loss : 4.432406697022287\n",
      "Epoch loss : 4.392734553813934\n"
     ]
    },
    {
     "name": "stderr",
     "output_type": "stream",
     "text": [
      "  2%|▏         | 22/1000 [00:03<02:32,  6.43it/s]"
     ]
    },
    {
     "name": "stdout",
     "output_type": "stream",
     "text": [
      "Epoch loss : 4.354361511525654\n",
      "Epoch loss : 4.317204540100964\n"
     ]
    },
    {
     "name": "stderr",
     "output_type": "stream",
     "text": [
      "  2%|▏         | 24/1000 [00:03<02:31,  6.44it/s]"
     ]
    },
    {
     "name": "stdout",
     "output_type": "stream",
     "text": [
      "Epoch loss : 4.281183646139891\n",
      "Epoch loss : 4.246231744587422\n"
     ]
    },
    {
     "name": "stderr",
     "output_type": "stream",
     "text": [
      "  3%|▎         | 26/1000 [00:04<02:33,  6.34it/s]"
     ]
    },
    {
     "name": "stdout",
     "output_type": "stream",
     "text": [
      "Epoch loss : 4.212289774894715\n",
      "Epoch loss : 4.1792996795360855\n"
     ]
    },
    {
     "name": "stderr",
     "output_type": "stream",
     "text": [
      "  3%|▎         | 28/1000 [00:04<02:34,  6.31it/s]"
     ]
    },
    {
     "name": "stdout",
     "output_type": "stream",
     "text": [
      "Epoch loss : 4.147214340015694\n",
      "Epoch loss : 4.115989486234529\n"
     ]
    },
    {
     "name": "stderr",
     "output_type": "stream",
     "text": [
      "  3%|▎         | 30/1000 [00:04<02:36,  6.22it/s]"
     ]
    },
    {
     "name": "stdout",
     "output_type": "stream",
     "text": [
      "Epoch loss : 4.085579890136061\n",
      "Epoch loss : 4.055946831782659\n"
     ]
    },
    {
     "name": "stderr",
     "output_type": "stream",
     "text": [
      "  3%|▎         | 32/1000 [00:05<02:35,  6.24it/s]"
     ]
    },
    {
     "name": "stdout",
     "output_type": "stream",
     "text": [
      "Epoch loss : 4.027054430976991\n",
      "Epoch loss : 3.998867204412818\n"
     ]
    },
    {
     "name": "stderr",
     "output_type": "stream",
     "text": [
      "  3%|▎         | 34/1000 [00:05<02:32,  6.34it/s]"
     ]
    },
    {
     "name": "stdout",
     "output_type": "stream",
     "text": [
      "Epoch loss : 3.971355118896022\n",
      "Epoch loss : 3.944487526276532\n"
     ]
    },
    {
     "name": "stderr",
     "output_type": "stream",
     "text": [
      "  4%|▎         | 36/1000 [00:05<02:30,  6.40it/s]"
     ]
    },
    {
     "name": "stdout",
     "output_type": "stream",
     "text": [
      "Epoch loss : 3.9182374488966807\n",
      "Epoch loss : 3.892578712105751\n"
     ]
    },
    {
     "name": "stderr",
     "output_type": "stream",
     "text": [
      "  4%|▍         | 38/1000 [00:05<02:30,  6.41it/s]"
     ]
    },
    {
     "name": "stdout",
     "output_type": "stream",
     "text": [
      "Epoch loss : 3.8674886890359828\n",
      "Epoch loss : 3.8429421268011392\n"
     ]
    },
    {
     "name": "stderr",
     "output_type": "stream",
     "text": [
      "  4%|▍         | 40/1000 [00:06<02:27,  6.53it/s]"
     ]
    },
    {
     "name": "stdout",
     "output_type": "stream",
     "text": [
      "Epoch loss : 3.8189187182524265\n",
      "Epoch loss : 3.795395875453949\n"
     ]
    },
    {
     "name": "stderr",
     "output_type": "stream",
     "text": [
      "  4%|▍         | 42/1000 [00:06<02:26,  6.53it/s]"
     ]
    },
    {
     "name": "stdout",
     "output_type": "stream",
     "text": [
      "Epoch loss : 3.772361300747569\n",
      "Epoch loss : 3.7497872752802714\n"
     ]
    },
    {
     "name": "stderr",
     "output_type": "stream",
     "text": [
      "  4%|▍         | 44/1000 [00:06<02:40,  5.96it/s]"
     ]
    },
    {
     "name": "stdout",
     "output_type": "stream",
     "text": [
      "Epoch loss : 3.727665473361348\n",
      "Epoch loss : 3.705973272919655\n"
     ]
    },
    {
     "name": "stderr",
     "output_type": "stream",
     "text": [
      "  5%|▍         | 46/1000 [00:07<02:48,  5.66it/s]"
     ]
    },
    {
     "name": "stdout",
     "output_type": "stream",
     "text": [
      "Epoch loss : 3.684695558812883\n",
      "Epoch loss : 3.663822623802268\n"
     ]
    },
    {
     "name": "stderr",
     "output_type": "stream",
     "text": [
      "  5%|▍         | 48/1000 [00:07<02:50,  5.60it/s]"
     ]
    },
    {
     "name": "stdout",
     "output_type": "stream",
     "text": [
      "Epoch loss : 3.643334564198839\n",
      "Epoch loss : 3.6232215749224026\n"
     ]
    },
    {
     "name": "stderr",
     "output_type": "stream",
     "text": [
      "  5%|▌         | 50/1000 [00:08<02:51,  5.53it/s]"
     ]
    },
    {
     "name": "stdout",
     "output_type": "stream",
     "text": [
      "Epoch loss : 3.6034710251068582\n",
      "Epoch loss : 3.5840705862998963\n"
     ]
    },
    {
     "name": "stderr",
     "output_type": "stream",
     "text": [
      "  5%|▌         | 52/1000 [00:08<02:51,  5.54it/s]"
     ]
    },
    {
     "name": "stdout",
     "output_type": "stream",
     "text": [
      "Epoch loss : 3.565008569698708\n",
      "Epoch loss : 3.5462760355151617\n"
     ]
    },
    {
     "name": "stderr",
     "output_type": "stream",
     "text": [
      "\r",
      "  5%|▌         | 53/1000 [00:08<02:54,  5.44it/s]"
     ]
    },
    {
     "name": "stdout",
     "output_type": "stream",
     "text": [
      "Epoch loss : 3.5278589056122978\n"
     ]
    },
    {
     "name": "stderr",
     "output_type": "stream",
     "text": [
      "  6%|▌         | 55/1000 [00:08<02:57,  5.32it/s]"
     ]
    },
    {
     "name": "stdout",
     "output_type": "stream",
     "text": [
      "Epoch loss : 3.509748618580677\n",
      "Epoch loss : 3.49193760620464\n"
     ]
    },
    {
     "name": "stderr",
     "output_type": "stream",
     "text": [
      "  6%|▌         | 57/1000 [00:09<02:56,  5.35it/s]"
     ]
    },
    {
     "name": "stdout",
     "output_type": "stream",
     "text": [
      "Epoch loss : 3.4744109896038258\n",
      "Epoch loss : 3.457164896538383\n"
     ]
    },
    {
     "name": "stderr",
     "output_type": "stream",
     "text": [
      "  6%|▌         | 59/1000 [00:09<02:54,  5.41it/s]"
     ]
    },
    {
     "name": "stdout",
     "output_type": "stream",
     "text": [
      "Epoch loss : 3.4401909112724764\n",
      "Epoch loss : 3.4234784173561357\n"
     ]
    },
    {
     "name": "stderr",
     "output_type": "stream",
     "text": [
      "  6%|▌         | 61/1000 [00:10<02:56,  5.33it/s]"
     ]
    },
    {
     "name": "stdout",
     "output_type": "stream",
     "text": [
      "Epoch loss : 3.4070231434504192\n",
      "Epoch loss : 3.39081609358553\n"
     ]
    },
    {
     "name": "stderr",
     "output_type": "stream",
     "text": [
      "  6%|▋         | 63/1000 [00:10<02:48,  5.55it/s]"
     ]
    },
    {
     "name": "stdout",
     "output_type": "stream",
     "text": [
      "Epoch loss : 3.3748515073906993\n",
      "Epoch loss : 3.359120491421412\n"
     ]
    },
    {
     "name": "stderr",
     "output_type": "stream",
     "text": [
      "  6%|▋         | 65/1000 [00:10<02:40,  5.84it/s]"
     ]
    },
    {
     "name": "stdout",
     "output_type": "stream",
     "text": [
      "Epoch loss : 3.343618005346507\n",
      "Epoch loss : 3.328338636948512\n"
     ]
    },
    {
     "name": "stderr",
     "output_type": "stream",
     "text": [
      "  7%|▋         | 67/1000 [00:11<02:34,  6.05it/s]"
     ]
    },
    {
     "name": "stdout",
     "output_type": "stream",
     "text": [
      "Epoch loss : 3.3132743948156183\n",
      "Epoch loss : 3.2984185558824395\n"
     ]
    },
    {
     "name": "stderr",
     "output_type": "stream",
     "text": [
      "  7%|▋         | 69/1000 [00:11<02:30,  6.18it/s]"
     ]
    },
    {
     "name": "stdout",
     "output_type": "stream",
     "text": [
      "Epoch loss : 3.28376686064636\n",
      "Epoch loss : 3.269314330989036\n"
     ]
    },
    {
     "name": "stderr",
     "output_type": "stream",
     "text": [
      "  7%|▋         | 71/1000 [00:11<02:27,  6.32it/s]"
     ]
    },
    {
     "name": "stdout",
     "output_type": "stream",
     "text": [
      "Epoch loss : 3.2550558101449694\n",
      "Epoch loss : 3.2409880500276325\n"
     ]
    },
    {
     "name": "stderr",
     "output_type": "stream",
     "text": [
      "  7%|▋         | 73/1000 [00:12<02:26,  6.33it/s]"
     ]
    },
    {
     "name": "stdout",
     "output_type": "stream",
     "text": [
      "Epoch loss : 3.227103102952242\n",
      "Epoch loss : 3.213398722361212\n"
     ]
    },
    {
     "name": "stderr",
     "output_type": "stream",
     "text": [
      "  8%|▊         | 75/1000 [00:12<02:24,  6.39it/s]"
     ]
    },
    {
     "name": "stdout",
     "output_type": "stream",
     "text": [
      "Epoch loss : 3.19987073023577\n",
      "Epoch loss : 3.186514009284973\n"
     ]
    },
    {
     "name": "stderr",
     "output_type": "stream",
     "text": [
      "  8%|▊         | 77/1000 [00:12<02:24,  6.40it/s]"
     ]
    },
    {
     "name": "stdout",
     "output_type": "stream",
     "text": [
      "Epoch loss : 3.173323104444303\n",
      "Epoch loss : 3.1602967354539153\n"
     ]
    },
    {
     "name": "stderr",
     "output_type": "stream",
     "text": [
      "  8%|▊         | 79/1000 [00:13<02:28,  6.20it/s]"
     ]
    },
    {
     "name": "stdout",
     "output_type": "stream",
     "text": [
      "Epoch loss : 3.147429350950779\n",
      "Epoch loss : 3.134716353491892\n"
     ]
    },
    {
     "name": "stderr",
     "output_type": "stream",
     "text": [
      "  8%|▊         | 81/1000 [00:13<02:29,  6.16it/s]"
     ]
    },
    {
     "name": "stdout",
     "output_type": "stream",
     "text": [
      "Epoch loss : 3.122155634731054\n",
      "Epoch loss : 3.1097437883895123\n"
     ]
    },
    {
     "name": "stderr",
     "output_type": "stream",
     "text": [
      "  8%|▊         | 83/1000 [00:13<02:27,  6.21it/s]"
     ]
    },
    {
     "name": "stdout",
     "output_type": "stream",
     "text": [
      "Epoch loss : 3.097476529653479\n",
      "Epoch loss : 3.085352372361953\n"
     ]
    },
    {
     "name": "stderr",
     "output_type": "stream",
     "text": [
      "  8%|▊         | 85/1000 [00:13<02:30,  6.07it/s]"
     ]
    },
    {
     "name": "stdout",
     "output_type": "stream",
     "text": [
      "Epoch loss : 3.0733667119344075\n",
      "Epoch loss : 3.061517538323122\n"
     ]
    },
    {
     "name": "stderr",
     "output_type": "stream",
     "text": [
      "  9%|▊         | 87/1000 [00:14<02:24,  6.31it/s]"
     ]
    },
    {
     "name": "stdout",
     "output_type": "stream",
     "text": [
      "Epoch loss : 3.0498002832296285\n",
      "Epoch loss : 3.0382130693978278\n"
     ]
    },
    {
     "name": "stderr",
     "output_type": "stream",
     "text": [
      "  9%|▉         | 89/1000 [00:14<02:20,  6.47it/s]"
     ]
    },
    {
     "name": "stdout",
     "output_type": "stream",
     "text": [
      "Epoch loss : 3.026755095232617\n",
      "Epoch loss : 3.0154202569334694\n"
     ]
    },
    {
     "name": "stderr",
     "output_type": "stream",
     "text": [
      "  9%|▉         | 91/1000 [00:14<02:20,  6.49it/s]"
     ]
    },
    {
     "name": "stdout",
     "output_type": "stream",
     "text": [
      "Epoch loss : 3.0042072251240413\n",
      "Epoch loss : 2.9931145961861034\n"
     ]
    },
    {
     "name": "stderr",
     "output_type": "stream",
     "text": [
      "  9%|▉         | 93/1000 [00:15<02:20,  6.48it/s]"
     ]
    },
    {
     "name": "stdout",
     "output_type": "stream",
     "text": [
      "Epoch loss : 2.9821415464774423\n",
      "Epoch loss : 2.9712816458748232\n"
     ]
    },
    {
     "name": "stderr",
     "output_type": "stream",
     "text": [
      " 10%|▉         | 95/1000 [00:15<02:19,  6.51it/s]"
     ]
    },
    {
     "name": "stdout",
     "output_type": "stream",
     "text": [
      "Epoch loss : 2.9605351382493974\n",
      "Epoch loss : 2.9498980754300166\n"
     ]
    },
    {
     "name": "stderr",
     "output_type": "stream",
     "text": [
      " 10%|▉         | 97/1000 [00:15<02:16,  6.59it/s]"
     ]
    },
    {
     "name": "stdout",
     "output_type": "stream",
     "text": [
      "Epoch loss : 2.939370589690904\n",
      "Epoch loss : 2.9289487120662767\n"
     ]
    },
    {
     "name": "stderr",
     "output_type": "stream",
     "text": [
      " 10%|▉         | 99/1000 [00:16<02:17,  6.54it/s]"
     ]
    },
    {
     "name": "stdout",
     "output_type": "stream",
     "text": [
      "Epoch loss : 2.9186303889143224\n",
      "Epoch loss : 2.9084154141310488\n"
     ]
    },
    {
     "name": "stderr",
     "output_type": "stream",
     "text": [
      " 10%|█         | 101/1000 [00:16<02:18,  6.47it/s]"
     ]
    },
    {
     "name": "stdout",
     "output_type": "stream",
     "text": [
      "Epoch loss : 2.8983006455540656\n",
      "Epoch loss : 2.888284504850312\n"
     ]
    },
    {
     "name": "stderr",
     "output_type": "stream",
     "text": [
      " 10%|█         | 103/1000 [00:16<02:18,  6.49it/s]"
     ]
    },
    {
     "name": "stdout",
     "output_type": "stream",
     "text": [
      "Epoch loss : 2.8783656873071894\n",
      "Epoch loss : 2.8685428322403177\n"
     ]
    },
    {
     "name": "stderr",
     "output_type": "stream",
     "text": [
      " 10%|█         | 105/1000 [00:17<02:20,  6.39it/s]"
     ]
    },
    {
     "name": "stdout",
     "output_type": "stream",
     "text": [
      "Epoch loss : 2.858811664260351\n",
      "Epoch loss : 2.8491723182428452\n"
     ]
    },
    {
     "name": "stderr",
     "output_type": "stream",
     "text": [
      " 11%|█         | 107/1000 [00:17<02:19,  6.40it/s]"
     ]
    },
    {
     "name": "stdout",
     "output_type": "stream",
     "text": [
      "Epoch loss : 2.839622476112168\n",
      "Epoch loss : 2.8301613731807636\n"
     ]
    },
    {
     "name": "stderr",
     "output_type": "stream",
     "text": [
      " 11%|█         | 109/1000 [00:17<02:18,  6.43it/s]"
     ]
    },
    {
     "name": "stdout",
     "output_type": "stream",
     "text": [
      "Epoch loss : 2.8207879796293045\n",
      "Epoch loss : 2.8114991354504855\n"
     ]
    },
    {
     "name": "stderr",
     "output_type": "stream",
     "text": [
      " 11%|█         | 111/1000 [00:18<02:20,  6.32it/s]"
     ]
    },
    {
     "name": "stdout",
     "output_type": "stream",
     "text": [
      "Epoch loss : 2.8022944878773255\n",
      "Epoch loss : 2.7931722455948322\n"
     ]
    },
    {
     "name": "stderr",
     "output_type": "stream",
     "text": [
      " 11%|█▏        | 113/1000 [00:18<02:20,  6.33it/s]"
     ]
    },
    {
     "name": "stdout",
     "output_type": "stream",
     "text": [
      "Epoch loss : 2.784131356041346\n",
      "Epoch loss : 2.7751695026655114\n"
     ]
    },
    {
     "name": "stderr",
     "output_type": "stream",
     "text": [
      " 12%|█▏        | 115/1000 [00:18<02:18,  6.41it/s]"
     ]
    },
    {
     "name": "stdout",
     "output_type": "stream",
     "text": [
      "Epoch loss : 2.7662863895767615\n",
      "Epoch loss : 2.757479410337365\n"
     ]
    },
    {
     "name": "stderr",
     "output_type": "stream",
     "text": [
      " 12%|█▏        | 117/1000 [00:18<02:17,  6.45it/s]"
     ]
    },
    {
     "name": "stdout",
     "output_type": "stream",
     "text": [
      "Epoch loss : 2.7487505491437583\n",
      "Epoch loss : 2.7400958623947242\n"
     ]
    },
    {
     "name": "stderr",
     "output_type": "stream",
     "text": [
      " 12%|█▏        | 119/1000 [00:19<02:18,  6.37it/s]"
     ]
    },
    {
     "name": "stdout",
     "output_type": "stream",
     "text": [
      "Epoch loss : 2.7315147685903614\n",
      "Epoch loss : 2.723006619475469\n"
     ]
    },
    {
     "name": "stderr",
     "output_type": "stream",
     "text": [
      " 12%|█▏        | 121/1000 [00:19<02:20,  6.27it/s]"
     ]
    },
    {
     "name": "stdout",
     "output_type": "stream",
     "text": [
      "Epoch loss : 2.7145692344208556\n",
      "Epoch loss : 2.706201656111016\n"
     ]
    },
    {
     "name": "stderr",
     "output_type": "stream",
     "text": [
      " 12%|█▏        | 123/1000 [00:19<02:16,  6.40it/s]"
     ]
    },
    {
     "name": "stdout",
     "output_type": "stream",
     "text": [
      "Epoch loss : 2.6979035767668584\n",
      "Epoch loss : 2.6896733255018064\n"
     ]
    },
    {
     "name": "stderr",
     "output_type": "stream",
     "text": [
      " 12%|█▎        | 125/1000 [00:20<02:17,  6.38it/s]"
     ]
    },
    {
     "name": "stdout",
     "output_type": "stream",
     "text": [
      "Epoch loss : 2.681510900730087\n",
      "Epoch loss : 2.6734155347442625\n"
     ]
    },
    {
     "name": "stderr",
     "output_type": "stream",
     "text": [
      " 13%|█▎        | 127/1000 [00:20<02:31,  5.77it/s]"
     ]
    },
    {
     "name": "stdout",
     "output_type": "stream",
     "text": [
      "Epoch loss : 2.6653842304244875\n",
      "Epoch loss : 2.657417260192511\n"
     ]
    },
    {
     "name": "stderr",
     "output_type": "stream",
     "text": [
      "\r",
      " 13%|█▎        | 128/1000 [00:20<02:34,  5.65it/s]"
     ]
    },
    {
     "name": "stdout",
     "output_type": "stream",
     "text": [
      "Epoch loss : 2.6495134787354617\n",
      "Epoch loss : 2.6416720078065414\n"
     ]
    },
    {
     "name": "stderr",
     "output_type": "stream",
     "text": [
      " 13%|█▎        | 131/1000 [00:21<02:39,  5.46it/s]"
     ]
    },
    {
     "name": "stdout",
     "output_type": "stream",
     "text": [
      "Epoch loss : 2.6338920372541135\n",
      "Epoch loss : 2.6261720835252573\n"
     ]
    },
    {
     "name": "stderr",
     "output_type": "stream",
     "text": [
      "\r",
      " 13%|█▎        | 132/1000 [00:21<02:41,  5.36it/s]"
     ]
    },
    {
     "name": "stdout",
     "output_type": "stream",
     "text": [
      "Epoch loss : 2.618512190255252\n"
     ]
    },
    {
     "name": "stderr",
     "output_type": "stream",
     "text": [
      " 13%|█▎        | 134/1000 [00:21<02:45,  5.22it/s]"
     ]
    },
    {
     "name": "stdout",
     "output_type": "stream",
     "text": [
      "Epoch loss : 2.6109134440852286\n",
      "Epoch loss : 2.6033699622083066\n"
     ]
    },
    {
     "name": "stderr",
     "output_type": "stream",
     "text": [
      " 14%|█▎        | 136/1000 [00:22<02:43,  5.28it/s]"
     ]
    },
    {
     "name": "stdout",
     "output_type": "stream",
     "text": [
      "Epoch loss : 2.595884419873909\n",
      "Epoch loss : 2.5884557689112775\n"
     ]
    },
    {
     "name": "stderr",
     "output_type": "stream",
     "text": [
      "\r",
      " 14%|█▎        | 137/1000 [00:22<03:21,  4.29it/s]"
     ]
    },
    {
     "name": "stdout",
     "output_type": "stream",
     "text": [
      "Epoch loss : 2.581082394671266\n"
     ]
    },
    {
     "name": "stderr",
     "output_type": "stream",
     "text": [
      " 14%|█▍        | 139/1000 [00:23<03:25,  4.19it/s]"
     ]
    },
    {
     "name": "stdout",
     "output_type": "stream",
     "text": [
      "Epoch loss : 2.5737652133426803\n",
      "Epoch loss : 2.5665014301787177\n"
     ]
    },
    {
     "name": "stderr",
     "output_type": "stream",
     "text": [
      " 14%|█▍        | 141/1000 [00:23<03:04,  4.67it/s]"
     ]
    },
    {
     "name": "stdout",
     "output_type": "stream",
     "text": [
      "Epoch loss : 2.5592909621340887\n",
      "Epoch loss : 2.552134129240158\n"
     ]
    },
    {
     "name": "stderr",
     "output_type": "stream",
     "text": [
      "\r",
      " 14%|█▍        | 142/1000 [00:23<02:57,  4.85it/s]"
     ]
    },
    {
     "name": "stdout",
     "output_type": "stream",
     "text": [
      "Epoch loss : 2.545027752468284\n"
     ]
    },
    {
     "name": "stderr",
     "output_type": "stream",
     "text": [
      "\r",
      " 14%|█▍        | 143/1000 [00:23<02:58,  4.79it/s]"
     ]
    },
    {
     "name": "stdout",
     "output_type": "stream",
     "text": [
      "Epoch loss : 2.537972813211121\n"
     ]
    },
    {
     "name": "stderr",
     "output_type": "stream",
     "text": [
      "\r",
      " 14%|█▍        | 144/1000 [00:24<03:12,  4.45it/s]"
     ]
    },
    {
     "name": "stdout",
     "output_type": "stream",
     "text": [
      "Epoch loss : 2.5309699517074558\n"
     ]
    },
    {
     "name": "stderr",
     "output_type": "stream",
     "text": [
      " 15%|█▍        | 146/1000 [00:24<02:53,  4.93it/s]"
     ]
    },
    {
     "name": "stdout",
     "output_type": "stream",
     "text": [
      "Epoch loss : 2.524016710721213\n",
      "Epoch loss : 2.517113129525152\n"
     ]
    },
    {
     "name": "stderr",
     "output_type": "stream",
     "text": [
      " 15%|█▍        | 148/1000 [00:24<02:46,  5.12it/s]"
     ]
    },
    {
     "name": "stdout",
     "output_type": "stream",
     "text": [
      "Epoch loss : 2.51025889497225\n",
      "Epoch loss : 2.50345278169255\n"
     ]
    },
    {
     "name": "stderr",
     "output_type": "stream",
     "text": [
      " 15%|█▌        | 150/1000 [00:25<02:45,  5.12it/s]"
     ]
    },
    {
     "name": "stdout",
     "output_type": "stream",
     "text": [
      "Epoch loss : 2.4966952809911445\n",
      "Epoch loss : 2.48998396538496\n"
     ]
    },
    {
     "name": "stderr",
     "output_type": "stream",
     "text": [
      " 15%|█▌        | 152/1000 [00:25<02:28,  5.72it/s]"
     ]
    },
    {
     "name": "stdout",
     "output_type": "stream",
     "text": [
      "Epoch loss : 2.483320659197719\n",
      "Epoch loss : 2.476702703821816\n"
     ]
    },
    {
     "name": "stderr",
     "output_type": "stream",
     "text": [
      "\r",
      " 15%|█▌        | 153/1000 [00:25<02:37,  5.36it/s]"
     ]
    },
    {
     "name": "stdout",
     "output_type": "stream",
     "text": [
      "Epoch loss : 2.4701300130599466\n"
     ]
    },
    {
     "name": "stderr",
     "output_type": "stream",
     "text": [
      " 16%|█▌        | 155/1000 [00:26<02:32,  5.55it/s]"
     ]
    },
    {
     "name": "stdout",
     "output_type": "stream",
     "text": [
      "Epoch loss : 2.46360188781441\n",
      "Epoch loss : 2.457117914430557\n"
     ]
    },
    {
     "name": "stderr",
     "output_type": "stream",
     "text": [
      " 16%|█▌        | 157/1000 [00:26<02:19,  6.04it/s]"
     ]
    },
    {
     "name": "stdout",
     "output_type": "stream",
     "text": [
      "Epoch loss : 2.450678428426767\n",
      "Epoch loss : 2.4442817586432595\n"
     ]
    },
    {
     "name": "stderr",
     "output_type": "stream",
     "text": [
      " 16%|█▌        | 159/1000 [00:26<02:13,  6.29it/s]"
     ]
    },
    {
     "name": "stdout",
     "output_type": "stream",
     "text": [
      "Epoch loss : 2.4379277078222623\n",
      "Epoch loss : 2.4316166669392736\n"
     ]
    },
    {
     "name": "stderr",
     "output_type": "stream",
     "text": [
      " 16%|█▌        | 161/1000 [00:27<02:11,  6.37it/s]"
     ]
    },
    {
     "name": "stdout",
     "output_type": "stream",
     "text": [
      "Epoch loss : 2.4253476281799378\n",
      "Epoch loss : 2.419119760793929\n"
     ]
    },
    {
     "name": "stderr",
     "output_type": "stream",
     "text": [
      " 16%|█▋        | 163/1000 [00:27<02:11,  6.38it/s]"
     ]
    },
    {
     "name": "stdout",
     "output_type": "stream",
     "text": [
      "Epoch loss : 2.4129327896053407\n",
      "Epoch loss : 2.406786882076527\n"
     ]
    },
    {
     "name": "stderr",
     "output_type": "stream",
     "text": [
      " 16%|█▋        | 165/1000 [00:27<02:11,  6.35it/s]"
     ]
    },
    {
     "name": "stdout",
     "output_type": "stream",
     "text": [
      "Epoch loss : 2.40068038616602\n",
      "Epoch loss : 2.3946142248782243\n"
     ]
    },
    {
     "name": "stderr",
     "output_type": "stream",
     "text": [
      " 17%|█▋        | 167/1000 [00:28<02:10,  6.39it/s]"
     ]
    },
    {
     "name": "stdout",
     "output_type": "stream",
     "text": [
      "Epoch loss : 2.3885874701408016\n",
      "Epoch loss : 2.3825992845311137\n"
     ]
    },
    {
     "name": "stderr",
     "output_type": "stream",
     "text": [
      " 17%|█▋        | 169/1000 [00:28<02:09,  6.40it/s]"
     ]
    },
    {
     "name": "stdout",
     "output_type": "stream",
     "text": [
      "Epoch loss : 2.37664919039678\n",
      "Epoch loss : 2.370737322833411\n"
     ]
    },
    {
     "name": "stderr",
     "output_type": "stream",
     "text": [
      " 17%|█▋        | 171/1000 [00:28<02:07,  6.50it/s]"
     ]
    },
    {
     "name": "stdout",
     "output_type": "stream",
     "text": [
      "Epoch loss : 2.364863151960513\n",
      "Epoch loss : 2.3590261443734866\n"
     ]
    },
    {
     "name": "stderr",
     "output_type": "stream",
     "text": [
      " 17%|█▋        | 173/1000 [00:29<02:06,  6.52it/s]"
     ]
    },
    {
     "name": "stdout",
     "output_type": "stream",
     "text": [
      "Epoch loss : 2.353224992623856\n",
      "Epoch loss : 2.3474608260496503\n"
     ]
    },
    {
     "name": "stderr",
     "output_type": "stream",
     "text": [
      " 18%|█▊        | 175/1000 [00:29<02:08,  6.43it/s]"
     ]
    },
    {
     "name": "stdout",
     "output_type": "stream",
     "text": [
      "Epoch loss : 2.3417319603144438\n",
      "Epoch loss : 2.3360401822294508\n"
     ]
    },
    {
     "name": "stderr",
     "output_type": "stream",
     "text": [
      "\r",
      " 18%|█▊        | 176/1000 [00:29<02:09,  6.38it/s]"
     ]
    },
    {
     "name": "stdout",
     "output_type": "stream",
     "text": [
      "Epoch loss : 2.3303826280513946\n"
     ]
    },
    {
     "name": "stderr",
     "output_type": "stream",
     "text": [
      " 18%|█▊        | 178/1000 [00:29<02:27,  5.57it/s]"
     ]
    },
    {
     "name": "stdout",
     "output_type": "stream",
     "text": [
      "Epoch loss : 2.324760696988995\n",
      "Epoch loss : 2.319173120802708\n"
     ]
    },
    {
     "name": "stderr",
     "output_type": "stream",
     "text": [
      " 18%|█▊        | 180/1000 [00:30<02:17,  5.94it/s]"
     ]
    },
    {
     "name": "stdout",
     "output_type": "stream",
     "text": [
      "Epoch loss : 2.3136198220605957\n",
      "Epoch loss : 2.3081001093486946\n"
     ]
    },
    {
     "name": "stderr",
     "output_type": "stream",
     "text": [
      " 18%|█▊        | 182/1000 [00:30<02:13,  6.14it/s]"
     ]
    },
    {
     "name": "stdout",
     "output_type": "stream",
     "text": [
      "Epoch loss : 2.30261472566681\n",
      "Epoch loss : 2.2971618982101534\n"
     ]
    },
    {
     "name": "stderr",
     "output_type": "stream",
     "text": [
      "\r",
      " 18%|█▊        | 183/1000 [00:30<02:10,  6.28it/s]"
     ]
    },
    {
     "name": "stdout",
     "output_type": "stream",
     "text": [
      "Epoch loss : 2.2917419499517138\n"
     ]
    },
    {
     "name": "stderr",
     "output_type": "stream",
     "text": [
      "\r",
      " 18%|█▊        | 184/1000 [00:30<02:30,  5.42it/s]"
     ]
    },
    {
     "name": "stdout",
     "output_type": "stream",
     "text": [
      "Epoch loss : 2.2863544383353513\n"
     ]
    },
    {
     "name": "stderr",
     "output_type": "stream",
     "text": [
      " 19%|█▊        | 186/1000 [00:31<02:55,  4.63it/s]"
     ]
    },
    {
     "name": "stdout",
     "output_type": "stream",
     "text": [
      "Epoch loss : 2.280999750446629\n",
      "Epoch loss : 2.2756761376800076\n"
     ]
    },
    {
     "name": "stderr",
     "output_type": "stream",
     "text": [
      " 19%|█▉        | 188/1000 [00:31<02:30,  5.40it/s]"
     ]
    },
    {
     "name": "stdout",
     "output_type": "stream",
     "text": [
      "Epoch loss : 2.2703846100020537\n",
      "Epoch loss : 2.265123911636307\n"
     ]
    },
    {
     "name": "stderr",
     "output_type": "stream",
     "text": [
      " 19%|█▉        | 190/1000 [00:32<02:21,  5.71it/s]"
     ]
    },
    {
     "name": "stdout",
     "output_type": "stream",
     "text": [
      "Epoch loss : 2.2598946628557943\n",
      "Epoch loss : 2.254696665221139\n"
     ]
    },
    {
     "name": "stderr",
     "output_type": "stream",
     "text": [
      " 19%|█▉        | 192/1000 [00:32<02:15,  5.97it/s]"
     ]
    },
    {
     "name": "stdout",
     "output_type": "stream",
     "text": [
      "Epoch loss : 2.249529105187711\n",
      "Epoch loss : 2.244391080988571\n"
     ]
    },
    {
     "name": "stderr",
     "output_type": "stream",
     "text": [
      " 19%|█▉        | 194/1000 [00:32<02:13,  6.06it/s]"
     ]
    },
    {
     "name": "stdout",
     "output_type": "stream",
     "text": [
      "Epoch loss : 2.239283434464524\n",
      "Epoch loss : 2.234205230308562\n"
     ]
    },
    {
     "name": "stderr",
     "output_type": "stream",
     "text": [
      " 20%|█▉        | 196/1000 [00:33<02:10,  6.17it/s]"
     ]
    },
    {
     "name": "stdout",
     "output_type": "stream",
     "text": [
      "Epoch loss : 2.2291564991015655\n",
      "Epoch loss : 2.224136783772585\n"
     ]
    },
    {
     "name": "stderr",
     "output_type": "stream",
     "text": [
      " 20%|█▉        | 198/1000 [00:33<02:08,  6.25it/s]"
     ]
    },
    {
     "name": "stdout",
     "output_type": "stream",
     "text": [
      "Epoch loss : 2.2191461557149887\n",
      "Epoch loss : 2.2141837774473005\n"
     ]
    },
    {
     "name": "stderr",
     "output_type": "stream",
     "text": [
      " 20%|██        | 200/1000 [00:33<02:06,  6.33it/s]"
     ]
    },
    {
     "name": "stdout",
     "output_type": "stream",
     "text": [
      "Epoch loss : 2.2092495872117768\n",
      "Epoch loss : 2.204343351781368\n"
     ]
    },
    {
     "name": "stderr",
     "output_type": "stream",
     "text": [
      " 20%|██        | 202/1000 [00:34<02:14,  5.92it/s]"
     ]
    },
    {
     "name": "stdout",
     "output_type": "stream",
     "text": [
      "Epoch loss : 2.1994650679085384\n",
      "Epoch loss : 2.194613857853531\n"
     ]
    },
    {
     "name": "stderr",
     "output_type": "stream",
     "text": [
      "\r",
      " 20%|██        | 203/1000 [00:34<02:18,  5.74it/s]"
     ]
    },
    {
     "name": "stdout",
     "output_type": "stream",
     "text": [
      "Epoch loss : 2.1897903212185565\n"
     ]
    },
    {
     "name": "stderr",
     "output_type": "stream",
     "text": [
      " 20%|██        | 205/1000 [00:34<02:25,  5.46it/s]"
     ]
    },
    {
     "name": "stdout",
     "output_type": "stream",
     "text": [
      "Epoch loss : 2.1849933090513827\n",
      "Epoch loss : 2.1802241941690443\n"
     ]
    },
    {
     "name": "stderr",
     "output_type": "stream",
     "text": [
      " 21%|██        | 207/1000 [00:35<02:26,  5.39it/s]"
     ]
    },
    {
     "name": "stdout",
     "output_type": "stream",
     "text": [
      "Epoch loss : 2.1754811980597024\n",
      "Epoch loss : 2.1707651326132282\n"
     ]
    },
    {
     "name": "stderr",
     "output_type": "stream",
     "text": [
      " 21%|██        | 209/1000 [00:35<02:28,  5.32it/s]"
     ]
    },
    {
     "name": "stdout",
     "output_type": "stream",
     "text": [
      "Epoch loss : 2.1660752428953463\n",
      "Epoch loss : 2.161411411528382\n"
     ]
    },
    {
     "name": "stderr",
     "output_type": "stream",
     "text": [
      " 21%|██        | 211/1000 [00:35<02:28,  5.30it/s]"
     ]
    },
    {
     "name": "stdout",
     "output_type": "stream",
     "text": [
      "Epoch loss : 2.1567728026821498\n",
      "Epoch loss : 2.152159385144428\n"
     ]
    },
    {
     "name": "stderr",
     "output_type": "stream",
     "text": [
      " 21%|██▏       | 213/1000 [00:36<02:28,  5.31it/s]"
     ]
    },
    {
     "name": "stdout",
     "output_type": "stream",
     "text": [
      "Epoch loss : 2.1475717562577636\n",
      "Epoch loss : 2.1430082382590556\n"
     ]
    },
    {
     "name": "stderr",
     "output_type": "stream",
     "text": [
      " 22%|██▏       | 215/1000 [00:36<02:27,  5.32it/s]"
     ]
    },
    {
     "name": "stdout",
     "output_type": "stream",
     "text": [
      "Epoch loss : 2.1384702489754863\n",
      "Epoch loss : 2.133956446789032\n"
     ]
    },
    {
     "name": "stderr",
     "output_type": "stream",
     "text": [
      " 22%|██▏       | 217/1000 [00:36<02:26,  5.33it/s]"
     ]
    },
    {
     "name": "stdout",
     "output_type": "stream",
     "text": [
      "Epoch loss : 2.1294669600879703\n",
      "Epoch loss : 2.125001620622824\n"
     ]
    },
    {
     "name": "stderr",
     "output_type": "stream",
     "text": [
      " 22%|██▏       | 219/1000 [00:37<02:27,  5.31it/s]"
     ]
    },
    {
     "name": "stdout",
     "output_type": "stream",
     "text": [
      "Epoch loss : 2.1205607157590194\n",
      "Epoch loss : 2.116143144431724\n"
     ]
    },
    {
     "name": "stderr",
     "output_type": "stream",
     "text": [
      " 22%|██▏       | 221/1000 [00:37<02:22,  5.47it/s]"
     ]
    },
    {
     "name": "stdout",
     "output_type": "stream",
     "text": [
      "Epoch loss : 2.1117486561292953\n",
      "Epoch loss : 2.1073787484098885\n"
     ]
    },
    {
     "name": "stderr",
     "output_type": "stream",
     "text": [
      " 22%|██▏       | 223/1000 [00:37<02:14,  5.79it/s]"
     ]
    },
    {
     "name": "stdout",
     "output_type": "stream",
     "text": [
      "Epoch loss : 2.103031404222454\n",
      "Epoch loss : 2.098706601780626\n"
     ]
    },
    {
     "name": "stderr",
     "output_type": "stream",
     "text": [
      " 22%|██▎       | 225/1000 [00:38<02:10,  5.95it/s]"
     ]
    },
    {
     "name": "stdout",
     "output_type": "stream",
     "text": [
      "Epoch loss : 2.094405264284994\n",
      "Epoch loss : 2.090126680217849\n"
     ]
    },
    {
     "name": "stderr",
     "output_type": "stream",
     "text": [
      " 23%|██▎       | 227/1000 [00:38<02:05,  6.14it/s]"
     ]
    },
    {
     "name": "stdout",
     "output_type": "stream",
     "text": [
      "Epoch loss : 2.085870565054691\n",
      "Epoch loss : 2.081637157172884\n"
     ]
    },
    {
     "name": "stderr",
     "output_type": "stream",
     "text": [
      " 23%|██▎       | 229/1000 [00:38<02:02,  6.31it/s]"
     ]
    },
    {
     "name": "stdout",
     "output_type": "stream",
     "text": [
      "Epoch loss : 2.077425892394886\n",
      "Epoch loss : 2.0732362762002445\n"
     ]
    },
    {
     "name": "stderr",
     "output_type": "stream",
     "text": [
      " 23%|██▎       | 231/1000 [00:39<02:00,  6.40it/s]"
     ]
    },
    {
     "name": "stdout",
     "output_type": "stream",
     "text": [
      "Epoch loss : 2.0690682840787846\n",
      "Epoch loss : 2.064922449681666\n"
     ]
    },
    {
     "name": "stderr",
     "output_type": "stream",
     "text": [
      " 23%|██▎       | 233/1000 [00:39<02:01,  6.31it/s]"
     ]
    },
    {
     "name": "stdout",
     "output_type": "stream",
     "text": [
      "Epoch loss : 2.060797491641394\n",
      "Epoch loss : 2.0566937204287288\n"
     ]
    },
    {
     "name": "stderr",
     "output_type": "stream",
     "text": [
      " 24%|██▎       | 235/1000 [00:39<01:59,  6.41it/s]"
     ]
    },
    {
     "name": "stdout",
     "output_type": "stream",
     "text": [
      "Epoch loss : 2.0526109593673647\n",
      "Epoch loss : 2.048549589486832\n"
     ]
    },
    {
     "name": "stderr",
     "output_type": "stream",
     "text": [
      " 24%|██▎       | 237/1000 [00:40<01:57,  6.51it/s]"
     ]
    },
    {
     "name": "stdout",
     "output_type": "stream",
     "text": [
      "Epoch loss : 2.044509028986854\n",
      "Epoch loss : 2.040489462827831\n"
     ]
    },
    {
     "name": "stderr",
     "output_type": "stream",
     "text": [
      " 24%|██▍       | 239/1000 [00:40<01:56,  6.51it/s]"
     ]
    },
    {
     "name": "stdout",
     "output_type": "stream",
     "text": [
      "Epoch loss : 2.0364894622238743\n",
      "Epoch loss : 2.0325104689872413\n"
     ]
    },
    {
     "name": "stderr",
     "output_type": "stream",
     "text": [
      " 24%|██▍       | 241/1000 [00:40<01:56,  6.51it/s]"
     ]
    },
    {
     "name": "stdout",
     "output_type": "stream",
     "text": [
      "Epoch loss : 2.0285511594762404\n",
      "Epoch loss : 2.0246119140811976\n"
     ]
    },
    {
     "name": "stderr",
     "output_type": "stream",
     "text": [
      " 24%|██▍       | 243/1000 [00:41<01:56,  6.47it/s]"
     ]
    },
    {
     "name": "stdout",
     "output_type": "stream",
     "text": [
      "Epoch loss : 2.0206921528439876\n",
      "Epoch loss : 2.0167923796716543\n"
     ]
    },
    {
     "name": "stderr",
     "output_type": "stream",
     "text": [
      " 24%|██▍       | 245/1000 [00:41<01:57,  6.42it/s]"
     ]
    },
    {
     "name": "stdout",
     "output_type": "stream",
     "text": [
      "Epoch loss : 2.012911947218121\n",
      "Epoch loss : 2.009051558482404\n"
     ]
    },
    {
     "name": "stderr",
     "output_type": "stream",
     "text": [
      " 25%|██▍       | 247/1000 [00:41<01:58,  6.35it/s]"
     ]
    },
    {
     "name": "stdout",
     "output_type": "stream",
     "text": [
      "Epoch loss : 2.005209945098656\n",
      "Epoch loss : 2.0013879395882612\n"
     ]
    },
    {
     "name": "stderr",
     "output_type": "stream",
     "text": [
      " 25%|██▍       | 249/1000 [00:42<01:57,  6.38it/s]"
     ]
    },
    {
     "name": "stdout",
     "output_type": "stream",
     "text": [
      "Epoch loss : 1.9975845462252055\n",
      "Epoch loss : 1.9938001775167074\n"
     ]
    },
    {
     "name": "stderr",
     "output_type": "stream",
     "text": [
      " 25%|██▌       | 251/1000 [00:42<01:57,  6.35it/s]"
     ]
    },
    {
     "name": "stdout",
     "output_type": "stream",
     "text": [
      "Epoch loss : 1.9900344969415664\n",
      "Epoch loss : 1.986287476681618\n"
     ]
    },
    {
     "name": "stderr",
     "output_type": "stream",
     "text": [
      " 25%|██▌       | 253/1000 [00:42<01:58,  6.33it/s]"
     ]
    },
    {
     "name": "stdout",
     "output_type": "stream",
     "text": [
      "Epoch loss : 1.9825589154708008\n",
      "Epoch loss : 1.9788483013937124\n"
     ]
    },
    {
     "name": "stderr",
     "output_type": "stream",
     "text": [
      " 26%|██▌       | 255/1000 [00:42<01:56,  6.39it/s]"
     ]
    },
    {
     "name": "stdout",
     "output_type": "stream",
     "text": [
      "Epoch loss : 1.975155965258756\n",
      "Epoch loss : 1.9714819390890646\n"
     ]
    },
    {
     "name": "stderr",
     "output_type": "stream",
     "text": [
      " 26%|██▌       | 257/1000 [00:43<01:58,  6.28it/s]"
     ]
    },
    {
     "name": "stdout",
     "output_type": "stream",
     "text": [
      "Epoch loss : 1.9678252969821914\n",
      "Epoch loss : 1.964186840704443\n"
     ]
    },
    {
     "name": "stderr",
     "output_type": "stream",
     "text": [
      " 26%|██▌       | 259/1000 [00:43<01:58,  6.26it/s]"
     ]
    },
    {
     "name": "stdout",
     "output_type": "stream",
     "text": [
      "Epoch loss : 1.960566240939521\n",
      "Epoch loss : 1.9569631748540062\n"
     ]
    },
    {
     "name": "stderr",
     "output_type": "stream",
     "text": [
      " 26%|██▌       | 261/1000 [00:43<01:55,  6.41it/s]"
     ]
    },
    {
     "name": "stdout",
     "output_type": "stream",
     "text": [
      "Epoch loss : 1.953377260024731\n",
      "Epoch loss : 1.9498090475226728\n"
     ]
    },
    {
     "name": "stderr",
     "output_type": "stream",
     "text": [
      " 26%|██▋       | 263/1000 [00:44<01:53,  6.47it/s]"
     ]
    },
    {
     "name": "stdout",
     "output_type": "stream",
     "text": [
      "Epoch loss : 1.946257384621915\n",
      "Epoch loss : 1.9427229445810101\n"
     ]
    },
    {
     "name": "stderr",
     "output_type": "stream",
     "text": [
      "\r",
      " 26%|██▋       | 264/1000 [00:44<01:53,  6.49it/s]"
     ]
    },
    {
     "name": "stdout",
     "output_type": "stream",
     "text": [
      "Epoch loss : 1.9392058031464166\n"
     ]
    },
    {
     "name": "stderr",
     "output_type": "stream",
     "text": [
      " 27%|██▋       | 266/1000 [00:44<02:13,  5.48it/s]"
     ]
    },
    {
     "name": "stdout",
     "output_type": "stream",
     "text": [
      "Epoch loss : 1.9357051305028627\n",
      "Epoch loss : 1.9322211648512604\n"
     ]
    },
    {
     "name": "stderr",
     "output_type": "stream",
     "text": [
      " 27%|██▋       | 268/1000 [00:45<02:04,  5.89it/s]"
     ]
    },
    {
     "name": "stdout",
     "output_type": "stream",
     "text": [
      "Epoch loss : 1.9287533411751971\n",
      "Epoch loss : 1.925301936533469\n"
     ]
    },
    {
     "name": "stderr",
     "output_type": "stream",
     "text": [
      " 27%|██▋       | 270/1000 [00:45<02:15,  5.37it/s]"
     ]
    },
    {
     "name": "stdout",
     "output_type": "stream",
     "text": [
      "Epoch loss : 1.9218671454638796\n",
      "Epoch loss : 1.9184482444745523\n"
     ]
    },
    {
     "name": "stderr",
     "output_type": "stream",
     "text": [
      " 27%|██▋       | 272/1000 [00:45<02:06,  5.77it/s]"
     ]
    },
    {
     "name": "stdout",
     "output_type": "stream",
     "text": [
      "Epoch loss : 1.9150458865500024\n",
      "Epoch loss : 1.9116590197976022\n"
     ]
    },
    {
     "name": "stderr",
     "output_type": "stream",
     "text": [
      " 27%|██▋       | 274/1000 [00:46<01:59,  6.07it/s]"
     ]
    },
    {
     "name": "stdout",
     "output_type": "stream",
     "text": [
      "Epoch loss : 1.9082886049599002\n",
      "Epoch loss : 1.9049336680748168\n"
     ]
    },
    {
     "name": "stderr",
     "output_type": "stream",
     "text": [
      " 28%|██▊       | 276/1000 [00:46<01:56,  6.21it/s]"
     ]
    },
    {
     "name": "stdout",
     "output_type": "stream",
     "text": [
      "Epoch loss : 1.9015945122718811\n",
      "Epoch loss : 1.898270310299552\n"
     ]
    },
    {
     "name": "stderr",
     "output_type": "stream",
     "text": [
      " 28%|██▊       | 278/1000 [00:46<01:54,  6.31it/s]"
     ]
    },
    {
     "name": "stdout",
     "output_type": "stream",
     "text": [
      "Epoch loss : 1.8949621889350217\n",
      "Epoch loss : 1.8916689280082855\n"
     ]
    },
    {
     "name": "stderr",
     "output_type": "stream",
     "text": [
      " 28%|██▊       | 280/1000 [00:47<01:52,  6.42it/s]"
     ]
    },
    {
     "name": "stdout",
     "output_type": "stream",
     "text": [
      "Epoch loss : 1.8883916071388456\n",
      "Epoch loss : 1.885129134808268\n"
     ]
    },
    {
     "name": "stderr",
     "output_type": "stream",
     "text": [
      " 28%|██▊       | 282/1000 [00:47<01:51,  6.41it/s]"
     ]
    },
    {
     "name": "stdout",
     "output_type": "stream",
     "text": [
      "Epoch loss : 1.881881804273222\n",
      "Epoch loss : 1.8786489175207226\n"
     ]
    },
    {
     "name": "stderr",
     "output_type": "stream",
     "text": [
      " 28%|██▊       | 284/1000 [00:47<02:05,  5.71it/s]"
     ]
    },
    {
     "name": "stdout",
     "output_type": "stream",
     "text": [
      "Epoch loss : 1.8754313263455045\n",
      "Epoch loss : 1.8722280415955563\n"
     ]
    },
    {
     "name": "stderr",
     "output_type": "stream",
     "text": [
      " 29%|██▊       | 286/1000 [00:48<02:08,  5.57it/s]"
     ]
    },
    {
     "name": "stdout",
     "output_type": "stream",
     "text": [
      "Epoch loss : 1.8690397607799163\n",
      "Epoch loss : 1.8658658855361538\n"
     ]
    },
    {
     "name": "stderr",
     "output_type": "stream",
     "text": [
      " 29%|██▉       | 288/1000 [00:48<02:08,  5.53it/s]"
     ]
    },
    {
     "name": "stdout",
     "output_type": "stream",
     "text": [
      "Epoch loss : 1.8627067567828641\n",
      "Epoch loss : 1.8595615359892448\n"
     ]
    },
    {
     "name": "stderr",
     "output_type": "stream",
     "text": [
      " 29%|██▉       | 290/1000 [00:48<02:11,  5.41it/s]"
     ]
    },
    {
     "name": "stdout",
     "output_type": "stream",
     "text": [
      "Epoch loss : 1.8564308021101572\n",
      "Epoch loss : 1.8533140817202371\n"
     ]
    },
    {
     "name": "stderr",
     "output_type": "stream",
     "text": [
      " 29%|██▉       | 292/1000 [00:49<02:09,  5.45it/s]"
     ]
    },
    {
     "name": "stdout",
     "output_type": "stream",
     "text": [
      "Epoch loss : 1.8502118018300262\n",
      "Epoch loss : 1.8471232867302143\n"
     ]
    },
    {
     "name": "stderr",
     "output_type": "stream",
     "text": [
      " 29%|██▉       | 294/1000 [00:49<02:10,  5.42it/s]"
     ]
    },
    {
     "name": "stdout",
     "output_type": "stream",
     "text": [
      "Epoch loss : 1.8440490916890089\n",
      "Epoch loss : 1.8409879940423837\n"
     ]
    },
    {
     "name": "stderr",
     "output_type": "stream",
     "text": [
      " 30%|██▉       | 296/1000 [00:50<02:13,  5.28it/s]"
     ]
    },
    {
     "name": "stdout",
     "output_type": "stream",
     "text": [
      "Epoch loss : 1.837940743959556\n",
      "Epoch loss : 1.8349068646132947\n"
     ]
    },
    {
     "name": "stderr",
     "output_type": "stream",
     "text": [
      " 30%|██▉       | 298/1000 [00:50<02:12,  5.30it/s]"
     ]
    },
    {
     "name": "stdout",
     "output_type": "stream",
     "text": [
      "Epoch loss : 1.8318871606339509\n",
      "Epoch loss : 1.82888017064773\n"
     ]
    },
    {
     "name": "stderr",
     "output_type": "stream",
     "text": [
      " 30%|███       | 300/1000 [00:50<02:12,  5.27it/s]"
     ]
    },
    {
     "name": "stdout",
     "output_type": "stream",
     "text": [
      "Epoch loss : 1.8258870177304865\n",
      "Epoch loss : 1.8229065101881823\n"
     ]
    },
    {
     "name": "stderr",
     "output_type": "stream",
     "text": [
      " 30%|███       | 302/1000 [00:51<02:03,  5.65it/s]"
     ]
    },
    {
     "name": "stdout",
     "output_type": "stream",
     "text": [
      "Epoch loss : 1.8199394691049855\n",
      "Epoch loss : 1.8169857174908088\n"
     ]
    },
    {
     "name": "stderr",
     "output_type": "stream",
     "text": [
      " 30%|███       | 304/1000 [00:51<01:57,  5.92it/s]"
     ]
    },
    {
     "name": "stdout",
     "output_type": "stream",
     "text": [
      "Epoch loss : 1.8140451712970294\n",
      "Epoch loss : 1.8111169500394086\n"
     ]
    },
    {
     "name": "stderr",
     "output_type": "stream",
     "text": [
      " 31%|███       | 306/1000 [00:51<01:55,  6.00it/s]"
     ]
    },
    {
     "name": "stdout",
     "output_type": "stream",
     "text": [
      "Epoch loss : 1.8082017318186212\n",
      "Epoch loss : 1.8052993351532742\n"
     ]
    },
    {
     "name": "stderr",
     "output_type": "stream",
     "text": [
      " 31%|███       | 308/1000 [00:52<01:53,  6.08it/s]"
     ]
    },
    {
     "name": "stdout",
     "output_type": "stream",
     "text": [
      "Epoch loss : 1.8024093682311646\n",
      "Epoch loss : 1.7995322513251335\n"
     ]
    },
    {
     "name": "stderr",
     "output_type": "stream",
     "text": [
      " 31%|███       | 310/1000 [00:52<01:50,  6.25it/s]"
     ]
    },
    {
     "name": "stdout",
     "output_type": "stream",
     "text": [
      "Epoch loss : 1.796667800561124\n",
      "Epoch loss : 1.7938153687965486\n"
     ]
    },
    {
     "name": "stderr",
     "output_type": "stream",
     "text": [
      " 31%|███       | 312/1000 [00:52<01:48,  6.35it/s]"
     ]
    },
    {
     "name": "stdout",
     "output_type": "stream",
     "text": [
      "Epoch loss : 1.7909756407956219\n",
      "Epoch loss : 1.7881475723821383\n"
     ]
    },
    {
     "name": "stderr",
     "output_type": "stream",
     "text": [
      " 31%|███▏      | 314/1000 [00:53<01:47,  6.40it/s]"
     ]
    },
    {
     "name": "stdout",
     "output_type": "stream",
     "text": [
      "Epoch loss : 1.785332606151081\n",
      "Epoch loss : 1.7825289748675504\n"
     ]
    },
    {
     "name": "stderr",
     "output_type": "stream",
     "text": [
      " 32%|███▏      | 316/1000 [00:53<01:45,  6.47it/s]"
     ]
    },
    {
     "name": "stdout",
     "output_type": "stream",
     "text": [
      "Epoch loss : 1.7797378657734584\n",
      "Epoch loss : 1.7769582452106325\n"
     ]
    },
    {
     "name": "stderr",
     "output_type": "stream",
     "text": [
      " 32%|███▏      | 318/1000 [00:53<01:44,  6.50it/s]"
     ]
    },
    {
     "name": "stdout",
     "output_type": "stream",
     "text": [
      "Epoch loss : 1.774191332466971\n",
      "Epoch loss : 1.7714357051759395\n"
     ]
    },
    {
     "name": "stderr",
     "output_type": "stream",
     "text": [
      " 32%|███▏      | 320/1000 [00:53<01:43,  6.54it/s]"
     ]
    },
    {
     "name": "stdout",
     "output_type": "stream",
     "text": [
      "Epoch loss : 1.7686917968229814\n",
      "Epoch loss : 1.765959402002394\n"
     ]
    },
    {
     "name": "stderr",
     "output_type": "stream",
     "text": [
      " 32%|███▏      | 322/1000 [00:54<01:43,  6.58it/s]"
     ]
    },
    {
     "name": "stdout",
     "output_type": "stream",
     "text": [
      "Epoch loss : 1.7632386827450304\n",
      "Epoch loss : 1.7605297438013627\n"
     ]
    },
    {
     "name": "stderr",
     "output_type": "stream",
     "text": [
      " 32%|███▏      | 324/1000 [00:54<01:43,  6.54it/s]"
     ]
    },
    {
     "name": "stdout",
     "output_type": "stream",
     "text": [
      "Epoch loss : 1.7578318244680162\n",
      "Epoch loss : 1.7551453742771237\n"
     ]
    },
    {
     "name": "stderr",
     "output_type": "stream",
     "text": [
      " 33%|███▎      | 326/1000 [00:54<01:43,  6.49it/s]"
     ]
    },
    {
     "name": "stdout",
     "output_type": "stream",
     "text": [
      "Epoch loss : 1.752470486993056\n",
      "Epoch loss : 1.7498070038041453\n"
     ]
    },
    {
     "name": "stderr",
     "output_type": "stream",
     "text": [
      " 33%|███▎      | 328/1000 [00:55<01:43,  6.47it/s]"
     ]
    },
    {
     "name": "stdout",
     "output_type": "stream",
     "text": [
      "Epoch loss : 1.7471547254856208\n",
      "Epoch loss : 1.744513259949844\n"
     ]
    },
    {
     "name": "stderr",
     "output_type": "stream",
     "text": [
      " 33%|███▎      | 330/1000 [00:55<01:44,  6.40it/s]"
     ]
    },
    {
     "name": "stdout",
     "output_type": "stream",
     "text": [
      "Epoch loss : 1.7418830182396532\n",
      "Epoch loss : 1.7392634184541125\n"
     ]
    },
    {
     "name": "stderr",
     "output_type": "stream",
     "text": [
      " 33%|███▎      | 332/1000 [00:55<01:43,  6.44it/s]"
     ]
    },
    {
     "name": "stdout",
     "output_type": "stream",
     "text": [
      "Epoch loss : 1.7366551958001992\n",
      "Epoch loss : 1.734057342216193\n"
     ]
    },
    {
     "name": "stderr",
     "output_type": "stream",
     "text": [
      " 33%|███▎      | 334/1000 [00:56<01:46,  6.28it/s]"
     ]
    },
    {
     "name": "stdout",
     "output_type": "stream",
     "text": [
      "Epoch loss : 1.7314705386587808\n",
      "Epoch loss : 1.7288941700283638\n"
     ]
    },
    {
     "name": "stderr",
     "output_type": "stream",
     "text": [
      " 34%|███▎      | 336/1000 [00:56<01:46,  6.25it/s]"
     ]
    },
    {
     "name": "stdout",
     "output_type": "stream",
     "text": [
      "Epoch loss : 1.7263287769129028\n",
      "Epoch loss : 1.723773679367843\n"
     ]
    },
    {
     "name": "stderr",
     "output_type": "stream",
     "text": [
      " 34%|███▍      | 338/1000 [00:56<01:44,  6.34it/s]"
     ]
    },
    {
     "name": "stdout",
     "output_type": "stream",
     "text": [
      "Epoch loss : 1.7212292484713592\n",
      "Epoch loss : 1.7186950597484436\n"
     ]
    },
    {
     "name": "stderr",
     "output_type": "stream",
     "text": [
      " 34%|███▍      | 340/1000 [00:57<01:44,  6.34it/s]"
     ]
    },
    {
     "name": "stdout",
     "output_type": "stream",
     "text": [
      "Epoch loss : 1.7161711759500446\n",
      "Epoch loss : 1.713657628054128\n"
     ]
    },
    {
     "name": "stderr",
     "output_type": "stream",
     "text": [
      " 34%|███▍      | 342/1000 [00:57<01:43,  6.36it/s]"
     ]
    },
    {
     "name": "stdout",
     "output_type": "stream",
     "text": [
      "Epoch loss : 1.7111544873515183\n",
      "Epoch loss : 1.70866187945444\n"
     ]
    },
    {
     "name": "stderr",
     "output_type": "stream",
     "text": [
      " 34%|███▍      | 344/1000 [00:57<01:42,  6.39it/s]"
     ]
    },
    {
     "name": "stdout",
     "output_type": "stream",
     "text": [
      "Epoch loss : 1.7061793258221434\n",
      "Epoch loss : 1.7037067184770522\n"
     ]
    },
    {
     "name": "stderr",
     "output_type": "stream",
     "text": [
      " 35%|███▍      | 346/1000 [00:58<01:43,  6.33it/s]"
     ]
    },
    {
     "name": "stdout",
     "output_type": "stream",
     "text": [
      "Epoch loss : 1.7012443541046502\n",
      "Epoch loss : 1.698791473985063\n"
     ]
    },
    {
     "name": "stderr",
     "output_type": "stream",
     "text": [
      " 35%|███▍      | 348/1000 [00:58<01:41,  6.41it/s]"
     ]
    },
    {
     "name": "stdout",
     "output_type": "stream",
     "text": [
      "Epoch loss : 1.696348885694567\n",
      "Epoch loss : 1.6939160385779266\n"
     ]
    },
    {
     "name": "stderr",
     "output_type": "stream",
     "text": [
      " 35%|███▌      | 350/1000 [00:58<01:42,  6.36it/s]"
     ]
    },
    {
     "name": "stdout",
     "output_type": "stream",
     "text": [
      "Epoch loss : 1.6914928997399814\n",
      "Epoch loss : 1.689079232258456\n"
     ]
    },
    {
     "name": "stderr",
     "output_type": "stream",
     "text": [
      " 35%|███▌      | 352/1000 [00:58<01:43,  6.25it/s]"
     ]
    },
    {
     "name": "stdout",
     "output_type": "stream",
     "text": [
      "Epoch loss : 1.686675112492848\n",
      "Epoch loss : 1.6842808010158214\n"
     ]
    },
    {
     "name": "stderr",
     "output_type": "stream",
     "text": [
      " 35%|███▌      | 354/1000 [00:59<01:41,  6.39it/s]"
     ]
    },
    {
     "name": "stdout",
     "output_type": "stream",
     "text": [
      "Epoch loss : 1.6818959541276899\n",
      "Epoch loss : 1.679520876002682\n"
     ]
    },
    {
     "name": "stderr",
     "output_type": "stream",
     "text": [
      " 36%|███▌      | 356/1000 [00:59<01:39,  6.45it/s]"
     ]
    },
    {
     "name": "stdout",
     "output_type": "stream",
     "text": [
      "Epoch loss : 1.6771552978796018\n",
      "Epoch loss : 1.6747992008212913\n"
     ]
    },
    {
     "name": "stderr",
     "output_type": "stream",
     "text": [
      " 36%|███▌      | 358/1000 [00:59<01:39,  6.42it/s]"
     ]
    },
    {
     "name": "stdout",
     "output_type": "stream",
     "text": [
      "Epoch loss : 1.6724522458271487\n",
      "Epoch loss : 1.6701146504649236\n"
     ]
    },
    {
     "name": "stderr",
     "output_type": "stream",
     "text": [
      " 36%|███▌      | 360/1000 [01:00<01:40,  6.36it/s]"
     ]
    },
    {
     "name": "stdout",
     "output_type": "stream",
     "text": [
      "Epoch loss : 1.667786206338233\n",
      "Epoch loss : 1.6654666647157734\n"
     ]
    },
    {
     "name": "stderr",
     "output_type": "stream",
     "text": [
      " 36%|███▌      | 362/1000 [01:00<01:40,  6.37it/s]"
     ]
    },
    {
     "name": "stdout",
     "output_type": "stream",
     "text": [
      "Epoch loss : 1.6631566639644948\n",
      "Epoch loss : 1.660855518965596\n"
     ]
    },
    {
     "name": "stderr",
     "output_type": "stream",
     "text": [
      " 36%|███▋      | 364/1000 [01:00<01:40,  6.31it/s]"
     ]
    },
    {
     "name": "stdout",
     "output_type": "stream",
     "text": [
      "Epoch loss : 1.658563677186644\n",
      "Epoch loss : 1.6562804949381849\n"
     ]
    },
    {
     "name": "stderr",
     "output_type": "stream",
     "text": [
      " 37%|███▋      | 366/1000 [01:01<01:52,  5.65it/s]"
     ]
    },
    {
     "name": "stdout",
     "output_type": "stream",
     "text": [
      "Epoch loss : 1.6540065424515777\n",
      "Epoch loss : 1.6517413268828653\n"
     ]
    },
    {
     "name": "stderr",
     "output_type": "stream",
     "text": [
      "\r",
      " 37%|███▋      | 367/1000 [01:01<01:54,  5.53it/s]"
     ]
    },
    {
     "name": "stdout",
     "output_type": "stream",
     "text": [
      "Epoch loss : 1.649484998124172\n",
      "Epoch loss : 1.6472376023265332"
     ]
    },
    {
     "name": "stderr",
     "output_type": "stream",
     "text": [
      " 37%|███▋      | 369/1000 [01:01<01:57,  5.36it/s]"
     ]
    },
    {
     "name": "stdout",
     "output_type": "stream",
     "text": [
      "\n",
      "Epoch loss : 1.6449985455545952\n"
     ]
    },
    {
     "name": "stderr",
     "output_type": "stream",
     "text": [
      "\r",
      " 37%|███▋      | 370/1000 [01:02<02:01,  5.20it/s]"
     ]
    },
    {
     "name": "stdout",
     "output_type": "stream",
     "text": [
      "Epoch loss : 1.6427682985019039\n"
     ]
    },
    {
     "name": "stderr",
     "output_type": "stream",
     "text": [
      " 37%|███▋      | 372/1000 [01:02<02:02,  5.15it/s]"
     ]
    },
    {
     "name": "stdout",
     "output_type": "stream",
     "text": [
      "Epoch loss : 1.6405466677083802\n",
      "Epoch loss : 1.6383338129127858\n"
     ]
    },
    {
     "name": "stderr",
     "output_type": "stream",
     "text": [
      " 37%|███▋      | 374/1000 [01:02<02:01,  5.15it/s]"
     ]
    },
    {
     "name": "stdout",
     "output_type": "stream",
     "text": [
      "Epoch loss : 1.6361292093353041\n",
      "Epoch loss : 1.633932964841631\n"
     ]
    },
    {
     "name": "stderr",
     "output_type": "stream",
     "text": [
      " 38%|███▊      | 376/1000 [01:03<02:00,  5.17it/s]"
     ]
    },
    {
     "name": "stdout",
     "output_type": "stream",
     "text": [
      "Epoch loss : 1.6317451172947883\n",
      "Epoch loss : 1.6295655703322685\n"
     ]
    },
    {
     "name": "stderr",
     "output_type": "stream",
     "text": [
      " 38%|███▊      | 378/1000 [01:03<02:00,  5.17it/s]"
     ]
    },
    {
     "name": "stdout",
     "output_type": "stream",
     "text": [
      "Epoch loss : 1.6273944306294545\n",
      "Epoch loss : 1.625231301132491\n"
     ]
    },
    {
     "name": "stderr",
     "output_type": "stream",
     "text": [
      " 38%|███▊      | 380/1000 [01:03<01:59,  5.17it/s]"
     ]
    },
    {
     "name": "stdout",
     "output_type": "stream",
     "text": [
      "Epoch loss : 1.6230769457422334\n",
      "Epoch loss : 1.6209304110839178\n"
     ]
    },
    {
     "name": "stderr",
     "output_type": "stream",
     "text": [
      " 38%|███▊      | 382/1000 [01:04<01:57,  5.28it/s]"
     ]
    },
    {
     "name": "stdout",
     "output_type": "stream",
     "text": [
      "Epoch loss : 1.6187922867960505\n",
      "Epoch loss : 1.6166620774231657\n"
     ]
    },
    {
     "name": "stderr",
     "output_type": "stream",
     "text": [
      " 38%|███▊      | 384/1000 [01:04<01:48,  5.68it/s]"
     ]
    },
    {
     "name": "stdout",
     "output_type": "stream",
     "text": [
      "Epoch loss : 1.6145404065254463\n",
      "Epoch loss : 1.612426353385672\n"
     ]
    },
    {
     "name": "stderr",
     "output_type": "stream",
     "text": [
      " 39%|███▊      | 386/1000 [01:05<01:42,  6.01it/s]"
     ]
    },
    {
     "name": "stdout",
     "output_type": "stream",
     "text": [
      "Epoch loss : 1.6103204399765312\n",
      "Epoch loss : 1.608222207677951\n"
     ]
    },
    {
     "name": "stderr",
     "output_type": "stream",
     "text": [
      " 39%|███▉      | 388/1000 [01:05<01:39,  6.13it/s]"
     ]
    },
    {
     "name": "stdout",
     "output_type": "stream",
     "text": [
      "Epoch loss : 1.606131830321726\n",
      "Epoch loss : 1.6040491612270935\n"
     ]
    },
    {
     "name": "stderr",
     "output_type": "stream",
     "text": [
      " 39%|███▉      | 390/1000 [01:05<01:36,  6.31it/s]"
     ]
    },
    {
     "name": "stdout",
     "output_type": "stream",
     "text": [
      "Epoch loss : 1.6019744378688403\n",
      "Epoch loss : 1.5999074415679162\n"
     ]
    },
    {
     "name": "stderr",
     "output_type": "stream",
     "text": [
      " 39%|███▉      | 392/1000 [01:05<01:36,  6.32it/s]"
     ]
    },
    {
     "name": "stdout",
     "output_type": "stream",
     "text": [
      "Epoch loss : 1.5978483126703125\n",
      "Epoch loss : 1.5957966830528207\n"
     ]
    },
    {
     "name": "stderr",
     "output_type": "stream",
     "text": [
      " 39%|███▉      | 394/1000 [01:06<01:36,  6.30it/s]"
     ]
    },
    {
     "name": "stdout",
     "output_type": "stream",
     "text": [
      "Epoch loss : 1.5937528064050748\n",
      "Epoch loss : 1.5917161605072203\n"
     ]
    },
    {
     "name": "stderr",
     "output_type": "stream",
     "text": [
      " 40%|███▉      | 396/1000 [01:06<01:37,  6.22it/s]"
     ]
    },
    {
     "name": "stdout",
     "output_type": "stream",
     "text": [
      "Epoch loss : 1.5896874367655078\n",
      "Epoch loss : 1.5876660008276955\n"
     ]
    },
    {
     "name": "stderr",
     "output_type": "stream",
     "text": [
      " 40%|███▉      | 398/1000 [01:06<01:35,  6.32it/s]"
     ]
    },
    {
     "name": "stdout",
     "output_type": "stream",
     "text": [
      "Epoch loss : 1.585652069345079\n",
      "Epoch loss : 1.5836453409627753\n"
     ]
    },
    {
     "name": "stderr",
     "output_type": "stream",
     "text": [
      " 40%|████      | 400/1000 [01:07<01:34,  6.33it/s]"
     ]
    },
    {
     "name": "stdout",
     "output_type": "stream",
     "text": [
      "Epoch loss : 1.5816464142960713\n",
      "Epoch loss : 1.5796545321822166\n"
     ]
    },
    {
     "name": "stderr",
     "output_type": "stream",
     "text": [
      " 40%|████      | 402/1000 [01:07<01:33,  6.41it/s]"
     ]
    },
    {
     "name": "stdout",
     "output_type": "stream",
     "text": [
      "Epoch loss : 1.5776699668704126\n",
      "Epoch loss : 1.5756925088752858\n"
     ]
    },
    {
     "name": "stderr",
     "output_type": "stream",
     "text": [
      " 40%|████      | 404/1000 [01:07<01:32,  6.43it/s]"
     ]
    },
    {
     "name": "stdout",
     "output_type": "stream",
     "text": [
      "Epoch loss : 1.5737222532709834\n",
      "Epoch loss : 1.5717594557196493\n"
     ]
    },
    {
     "name": "stderr",
     "output_type": "stream",
     "text": [
      " 41%|████      | 406/1000 [01:08<01:33,  6.37it/s]"
     ]
    },
    {
     "name": "stdout",
     "output_type": "stream",
     "text": [
      "Epoch loss : 1.5698038339062974\n",
      "Epoch loss : 1.5678552741282092\n"
     ]
    },
    {
     "name": "stderr",
     "output_type": "stream",
     "text": [
      " 41%|████      | 408/1000 [01:08<01:31,  6.44it/s]"
     ]
    },
    {
     "name": "stdout",
     "output_type": "stream",
     "text": [
      "Epoch loss : 1.5659137710225963\n",
      "Epoch loss : 1.5639789662283718\n"
     ]
    },
    {
     "name": "stderr",
     "output_type": "stream",
     "text": [
      " 41%|████      | 410/1000 [01:08<01:30,  6.54it/s]"
     ]
    },
    {
     "name": "stdout",
     "output_type": "stream",
     "text": [
      "Epoch loss : 1.5620516087526506\n",
      "Epoch loss : 1.5601305790921536\n"
     ]
    },
    {
     "name": "stderr",
     "output_type": "stream",
     "text": [
      " 41%|████      | 412/1000 [01:09<01:29,  6.55it/s]"
     ]
    },
    {
     "name": "stdout",
     "output_type": "stream",
     "text": [
      "Epoch loss : 1.5582169826781953\n",
      "Epoch loss : 1.5563100058759012\n"
     ]
    },
    {
     "name": "stderr",
     "output_type": "stream",
     "text": [
      " 41%|████▏     | 414/1000 [01:09<01:30,  6.48it/s]"
     ]
    },
    {
     "name": "stdout",
     "output_type": "stream",
     "text": [
      "Epoch loss : 1.5544103242193528\n",
      "Epoch loss : 1.5525169283417977\n"
     ]
    },
    {
     "name": "stderr",
     "output_type": "stream",
     "text": [
      " 42%|████▏     | 416/1000 [01:09<01:29,  6.55it/s]"
     ]
    },
    {
     "name": "stdout",
     "output_type": "stream",
     "text": [
      "Epoch loss : 1.5506305089937635\n",
      "Epoch loss : 1.548750783817556\n"
     ]
    },
    {
     "name": "stderr",
     "output_type": "stream",
     "text": [
      " 42%|████▏     | 418/1000 [01:10<01:29,  6.50it/s]"
     ]
    },
    {
     "name": "stdout",
     "output_type": "stream",
     "text": [
      "Epoch loss : 1.546877772966735\n",
      "Epoch loss : 1.5450113841620359\n"
     ]
    },
    {
     "name": "stderr",
     "output_type": "stream",
     "text": [
      " 42%|████▏     | 420/1000 [01:10<01:29,  6.51it/s]"
     ]
    },
    {
     "name": "stdout",
     "output_type": "stream",
     "text": [
      "Epoch loss : 1.5431514586547395\n",
      "Epoch loss : 1.5412983613965057\n"
     ]
    },
    {
     "name": "stderr",
     "output_type": "stream",
     "text": [
      " 42%|████▏     | 422/1000 [01:10<01:29,  6.45it/s]"
     ]
    },
    {
     "name": "stdout",
     "output_type": "stream",
     "text": [
      "Epoch loss : 1.539451656679926\n",
      "Epoch loss : 1.5376115444945215\n"
     ]
    },
    {
     "name": "stderr",
     "output_type": "stream",
     "text": [
      " 42%|████▏     | 424/1000 [01:10<01:28,  6.48it/s]"
     ]
    },
    {
     "name": "stdout",
     "output_type": "stream",
     "text": [
      "Epoch loss : 1.5357780168446806\n",
      "Epoch loss : 1.5339507628126807\n"
     ]
    },
    {
     "name": "stderr",
     "output_type": "stream",
     "text": [
      " 43%|████▎     | 426/1000 [01:11<01:28,  6.48it/s]"
     ]
    },
    {
     "name": "stdout",
     "output_type": "stream",
     "text": [
      "Epoch loss : 1.5321300516717573\n",
      "Epoch loss : 1.5303156661210766\n"
     ]
    },
    {
     "name": "stderr",
     "output_type": "stream",
     "text": [
      " 43%|████▎     | 428/1000 [01:11<01:29,  6.38it/s]"
     ]
    },
    {
     "name": "stdout",
     "output_type": "stream",
     "text": [
      "Epoch loss : 1.5285079285781613\n",
      "Epoch loss : 1.5267060628157352\n"
     ]
    },
    {
     "name": "stderr",
     "output_type": "stream",
     "text": [
      " 43%|████▎     | 430/1000 [01:11<01:30,  6.33it/s]"
     ]
    },
    {
     "name": "stdout",
     "output_type": "stream",
     "text": [
      "Epoch loss : 1.524910795227353\n",
      "Epoch loss : 1.523121587896763\n"
     ]
    },
    {
     "name": "stderr",
     "output_type": "stream",
     "text": [
      " 43%|████▎     | 432/1000 [01:12<01:29,  6.34it/s]"
     ]
    },
    {
     "name": "stdout",
     "output_type": "stream",
     "text": [
      "Epoch loss : 1.5213386330195204\n",
      "Epoch loss : 1.519561697723413\n"
     ]
    },
    {
     "name": "stderr",
     "output_type": "stream",
     "text": [
      " 43%|████▎     | 434/1000 [01:12<01:27,  6.46it/s]"
     ]
    },
    {
     "name": "stdout",
     "output_type": "stream",
     "text": [
      "Epoch loss : 1.5177911769827575\n",
      "Epoch loss : 1.5160264565442014\n"
     ]
    },
    {
     "name": "stderr",
     "output_type": "stream",
     "text": [
      " 44%|████▎     | 436/1000 [01:12<01:27,  6.47it/s]"
     ]
    },
    {
     "name": "stdout",
     "output_type": "stream",
     "text": [
      "Epoch loss : 1.5142678261234843\n",
      "Epoch loss : 1.5125154110051076\n"
     ]
    },
    {
     "name": "stderr",
     "output_type": "stream",
     "text": [
      " 44%|████▍     | 438/1000 [01:13<01:26,  6.53it/s]"
     ]
    },
    {
     "name": "stdout",
     "output_type": "stream",
     "text": [
      "Epoch loss : 1.510768905712347\n",
      "Epoch loss : 1.5090284339763802\n"
     ]
    },
    {
     "name": "stderr",
     "output_type": "stream",
     "text": [
      " 44%|████▍     | 440/1000 [01:13<01:26,  6.45it/s]"
     ]
    },
    {
     "name": "stdout",
     "output_type": "stream",
     "text": [
      "Epoch loss : 1.5072940118722873\n",
      "Epoch loss : 1.5055656904876231\n"
     ]
    },
    {
     "name": "stderr",
     "output_type": "stream",
     "text": [
      " 44%|████▍     | 442/1000 [01:13<01:25,  6.50it/s]"
     ]
    },
    {
     "name": "stdout",
     "output_type": "stream",
     "text": [
      "Epoch loss : 1.5038434623509578\n",
      "Epoch loss : 1.5021269560797452\n"
     ]
    },
    {
     "name": "stderr",
     "output_type": "stream",
     "text": [
      " 44%|████▍     | 444/1000 [01:14<01:25,  6.54it/s]"
     ]
    },
    {
     "name": "stdout",
     "output_type": "stream",
     "text": [
      "Epoch loss : 1.500416793229214\n",
      "Epoch loss : 1.4987118791063896\n"
     ]
    },
    {
     "name": "stderr",
     "output_type": "stream",
     "text": [
      " 45%|████▍     | 446/1000 [01:14<01:28,  6.25it/s]"
     ]
    },
    {
     "name": "stdout",
     "output_type": "stream",
     "text": [
      "Epoch loss : 1.4970129544406794\n",
      "Epoch loss : 1.4953194859055927\n"
     ]
    },
    {
     "name": "stderr",
     "output_type": "stream",
     "text": [
      " 45%|████▍     | 448/1000 [01:14<01:35,  5.79it/s]"
     ]
    },
    {
     "name": "stdout",
     "output_type": "stream",
     "text": [
      "Epoch loss : 1.493632044960855\n",
      "Epoch loss : 1.4919500754946577\n"
     ]
    },
    {
     "name": "stderr",
     "output_type": "stream",
     "text": [
      " 45%|████▌     | 450/1000 [01:15<01:37,  5.63it/s]"
     ]
    },
    {
     "name": "stdout",
     "output_type": "stream",
     "text": [
      "Epoch loss : 1.49027387290662\n",
      "Epoch loss : 1.4886031708319982\n"
     ]
    },
    {
     "name": "stderr",
     "output_type": "stream",
     "text": [
      " 45%|████▌     | 452/1000 [01:15<01:40,  5.47it/s]"
     ]
    },
    {
     "name": "stdout",
     "output_type": "stream",
     "text": [
      "Epoch loss : 1.48693814128373\n",
      "Epoch loss : 1.4852786730935352\n"
     ]
    },
    {
     "name": "stderr",
     "output_type": "stream",
     "text": [
      " 45%|████▌     | 454/1000 [01:15<01:43,  5.28it/s]"
     ]
    },
    {
     "name": "stdout",
     "output_type": "stream",
     "text": [
      "Epoch loss : 1.4836247748807565\n",
      "Epoch loss : 1.4819764445544865\n"
     ]
    },
    {
     "name": "stderr",
     "output_type": "stream",
     "text": [
      " 46%|████▌     | 456/1000 [01:16<01:42,  5.31it/s]"
     ]
    },
    {
     "name": "stdout",
     "output_type": "stream",
     "text": [
      "Epoch loss : 1.480333580681911\n",
      "Epoch loss : 1.478696119654597\n"
     ]
    },
    {
     "name": "stderr",
     "output_type": "stream",
     "text": [
      " 46%|████▌     | 458/1000 [01:16<01:43,  5.26it/s]"
     ]
    },
    {
     "name": "stdout",
     "output_type": "stream",
     "text": [
      "Epoch loss : 1.4770641617832352\n",
      "Epoch loss : 1.475437385100855\n"
     ]
    },
    {
     "name": "stderr",
     "output_type": "stream",
     "text": [
      "\r",
      " 46%|████▌     | 459/1000 [01:16<01:42,  5.28it/s]"
     ]
    },
    {
     "name": "stdout",
     "output_type": "stream",
     "text": [
      "Epoch loss : 1.4738163184833941\n"
     ]
    },
    {
     "name": "stderr",
     "output_type": "stream",
     "text": [
      " 46%|████▌     | 461/1000 [01:17<01:43,  5.21it/s]"
     ]
    },
    {
     "name": "stdout",
     "output_type": "stream",
     "text": [
      "Epoch loss : 1.4722003319859505\n",
      "Epoch loss : 1.4705901220486117\n"
     ]
    },
    {
     "name": "stderr",
     "output_type": "stream",
     "text": [
      "\r",
      " 46%|████▌     | 462/1000 [01:17<01:43,  5.18it/s]"
     ]
    },
    {
     "name": "stdout",
     "output_type": "stream",
     "text": [
      "Epoch loss : 1.46898492998246\n"
     ]
    },
    {
     "name": "stderr",
     "output_type": "stream",
     "text": [
      "\r",
      " 46%|████▋     | 463/1000 [01:17<01:46,  5.06it/s]"
     ]
    },
    {
     "name": "stdout",
     "output_type": "stream",
     "text": [
      "Epoch loss : 1.4673852077731562\n",
      "Epoch loss : 1.4657905712775114"
     ]
    },
    {
     "name": "stderr",
     "output_type": "stream",
     "text": [
      " 46%|████▋     | 465/1000 [01:17<01:40,  5.31it/s]"
     ]
    },
    {
     "name": "stdout",
     "output_type": "stream",
     "text": [
      "\n",
      "Epoch loss : 1.464201180035709\n"
     ]
    },
    {
     "name": "stderr",
     "output_type": "stream",
     "text": [
      " 47%|████▋     | 467/1000 [01:18<01:33,  5.71it/s]"
     ]
    },
    {
     "name": "stdout",
     "output_type": "stream",
     "text": [
      "Epoch loss : 1.4626171675081416\n",
      "Epoch loss : 1.4610383338648707\n"
     ]
    },
    {
     "name": "stderr",
     "output_type": "stream",
     "text": [
      " 47%|████▋     | 469/1000 [01:18<01:29,  5.92it/s]"
     ]
    },
    {
     "name": "stdout",
     "output_type": "stream",
     "text": [
      "Epoch loss : 1.4594649628581655\n",
      "Epoch loss : 1.4578963802453042\n"
     ]
    },
    {
     "name": "stderr",
     "output_type": "stream",
     "text": [
      " 47%|████▋     | 471/1000 [01:18<01:25,  6.17it/s]"
     ]
    },
    {
     "name": "stdout",
     "output_type": "stream",
     "text": [
      "Epoch loss : 1.4563330462815913\n",
      "Epoch loss : 1.4547748449748488\n"
     ]
    },
    {
     "name": "stderr",
     "output_type": "stream",
     "text": [
      " 47%|████▋     | 473/1000 [01:19<01:24,  6.21it/s]"
     ]
    },
    {
     "name": "stdout",
     "output_type": "stream",
     "text": [
      "Epoch loss : 1.4532217068231459\n",
      "Epoch loss : 1.4516737327382883\n"
     ]
    },
    {
     "name": "stderr",
     "output_type": "stream",
     "text": [
      " 48%|████▊     | 475/1000 [01:19<01:25,  6.11it/s]"
     ]
    },
    {
     "name": "stdout",
     "output_type": "stream",
     "text": [
      "Epoch loss : 1.4501302844430575\n",
      "Epoch loss : 1.4485921140733518\n"
     ]
    },
    {
     "name": "stderr",
     "output_type": "stream",
     "text": [
      " 48%|████▊     | 477/1000 [01:19<01:24,  6.16it/s]"
     ]
    },
    {
     "name": "stdout",
     "output_type": "stream",
     "text": [
      "Epoch loss : 1.4470587972351232\n",
      "Epoch loss : 1.4455308054753069\n"
     ]
    },
    {
     "name": "stderr",
     "output_type": "stream",
     "text": [
      " 48%|████▊     | 479/1000 [01:20<01:22,  6.31it/s]"
     ]
    },
    {
     "name": "stdout",
     "output_type": "stream",
     "text": [
      "Epoch loss : 1.4440072544679732\n",
      "Epoch loss : 1.4424887713609509\n"
     ]
    },
    {
     "name": "stderr",
     "output_type": "stream",
     "text": [
      " 48%|████▊     | 481/1000 [01:20<01:20,  6.41it/s]"
     ]
    },
    {
     "name": "stdout",
     "output_type": "stream",
     "text": [
      "Epoch loss : 1.4409749247487635\n",
      "Epoch loss : 1.4394659549567903\n"
     ]
    },
    {
     "name": "stderr",
     "output_type": "stream",
     "text": [
      " 48%|████▊     | 483/1000 [01:20<01:21,  6.34it/s]"
     ]
    },
    {
     "name": "stdout",
     "output_type": "stream",
     "text": [
      "Epoch loss : 1.437961797887359\n",
      "Epoch loss : 1.436462593000868\n"
     ]
    },
    {
     "name": "stderr",
     "output_type": "stream",
     "text": [
      " 48%|████▊     | 485/1000 [01:21<01:21,  6.33it/s]"
     ]
    },
    {
     "name": "stdout",
     "output_type": "stream",
     "text": [
      "Epoch loss : 1.434968211839268\n",
      "Epoch loss : 1.4334787256680812\n"
     ]
    },
    {
     "name": "stderr",
     "output_type": "stream",
     "text": [
      " 49%|████▊     | 487/1000 [01:21<01:20,  6.36it/s]"
     ]
    },
    {
     "name": "stdout",
     "output_type": "stream",
     "text": [
      "Epoch loss : 1.4319939008263158\n",
      "Epoch loss : 1.4305138166343652\n"
     ]
    },
    {
     "name": "stderr",
     "output_type": "stream",
     "text": [
      " 49%|████▉     | 489/1000 [01:21<01:22,  6.21it/s]"
     ]
    },
    {
     "name": "stdout",
     "output_type": "stream",
     "text": [
      "Epoch loss : 1.4290383023249567\n",
      "Epoch loss : 1.4275674652279275\n"
     ]
    },
    {
     "name": "stderr",
     "output_type": "stream",
     "text": [
      " 49%|████▉     | 491/1000 [01:22<01:23,  6.10it/s]"
     ]
    },
    {
     "name": "stdout",
     "output_type": "stream",
     "text": [
      "Epoch loss : 1.4261011436466051\n",
      "Epoch loss : 1.4246396761968763\n"
     ]
    },
    {
     "name": "stderr",
     "output_type": "stream",
     "text": [
      " 49%|████▉     | 493/1000 [01:22<01:22,  6.18it/s]"
     ]
    },
    {
     "name": "stdout",
     "output_type": "stream",
     "text": [
      "Epoch loss : 1.4231826087553812\n",
      "Epoch loss : 1.4217307229349143\n"
     ]
    },
    {
     "name": "stderr",
     "output_type": "stream",
     "text": [
      " 50%|████▉     | 495/1000 [01:22<01:22,  6.16it/s]"
     ]
    },
    {
     "name": "stdout",
     "output_type": "stream",
     "text": [
      "Epoch loss : 1.4202829769814787\n",
      "Epoch loss : 1.4188397289183405\n"
     ]
    },
    {
     "name": "stderr",
     "output_type": "stream",
     "text": [
      " 50%|████▉     | 497/1000 [01:23<01:20,  6.22it/s]"
     ]
    },
    {
     "name": "stdout",
     "output_type": "stream",
     "text": [
      "Epoch loss : 1.4174010046769774\n",
      "Epoch loss : 1.4159667394092865\n"
     ]
    },
    {
     "name": "stderr",
     "output_type": "stream",
     "text": [
      " 50%|████▉     | 499/1000 [01:23<01:20,  6.24it/s]"
     ]
    },
    {
     "name": "stdout",
     "output_type": "stream",
     "text": [
      "Epoch loss : 1.4145368938884104\n",
      "Epoch loss : 1.413111414151464\n"
     ]
    },
    {
     "name": "stderr",
     "output_type": "stream",
     "text": [
      " 50%|█████     | 501/1000 [01:23<01:19,  6.26it/s]"
     ]
    },
    {
     "name": "stdout",
     "output_type": "stream",
     "text": [
      "Epoch loss : 1.411690513037443\n",
      "Epoch loss : 1.4102738855794041\n"
     ]
    },
    {
     "name": "stderr",
     "output_type": "stream",
     "text": [
      " 50%|█████     | 503/1000 [01:24<01:19,  6.24it/s]"
     ]
    },
    {
     "name": "stdout",
     "output_type": "stream",
     "text": [
      "Epoch loss : 1.408861716272109\n",
      "Epoch loss : 1.4074537157846492\n"
     ]
    },
    {
     "name": "stderr",
     "output_type": "stream",
     "text": [
      " 50%|█████     | 505/1000 [01:24<01:19,  6.24it/s]"
     ]
    },
    {
     "name": "stdout",
     "output_type": "stream",
     "text": [
      "Epoch loss : 1.4060504446894166\n",
      "Epoch loss : 1.404651449959467\n"
     ]
    },
    {
     "name": "stderr",
     "output_type": "stream",
     "text": [
      " 51%|█████     | 507/1000 [01:24<01:17,  6.35it/s]"
     ]
    },
    {
     "name": "stdout",
     "output_type": "stream",
     "text": [
      "Epoch loss : 1.4032566993333133\n",
      "Epoch loss : 1.4018663319892433\n"
     ]
    },
    {
     "name": "stderr",
     "output_type": "stream",
     "text": [
      " 51%|█████     | 509/1000 [01:25<01:16,  6.44it/s]"
     ]
    },
    {
     "name": "stdout",
     "output_type": "stream",
     "text": [
      "Epoch loss : 1.4004803369065204\n",
      "Epoch loss : 1.3990989634230704\n"
     ]
    },
    {
     "name": "stderr",
     "output_type": "stream",
     "text": [
      " 51%|█████     | 511/1000 [01:25<01:16,  6.42it/s]"
     ]
    },
    {
     "name": "stdout",
     "output_type": "stream",
     "text": [
      "Epoch loss : 1.3977215035248036\n",
      "Epoch loss : 1.3963483158383818\n"
     ]
    },
    {
     "name": "stderr",
     "output_type": "stream",
     "text": [
      " 51%|█████▏    | 513/1000 [01:25<01:16,  6.37it/s]"
     ]
    },
    {
     "name": "stdout",
     "output_type": "stream",
     "text": [
      "Epoch loss : 1.3949789860908641\n",
      "Epoch loss : 1.393613794190377\n"
     ]
    },
    {
     "name": "stderr",
     "output_type": "stream",
     "text": [
      " 52%|█████▏    | 515/1000 [01:25<01:16,  6.36it/s]"
     ]
    },
    {
     "name": "stdout",
     "output_type": "stream",
     "text": [
      "Epoch loss : 1.392252845989707\n",
      "Epoch loss : 1.3908959434773158\n"
     ]
    },
    {
     "name": "stderr",
     "output_type": "stream",
     "text": [
      " 52%|█████▏    | 517/1000 [01:26<01:15,  6.39it/s]"
     ]
    },
    {
     "name": "stdout",
     "output_type": "stream",
     "text": [
      "Epoch loss : 1.389543332719179\n",
      "Epoch loss : 1.3881947876550473\n"
     ]
    },
    {
     "name": "stderr",
     "output_type": "stream",
     "text": [
      " 52%|█████▏    | 519/1000 [01:26<01:16,  6.31it/s]"
     ]
    },
    {
     "name": "stdout",
     "output_type": "stream",
     "text": [
      "Epoch loss : 1.3868503409474513\n",
      "Epoch loss : 1.3855099164555298\n"
     ]
    },
    {
     "name": "stderr",
     "output_type": "stream",
     "text": [
      " 52%|█████▏    | 521/1000 [01:26<01:17,  6.19it/s]"
     ]
    },
    {
     "name": "stdout",
     "output_type": "stream",
     "text": [
      "Epoch loss : 1.384173453582021\n",
      "Epoch loss : 1.3828410898666692\n"
     ]
    },
    {
     "name": "stderr",
     "output_type": "stream",
     "text": [
      " 52%|█████▏    | 523/1000 [01:27<01:17,  6.17it/s]"
     ]
    },
    {
     "name": "stdout",
     "output_type": "stream",
     "text": [
      "Epoch loss : 1.3815125650709845\n",
      "Epoch loss : 1.3801881342368418\n"
     ]
    },
    {
     "name": "stderr",
     "output_type": "stream",
     "text": [
      " 52%|█████▎    | 525/1000 [01:27<01:17,  6.10it/s]"
     ]
    },
    {
     "name": "stdout",
     "output_type": "stream",
     "text": [
      "Epoch loss : 1.3788676281853487\n",
      "Epoch loss : 1.377551548153446\n"
     ]
    },
    {
     "name": "stderr",
     "output_type": "stream",
     "text": [
      " 53%|█████▎    | 527/1000 [01:27<01:22,  5.72it/s]"
     ]
    },
    {
     "name": "stdout",
     "output_type": "stream",
     "text": [
      "Epoch loss : 1.376239020210822\n",
      "Epoch loss : 1.3749310226537697\n"
     ]
    },
    {
     "name": "stderr",
     "output_type": "stream",
     "text": [
      " 53%|█████▎    | 529/1000 [01:28<01:28,  5.31it/s]"
     ]
    },
    {
     "name": "stdout",
     "output_type": "stream",
     "text": [
      "Epoch loss : 1.373626524865853\n",
      "Epoch loss : 1.372325994469831\n"
     ]
    },
    {
     "name": "stderr",
     "output_type": "stream",
     "text": [
      " 53%|█████▎    | 531/1000 [01:28<01:29,  5.25it/s]"
     ]
    },
    {
     "name": "stdout",
     "output_type": "stream",
     "text": [
      "Epoch loss : 1.3710291874155682\n",
      "Epoch loss : 1.3697360564501722\n"
     ]
    },
    {
     "name": "stderr",
     "output_type": "stream",
     "text": [
      " 53%|█████▎    | 533/1000 [01:29<01:28,  5.27it/s]"
     ]
    },
    {
     "name": "stdout",
     "output_type": "stream",
     "text": [
      "Epoch loss : 1.3684467130540905\n",
      "Epoch loss : 1.3671611906803347\n"
     ]
    },
    {
     "name": "stderr",
     "output_type": "stream",
     "text": [
      " 54%|█████▎    | 535/1000 [01:29<01:28,  5.24it/s]"
     ]
    },
    {
     "name": "stdout",
     "output_type": "stream",
     "text": [
      "Epoch loss : 1.3658794643905725\n",
      "Epoch loss : 1.364601448469073\n"
     ]
    },
    {
     "name": "stderr",
     "output_type": "stream",
     "text": [
      "\r",
      " 54%|█████▎    | 536/1000 [01:29<01:28,  5.27it/s]"
     ]
    },
    {
     "name": "stdout",
     "output_type": "stream",
     "text": [
      "Epoch loss : 1.363327225238752\n"
     ]
    },
    {
     "name": "stderr",
     "output_type": "stream",
     "text": [
      " 54%|█████▍    | 538/1000 [01:30<01:29,  5.15it/s]"
     ]
    },
    {
     "name": "stdout",
     "output_type": "stream",
     "text": [
      "Epoch loss : 1.3620567580291678\n",
      "Epoch loss : 1.3607901697863434\n"
     ]
    },
    {
     "name": "stderr",
     "output_type": "stream",
     "text": [
      " 54%|█████▍    | 540/1000 [01:30<01:29,  5.14it/s]"
     ]
    },
    {
     "name": "stdout",
     "output_type": "stream",
     "text": [
      "Epoch loss : 1.3595273866812683\n",
      "Epoch loss : 1.358268411314046\n"
     ]
    },
    {
     "name": "stderr",
     "output_type": "stream",
     "text": [
      " 54%|█████▍    | 542/1000 [01:30<01:29,  5.14it/s]"
     ]
    },
    {
     "name": "stdout",
     "output_type": "stream",
     "text": [
      "Epoch loss : 1.3570131074798306\n",
      "Epoch loss : 1.3557613770520776\n"
     ]
    },
    {
     "name": "stderr",
     "output_type": "stream",
     "text": [
      " 54%|█████▍    | 544/1000 [01:31<01:29,  5.08it/s]"
     ]
    },
    {
     "name": "stdout",
     "output_type": "stream",
     "text": [
      "Epoch loss : 1.354513404551022\n",
      "Epoch loss : 1.3532689936935682\n"
     ]
    },
    {
     "name": "stderr",
     "output_type": "stream",
     "text": [
      " 55%|█████▍    | 546/1000 [01:31<01:24,  5.38it/s]"
     ]
    },
    {
     "name": "stdout",
     "output_type": "stream",
     "text": [
      "Epoch loss : 1.3520284186060276\n",
      "Epoch loss : 1.3507914062592137\n"
     ]
    },
    {
     "name": "stderr",
     "output_type": "stream",
     "text": [
      " 55%|█████▍    | 548/1000 [01:31<01:20,  5.61it/s]"
     ]
    },
    {
     "name": "stdout",
     "output_type": "stream",
     "text": [
      "Epoch loss : 1.3495578827184558\n",
      "Epoch loss : 1.3483279190065651\n"
     ]
    },
    {
     "name": "stderr",
     "output_type": "stream",
     "text": [
      " 55%|█████▌    | 550/1000 [01:32<01:16,  5.89it/s]"
     ]
    },
    {
     "name": "stdout",
     "output_type": "stream",
     "text": [
      "Epoch loss : 1.3471012039773016\n",
      "Epoch loss : 1.3458782378283414\n"
     ]
    },
    {
     "name": "stderr",
     "output_type": "stream",
     "text": [
      " 55%|█████▌    | 552/1000 [01:32<01:14,  6.03it/s]"
     ]
    },
    {
     "name": "stdout",
     "output_type": "stream",
     "text": [
      "Epoch loss : 1.3446585462746732\n",
      "Epoch loss : 1.3434423482272289\n"
     ]
    },
    {
     "name": "stderr",
     "output_type": "stream",
     "text": [
      " 55%|█████▌    | 554/1000 [01:32<01:13,  6.09it/s]"
     ]
    },
    {
     "name": "stdout",
     "output_type": "stream",
     "text": [
      "Epoch loss : 1.342229586396144\n",
      "Epoch loss : 1.3410201919573739\n"
     ]
    },
    {
     "name": "stderr",
     "output_type": "stream",
     "text": [
      " 56%|█████▌    | 556/1000 [01:33<01:12,  6.09it/s]"
     ]
    },
    {
     "name": "stdout",
     "output_type": "stream",
     "text": [
      "Epoch loss : 1.339814472410056\n",
      "Epoch loss : 1.3386121467109635\n"
     ]
    },
    {
     "name": "stderr",
     "output_type": "stream",
     "text": [
      " 56%|█████▌    | 558/1000 [01:33<01:11,  6.17it/s]"
     ]
    },
    {
     "name": "stdout",
     "output_type": "stream",
     "text": [
      "Epoch loss : 1.3374132627478836\n",
      "Epoch loss : 1.336217772414821\n"
     ]
    },
    {
     "name": "stderr",
     "output_type": "stream",
     "text": [
      " 56%|█████▌    | 560/1000 [01:33<01:11,  6.12it/s]"
     ]
    },
    {
     "name": "stdout",
     "output_type": "stream",
     "text": [
      "Epoch loss : 1.3350259466983765\n",
      "Epoch loss : 1.333837367461196\n"
     ]
    },
    {
     "name": "stderr",
     "output_type": "stream",
     "text": [
      " 56%|█████▌    | 562/1000 [01:34<01:10,  6.17it/s]"
     ]
    },
    {
     "name": "stdout",
     "output_type": "stream",
     "text": [
      "Epoch loss : 1.3326525743791764\n",
      "Epoch loss : 1.3314709389909731\n"
     ]
    },
    {
     "name": "stderr",
     "output_type": "stream",
     "text": [
      " 56%|█████▋    | 564/1000 [01:34<01:10,  6.19it/s]"
     ]
    },
    {
     "name": "stdout",
     "output_type": "stream",
     "text": [
      "Epoch loss : 1.3302929448827334\n",
      "Epoch loss : 1.329118034535266\n"
     ]
    },
    {
     "name": "stderr",
     "output_type": "stream",
     "text": [
      " 57%|█████▋    | 566/1000 [01:34<01:10,  6.17it/s]"
     ]
    },
    {
     "name": "stdout",
     "output_type": "stream",
     "text": [
      "Epoch loss : 1.3279461566378585\n",
      "Epoch loss : 1.3267777869500246\n"
     ]
    },
    {
     "name": "stderr",
     "output_type": "stream",
     "text": [
      " 57%|█████▋    | 568/1000 [01:35<01:09,  6.21it/s]"
     ]
    },
    {
     "name": "stdout",
     "output_type": "stream",
     "text": [
      "Epoch loss : 1.3256125405157475\n",
      "Epoch loss : 1.324451035222327\n"
     ]
    },
    {
     "name": "stderr",
     "output_type": "stream",
     "text": [
      " 57%|█████▋    | 570/1000 [01:35<01:07,  6.39it/s]"
     ]
    },
    {
     "name": "stdout",
     "output_type": "stream",
     "text": [
      "Epoch loss : 1.3232923391304243\n",
      "Epoch loss : 1.3221369832748906\n"
     ]
    },
    {
     "name": "stderr",
     "output_type": "stream",
     "text": [
      " 57%|█████▋    | 572/1000 [01:35<01:06,  6.45it/s]"
     ]
    },
    {
     "name": "stdout",
     "output_type": "stream",
     "text": [
      "Epoch loss : 1.3209845443777153\n",
      "Epoch loss : 1.3198356203646302\n"
     ]
    },
    {
     "name": "stderr",
     "output_type": "stream",
     "text": [
      " 57%|█████▋    | 574/1000 [01:36<01:06,  6.37it/s]"
     ]
    },
    {
     "name": "stdout",
     "output_type": "stream",
     "text": [
      "Epoch loss : 1.3186897494822065\n",
      "Epoch loss : 1.3175472190851534\n"
     ]
    },
    {
     "name": "stderr",
     "output_type": "stream",
     "text": [
      " 58%|█████▊    | 576/1000 [01:36<01:06,  6.33it/s]"
     ]
    },
    {
     "name": "stdout",
     "output_type": "stream",
     "text": [
      "Epoch loss : 1.316407869514175\n",
      "Epoch loss : 1.3152716370283937\n"
     ]
    },
    {
     "name": "stderr",
     "output_type": "stream",
     "text": [
      " 58%|█████▊    | 578/1000 [01:36<01:06,  6.39it/s]"
     ]
    },
    {
     "name": "stdout",
     "output_type": "stream",
     "text": [
      "Epoch loss : 1.3141387070816146\n",
      "Epoch loss : 1.3130088491995648\n"
     ]
    },
    {
     "name": "stderr",
     "output_type": "stream",
     "text": [
      " 58%|█████▊    | 580/1000 [01:37<01:06,  6.35it/s]"
     ]
    },
    {
     "name": "stdout",
     "output_type": "stream",
     "text": [
      "Epoch loss : 1.3118826469377534\n",
      "Epoch loss : 1.3107592473770011\n"
     ]
    },
    {
     "name": "stderr",
     "output_type": "stream",
     "text": [
      " 58%|█████▊    | 582/1000 [01:37<01:06,  6.28it/s]"
     ]
    },
    {
     "name": "stdout",
     "output_type": "stream",
     "text": [
      "Epoch loss : 1.3096388968050787\n",
      "Epoch loss : 1.3085212592903486\n"
     ]
    },
    {
     "name": "stderr",
     "output_type": "stream",
     "text": [
      " 58%|█████▊    | 584/1000 [01:37<01:06,  6.23it/s]"
     ]
    },
    {
     "name": "stdout",
     "output_type": "stream",
     "text": [
      "Epoch loss : 1.3074067610998097\n",
      "Epoch loss : 1.3062952406189008\n"
     ]
    },
    {
     "name": "stderr",
     "output_type": "stream",
     "text": [
      " 59%|█████▊    | 586/1000 [01:38<01:06,  6.23it/s]"
     ]
    },
    {
     "name": "stdout",
     "output_type": "stream",
     "text": [
      "Epoch loss : 1.3051868326312457\n",
      "Epoch loss : 1.3040815530529202\n"
     ]
    },
    {
     "name": "stderr",
     "output_type": "stream",
     "text": [
      " 59%|█████▉    | 588/1000 [01:38<01:05,  6.30it/s]"
     ]
    },
    {
     "name": "stdout",
     "output_type": "stream",
     "text": [
      "Epoch loss : 1.302979563495471\n",
      "Epoch loss : 1.3018805965233822\n"
     ]
    },
    {
     "name": "stderr",
     "output_type": "stream",
     "text": [
      " 59%|█████▉    | 590/1000 [01:38<01:06,  6.19it/s]"
     ]
    },
    {
     "name": "stdout",
     "output_type": "stream",
     "text": [
      "Epoch loss : 1.3007843959437768\n",
      "Epoch loss : 1.2996911468096708\n"
     ]
    },
    {
     "name": "stderr",
     "output_type": "stream",
     "text": [
      " 59%|█████▉    | 592/1000 [01:39<01:06,  6.15it/s]"
     ]
    },
    {
     "name": "stdout",
     "output_type": "stream",
     "text": [
      "Epoch loss : 1.2986010829123547\n",
      "Epoch loss : 1.2975137478646797\n"
     ]
    },
    {
     "name": "stderr",
     "output_type": "stream",
     "text": [
      " 59%|█████▉    | 594/1000 [01:39<01:04,  6.29it/s]"
     ]
    },
    {
     "name": "stdout",
     "output_type": "stream",
     "text": [
      "Epoch loss : 1.296429434937329\n",
      "Epoch loss : 1.295347988933626\n"
     ]
    },
    {
     "name": "stderr",
     "output_type": "stream",
     "text": [
      " 60%|█████▉    | 596/1000 [01:39<01:03,  6.33it/s]"
     ]
    },
    {
     "name": "stdout",
     "output_type": "stream",
     "text": [
      "Epoch loss : 1.294269649951398\n",
      "Epoch loss : 1.2931943862990245\n"
     ]
    },
    {
     "name": "stderr",
     "output_type": "stream",
     "text": [
      " 60%|█████▉    | 598/1000 [01:39<01:04,  6.23it/s]"
     ]
    },
    {
     "name": "stdout",
     "output_type": "stream",
     "text": [
      "Epoch loss : 1.2921220109540614\n",
      "Epoch loss : 1.2910523485399807\n"
     ]
    },
    {
     "name": "stderr",
     "output_type": "stream",
     "text": [
      " 60%|██████    | 600/1000 [01:40<01:04,  6.24it/s]"
     ]
    },
    {
     "name": "stdout",
     "output_type": "stream",
     "text": [
      "Epoch loss : 1.28998551974611\n",
      "Epoch loss : 1.2889215804621577\n"
     ]
    },
    {
     "name": "stderr",
     "output_type": "stream",
     "text": [
      " 60%|██████    | 602/1000 [01:40<01:03,  6.23it/s]"
     ]
    },
    {
     "name": "stdout",
     "output_type": "stream",
     "text": [
      "Epoch loss : 1.2878605231419578\n",
      "Epoch loss : 1.2868022042453486\n"
     ]
    },
    {
     "name": "stderr",
     "output_type": "stream",
     "text": [
      " 60%|██████    | 604/1000 [01:40<01:02,  6.38it/s]"
     ]
    },
    {
     "name": "stdout",
     "output_type": "stream",
     "text": [
      "Epoch loss : 1.2857468545135375\n",
      "Epoch loss : 1.2846940580814683\n"
     ]
    },
    {
     "name": "stderr",
     "output_type": "stream",
     "text": [
      " 61%|██████    | 606/1000 [01:41<01:02,  6.29it/s]"
     ]
    },
    {
     "name": "stdout",
     "output_type": "stream",
     "text": [
      "Epoch loss : 1.2836444122687845\n",
      "Epoch loss : 1.2825973035768905\n"
     ]
    },
    {
     "name": "stderr",
     "output_type": "stream",
     "text": [
      " 61%|██████    | 608/1000 [01:41<01:07,  5.80it/s]"
     ]
    },
    {
     "name": "stdout",
     "output_type": "stream",
     "text": [
      "Epoch loss : 1.2815534085010776\n",
      "Epoch loss : 1.2805119658281143\n"
     ]
    },
    {
     "name": "stderr",
     "output_type": "stream",
     "text": [
      " 61%|██████    | 610/1000 [01:42<01:11,  5.43it/s]"
     ]
    },
    {
     "name": "stdout",
     "output_type": "stream",
     "text": [
      "Epoch loss : 1.2794736921562153\n",
      "Epoch loss : 1.2784379217023731\n"
     ]
    },
    {
     "name": "stderr",
     "output_type": "stream",
     "text": [
      " 61%|██████    | 612/1000 [01:42<01:13,  5.28it/s]"
     ]
    },
    {
     "name": "stdout",
     "output_type": "stream",
     "text": [
      "Epoch loss : 1.2774047839319647\n",
      "Epoch loss : 1.2763744382662516\n"
     ]
    },
    {
     "name": "stderr",
     "output_type": "stream",
     "text": [
      " 61%|██████▏   | 614/1000 [01:42<01:13,  5.23it/s]"
     ]
    },
    {
     "name": "stdout",
     "output_type": "stream",
     "text": [
      "Epoch loss : 1.2753465933570272\n",
      "Epoch loss : 1.274321579981219\n"
     ]
    },
    {
     "name": "stderr",
     "output_type": "stream",
     "text": [
      " 62%|██████▏   | 616/1000 [01:43<01:13,  5.23it/s]"
     ]
    },
    {
     "name": "stdout",
     "output_type": "stream",
     "text": [
      "Epoch loss : 1.2732991919415753\n",
      "Epoch loss : 1.2722796371879128\n"
     ]
    },
    {
     "name": "stderr",
     "output_type": "stream",
     "text": [
      " 62%|██████▏   | 618/1000 [01:43<01:12,  5.25it/s]"
     ]
    },
    {
     "name": "stdout",
     "output_type": "stream",
     "text": [
      "Epoch loss : 1.2712626595855532\n",
      "Epoch loss : 1.2702484423983058\n"
     ]
    },
    {
     "name": "stderr",
     "output_type": "stream",
     "text": [
      " 62%|██████▏   | 620/1000 [01:43<01:13,  5.20it/s]"
     ]
    },
    {
     "name": "stdout",
     "output_type": "stream",
     "text": [
      "Epoch loss : 1.2692368055829517\n",
      "Epoch loss : 1.2682278220595853\n"
     ]
    },
    {
     "name": "stderr",
     "output_type": "stream",
     "text": [
      "\r",
      " 62%|██████▏   | 621/1000 [01:44<01:14,  5.10it/s]"
     ]
    },
    {
     "name": "stdout",
     "output_type": "stream",
     "text": [
      "Epoch loss : 1.2672214210844461\n"
     ]
    },
    {
     "name": "stderr",
     "output_type": "stream",
     "text": [
      " 62%|██████▏   | 623/1000 [01:44<01:15,  4.97it/s]"
     ]
    },
    {
     "name": "stdout",
     "output_type": "stream",
     "text": [
      "Epoch loss : 1.266217592585221\n",
      "Epoch loss : 1.2652165102657307\n"
     ]
    },
    {
     "name": "stderr",
     "output_type": "stream",
     "text": [
      " 62%|██████▎   | 625/1000 [01:44<01:13,  5.11it/s]"
     ]
    },
    {
     "name": "stdout",
     "output_type": "stream",
     "text": [
      "Epoch loss : 1.264217950100891\n",
      "Epoch loss : 1.2632223015375137\n"
     ]
    },
    {
     "name": "stderr",
     "output_type": "stream",
     "text": [
      " 63%|██████▎   | 627/1000 [01:45<01:07,  5.50it/s]"
     ]
    },
    {
     "name": "stdout",
     "output_type": "stream",
     "text": [
      "Epoch loss : 1.262229245050837\n",
      "Epoch loss : 1.261238799008171\n"
     ]
    },
    {
     "name": "stderr",
     "output_type": "stream",
     "text": [
      " 63%|██████▎   | 629/1000 [01:45<01:03,  5.81it/s]"
     ]
    },
    {
     "name": "stdout",
     "output_type": "stream",
     "text": [
      "Epoch loss : 1.2602507370824267\n",
      "Epoch loss : 1.259265437001549\n"
     ]
    },
    {
     "name": "stderr",
     "output_type": "stream",
     "text": [
      " 63%|██████▎   | 631/1000 [01:45<01:01,  6.04it/s]"
     ]
    },
    {
     "name": "stdout",
     "output_type": "stream",
     "text": [
      "Epoch loss : 1.2582825017434265\n",
      "Epoch loss : 1.2573022536411527\n"
     ]
    },
    {
     "name": "stderr",
     "output_type": "stream",
     "text": [
      " 63%|██████▎   | 633/1000 [01:46<00:59,  6.15it/s]"
     ]
    },
    {
     "name": "stdout",
     "output_type": "stream",
     "text": [
      "Epoch loss : 1.2563242388950495\n",
      "Epoch loss : 1.2553489275377885\n"
     ]
    },
    {
     "name": "stderr",
     "output_type": "stream",
     "text": [
      " 64%|██████▎   | 635/1000 [01:46<00:57,  6.32it/s]"
     ]
    },
    {
     "name": "stdout",
     "output_type": "stream",
     "text": [
      "Epoch loss : 1.2543759190627266\n",
      "Epoch loss : 1.2534054928895995\n"
     ]
    },
    {
     "name": "stderr",
     "output_type": "stream",
     "text": [
      " 64%|██████▎   | 637/1000 [01:46<00:57,  6.31it/s]"
     ]
    },
    {
     "name": "stdout",
     "output_type": "stream",
     "text": [
      "Epoch loss : 1.2524375286923264\n",
      "Epoch loss : 1.2514719656390523\n"
     ]
    },
    {
     "name": "stderr",
     "output_type": "stream",
     "text": [
      " 64%|██████▍   | 639/1000 [01:47<00:57,  6.28it/s]"
     ]
    },
    {
     "name": "stdout",
     "output_type": "stream",
     "text": [
      "Epoch loss : 1.2505091523269314\n",
      "Epoch loss : 1.2495485263204724\n"
     ]
    },
    {
     "name": "stderr",
     "output_type": "stream",
     "text": [
      " 64%|██████▍   | 641/1000 [01:47<00:57,  6.28it/s]"
     ]
    },
    {
     "name": "stdout",
     "output_type": "stream",
     "text": [
      "Epoch loss : 1.2485904451394454\n",
      "Epoch loss : 1.247634573754115\n"
     ]
    },
    {
     "name": "stderr",
     "output_type": "stream",
     "text": [
      " 64%|██████▍   | 643/1000 [01:47<00:57,  6.26it/s]"
     ]
    },
    {
     "name": "stdout",
     "output_type": "stream",
     "text": [
      "Epoch loss : 1.2466811984146124\n",
      "Epoch loss : 1.245730254156037\n"
     ]
    },
    {
     "name": "stderr",
     "output_type": "stream",
     "text": [
      " 64%|██████▍   | 645/1000 [01:48<00:55,  6.34it/s]"
     ]
    },
    {
     "name": "stdout",
     "output_type": "stream",
     "text": [
      "Epoch loss : 1.2447816078397242\n",
      "Epoch loss : 1.2438355698035668\n"
     ]
    },
    {
     "name": "stderr",
     "output_type": "stream",
     "text": [
      " 65%|██████▍   | 647/1000 [01:48<00:57,  6.15it/s]"
     ]
    },
    {
     "name": "stdout",
     "output_type": "stream",
     "text": [
      "Epoch loss : 1.2428916687059328\n",
      "Epoch loss : 1.2419503975554818\n"
     ]
    },
    {
     "name": "stderr",
     "output_type": "stream",
     "text": [
      " 65%|██████▍   | 649/1000 [01:48<00:56,  6.16it/s]"
     ]
    },
    {
     "name": "stdout",
     "output_type": "stream",
     "text": [
      "Epoch loss : 1.2410113805325496\n",
      "Epoch loss : 1.2400748430667747\n"
     ]
    },
    {
     "name": "stderr",
     "output_type": "stream",
     "text": [
      " 65%|██████▌   | 651/1000 [01:49<00:56,  6.16it/s]"
     ]
    },
    {
     "name": "stdout",
     "output_type": "stream",
     "text": [
      "Epoch loss : 1.2391406316133646\n",
      "Epoch loss : 1.2382089021545584\n"
     ]
    },
    {
     "name": "stderr",
     "output_type": "stream",
     "text": [
      " 65%|██████▌   | 653/1000 [01:49<00:58,  5.96it/s]"
     ]
    },
    {
     "name": "stdout",
     "output_type": "stream",
     "text": [
      "Epoch loss : 1.2372795825844711\n",
      "Epoch loss : 1.2363528341844472\n"
     ]
    },
    {
     "name": "stderr",
     "output_type": "stream",
     "text": [
      " 66%|██████▌   | 655/1000 [01:49<00:56,  6.09it/s]"
     ]
    },
    {
     "name": "stdout",
     "output_type": "stream",
     "text": [
      "Epoch loss : 1.2354281172252028\n",
      "Epoch loss : 1.234505807174981\n"
     ]
    },
    {
     "name": "stderr",
     "output_type": "stream",
     "text": [
      " 66%|██████▌   | 657/1000 [01:50<00:55,  6.18it/s]"
     ]
    },
    {
     "name": "stdout",
     "output_type": "stream",
     "text": [
      "Epoch loss : 1.2335858489500313\n",
      "Epoch loss : 1.232668046352526\n"
     ]
    },
    {
     "name": "stderr",
     "output_type": "stream",
     "text": [
      " 66%|██████▌   | 659/1000 [01:50<00:55,  6.17it/s]"
     ]
    },
    {
     "name": "stdout",
     "output_type": "stream",
     "text": [
      "Epoch loss : 1.2317525059949481\n",
      "Epoch loss : 1.2308391473497715\n"
     ]
    },
    {
     "name": "stderr",
     "output_type": "stream",
     "text": [
      " 66%|██████▌   | 661/1000 [01:50<00:55,  6.14it/s]"
     ]
    },
    {
     "name": "stdout",
     "output_type": "stream",
     "text": [
      "Epoch loss : 1.229928040786223\n",
      "Epoch loss : 1.2290191397927532\n"
     ]
    },
    {
     "name": "stderr",
     "output_type": "stream",
     "text": [
      " 66%|██████▋   | 663/1000 [01:51<00:54,  6.21it/s]"
     ]
    },
    {
     "name": "stdout",
     "output_type": "stream",
     "text": [
      "Epoch loss : 1.228112715633524\n",
      "Epoch loss : 1.2272084841370403\n"
     ]
    },
    {
     "name": "stderr",
     "output_type": "stream",
     "text": [
      " 66%|██████▋   | 665/1000 [01:51<00:53,  6.23it/s]"
     ]
    },
    {
     "name": "stdout",
     "output_type": "stream",
     "text": [
      "Epoch loss : 1.2263064297405353\n",
      "Epoch loss : 1.2254063879291814\n"
     ]
    },
    {
     "name": "stderr",
     "output_type": "stream",
     "text": [
      " 67%|██████▋   | 667/1000 [01:51<00:53,  6.19it/s]"
     ]
    },
    {
     "name": "stdout",
     "output_type": "stream",
     "text": [
      "Epoch loss : 1.2245086101207647\n",
      "Epoch loss : 1.2236129218045024\n"
     ]
    },
    {
     "name": "stderr",
     "output_type": "stream",
     "text": [
      " 67%|██████▋   | 669/1000 [01:52<00:53,  6.23it/s]"
     ]
    },
    {
     "name": "stdout",
     "output_type": "stream",
     "text": [
      "Epoch loss : 1.2227194740275245\n",
      "Epoch loss : 1.221828198806231\n"
     ]
    },
    {
     "name": "stderr",
     "output_type": "stream",
     "text": [
      " 67%|██████▋   | 671/1000 [01:52<00:53,  6.13it/s]"
     ]
    },
    {
     "name": "stdout",
     "output_type": "stream",
     "text": [
      "Epoch loss : 1.2209393306156593\n",
      "Epoch loss : 1.2200525336569361\n"
     ]
    },
    {
     "name": "stderr",
     "output_type": "stream",
     "text": [
      " 67%|██████▋   | 673/1000 [01:52<00:53,  6.15it/s]"
     ]
    },
    {
     "name": "stdout",
     "output_type": "stream",
     "text": [
      "Epoch loss : 1.2191681080466756\n",
      "Epoch loss : 1.2182858080947205\n"
     ]
    },
    {
     "name": "stderr",
     "output_type": "stream",
     "text": [
      " 68%|██████▊   | 675/1000 [01:53<00:52,  6.23it/s]"
     ]
    },
    {
     "name": "stdout",
     "output_type": "stream",
     "text": [
      "Epoch loss : 1.2174058716936529\n",
      "Epoch loss : 1.2165277662767304\n"
     ]
    },
    {
     "name": "stderr",
     "output_type": "stream",
     "text": [
      " 68%|██████▊   | 677/1000 [01:53<00:51,  6.32it/s]"
     ]
    },
    {
     "name": "stdout",
     "output_type": "stream",
     "text": [
      "Epoch loss : 1.2156520895655516\n",
      "Epoch loss : 1.214778442083909\n"
     ]
    },
    {
     "name": "stderr",
     "output_type": "stream",
     "text": [
      " 68%|██████▊   | 679/1000 [01:53<00:50,  6.39it/s]"
     ]
    },
    {
     "name": "stdout",
     "output_type": "stream",
     "text": [
      "Epoch loss : 1.213906858897051\n",
      "Epoch loss : 1.2130372898813901\n"
     ]
    },
    {
     "name": "stderr",
     "output_type": "stream",
     "text": [
      " 68%|██████▊   | 681/1000 [01:53<00:50,  6.36it/s]"
     ]
    },
    {
     "name": "stdout",
     "output_type": "stream",
     "text": [
      "Epoch loss : 1.2121699757860864\n",
      "Epoch loss : 1.2113048699616336\n"
     ]
    },
    {
     "name": "stderr",
     "output_type": "stream",
     "text": [
      " 68%|██████▊   | 683/1000 [01:54<00:50,  6.26it/s]"
     ]
    },
    {
     "name": "stdout",
     "output_type": "stream",
     "text": [
      "Epoch loss : 1.210441580198902\n",
      "Epoch loss : 1.2095803397143394\n"
     ]
    },
    {
     "name": "stderr",
     "output_type": "stream",
     "text": [
      " 68%|██████▊   | 685/1000 [01:54<00:50,  6.29it/s]"
     ]
    },
    {
     "name": "stdout",
     "output_type": "stream",
     "text": [
      "Epoch loss : 1.2087212205068236\n",
      "Epoch loss : 1.207864137760914\n"
     ]
    },
    {
     "name": "stderr",
     "output_type": "stream",
     "text": [
      " 69%|██████▊   | 687/1000 [01:54<00:52,  5.94it/s]"
     ]
    },
    {
     "name": "stdout",
     "output_type": "stream",
     "text": [
      "Epoch loss : 1.2070094470866568\n",
      "Epoch loss : 1.2061564625398387\n"
     ]
    },
    {
     "name": "stderr",
     "output_type": "stream",
     "text": [
      " 69%|██████▉   | 689/1000 [01:55<00:55,  5.56it/s]"
     ]
    },
    {
     "name": "stdout",
     "output_type": "stream",
     "text": [
      "Epoch loss : 1.2053053462267096\n",
      "Epoch loss : 1.2044563613384314\n"
     ]
    },
    {
     "name": "stderr",
     "output_type": "stream",
     "text": [
      " 69%|██████▉   | 691/1000 [01:55<00:57,  5.39it/s]"
     ]
    },
    {
     "name": "stdout",
     "output_type": "stream",
     "text": [
      "Epoch loss : 1.2036093211428842\n",
      "Epoch loss : 1.2027646420415161\n"
     ]
    },
    {
     "name": "stderr",
     "output_type": "stream",
     "text": [
      "\r",
      " 69%|██████▉   | 692/1000 [01:55<00:58,  5.31it/s]"
     ]
    },
    {
     "name": "stdout",
     "output_type": "stream",
     "text": [
      "Epoch loss : 1.2019219628497528\n",
      "Epoch loss : 1.2010814495369642\n"
     ]
    },
    {
     "name": "stderr",
     "output_type": "stream",
     "text": [
      " 70%|██████▉   | 695/1000 [01:56<01:00,  5.07it/s]"
     ]
    },
    {
     "name": "stdout",
     "output_type": "stream",
     "text": [
      "Epoch loss : 1.2002426766065253\n",
      "Epoch loss : 1.1994058127047347\n"
     ]
    },
    {
     "name": "stderr",
     "output_type": "stream",
     "text": [
      " 70%|██████▉   | 697/1000 [01:56<00:59,  5.11it/s]"
     ]
    },
    {
     "name": "stdout",
     "output_type": "stream",
     "text": [
      "Epoch loss : 1.1985709045857362\n",
      "Epoch loss : 1.1977381043416184\n"
     ]
    },
    {
     "name": "stderr",
     "output_type": "stream",
     "text": [
      " 70%|██████▉   | 699/1000 [01:57<00:57,  5.19it/s]"
     ]
    },
    {
     "name": "stdout",
     "output_type": "stream",
     "text": [
      "Epoch loss : 1.1969073437278113\n",
      "Epoch loss : 1.1960790136119668\n"
     ]
    },
    {
     "name": "stderr",
     "output_type": "stream",
     "text": [
      " 70%|███████   | 701/1000 [01:57<00:57,  5.17it/s]"
     ]
    },
    {
     "name": "stdout",
     "output_type": "stream",
     "text": [
      "Epoch loss : 1.1952521366583448\n",
      "Epoch loss : 1.1944272910217926\n"
     ]
    },
    {
     "name": "stderr",
     "output_type": "stream",
     "text": [
      " 70%|███████   | 703/1000 [01:58<00:58,  5.06it/s]"
     ]
    },
    {
     "name": "stdout",
     "output_type": "stream",
     "text": [
      "Epoch loss : 1.1936042178870097\n",
      "Epoch loss : 1.1927830449386816\n"
     ]
    },
    {
     "name": "stderr",
     "output_type": "stream",
     "text": [
      " 70%|███████   | 705/1000 [01:58<00:56,  5.20it/s]"
     ]
    },
    {
     "name": "stdout",
     "output_type": "stream",
     "text": [
      "Epoch loss : 1.1919638376488266\n",
      "Epoch loss : 1.1911468414634678\n"
     ]
    },
    {
     "name": "stderr",
     "output_type": "stream",
     "text": [
      " 71%|███████   | 707/1000 [01:58<00:51,  5.69it/s]"
     ]
    },
    {
     "name": "stdout",
     "output_type": "stream",
     "text": [
      "Epoch loss : 1.190331511322736\n",
      "Epoch loss : 1.1895182520960481\n"
     ]
    },
    {
     "name": "stderr",
     "output_type": "stream",
     "text": [
      " 71%|███████   | 709/1000 [01:59<00:49,  5.94it/s]"
     ]
    },
    {
     "name": "stdout",
     "output_type": "stream",
     "text": [
      "Epoch loss : 1.1887067748496762\n",
      "Epoch loss : 1.1878972858030805\n"
     ]
    },
    {
     "name": "stderr",
     "output_type": "stream",
     "text": [
      " 71%|███████   | 711/1000 [01:59<00:47,  6.12it/s]"
     ]
    },
    {
     "name": "stdout",
     "output_type": "stream",
     "text": [
      "Epoch loss : 1.1870894432214785\n",
      "Epoch loss : 1.1862834052726856\n"
     ]
    },
    {
     "name": "stderr",
     "output_type": "stream",
     "text": [
      " 71%|███████▏  | 713/1000 [01:59<00:48,  5.94it/s]"
     ]
    },
    {
     "name": "stdout",
     "output_type": "stream",
     "text": [
      "Epoch loss : 1.185479169440236\n",
      "Epoch loss : 1.1846767724584397\n"
     ]
    },
    {
     "name": "stderr",
     "output_type": "stream",
     "text": [
      " 72%|███████▏  | 715/1000 [02:00<00:46,  6.08it/s]"
     ]
    },
    {
     "name": "stdout",
     "output_type": "stream",
     "text": [
      "Epoch loss : 1.1838763824873277\n",
      "Epoch loss : 1.18307794066951\n"
     ]
    },
    {
     "name": "stderr",
     "output_type": "stream",
     "text": [
      " 72%|███████▏  | 717/1000 [02:00<00:45,  6.18it/s]"
     ]
    },
    {
     "name": "stdout",
     "output_type": "stream",
     "text": [
      "Epoch loss : 1.1822816043796653\n",
      "Epoch loss : 1.1814870404586133\n"
     ]
    },
    {
     "name": "stderr",
     "output_type": "stream",
     "text": [
      " 72%|███████▏  | 719/1000 [02:00<00:44,  6.29it/s]"
     ]
    },
    {
     "name": "stdout",
     "output_type": "stream",
     "text": [
      "Epoch loss : 1.1806944060275815\n",
      "Epoch loss : 1.1799037920554092\n"
     ]
    },
    {
     "name": "stderr",
     "output_type": "stream",
     "text": [
      " 72%|███████▏  | 721/1000 [02:01<00:43,  6.37it/s]"
     ]
    },
    {
     "name": "stdout",
     "output_type": "stream",
     "text": [
      "Epoch loss : 1.1791149853753546\n",
      "Epoch loss : 1.1783278121477854\n"
     ]
    },
    {
     "name": "stderr",
     "output_type": "stream",
     "text": [
      " 72%|███████▏  | 723/1000 [02:01<00:43,  6.37it/s]"
     ]
    },
    {
     "name": "stdout",
     "output_type": "stream",
     "text": [
      "Epoch loss : 1.177542930164083\n",
      "Epoch loss : 1.1767592964326528\n"
     ]
    },
    {
     "name": "stderr",
     "output_type": "stream",
     "text": [
      " 72%|███████▎  | 725/1000 [02:01<00:43,  6.31it/s]"
     ]
    },
    {
     "name": "stdout",
     "output_type": "stream",
     "text": [
      "Epoch loss : 1.1759775078547758\n",
      "Epoch loss : 1.1751970486735475\n"
     ]
    },
    {
     "name": "stderr",
     "output_type": "stream",
     "text": [
      " 73%|███████▎  | 727/1000 [02:02<00:44,  6.18it/s]"
     ]
    },
    {
     "name": "stdout",
     "output_type": "stream",
     "text": [
      "Epoch loss : 1.1744183752671418\n",
      "Epoch loss : 1.173641366665924\n"
     ]
    },
    {
     "name": "stderr",
     "output_type": "stream",
     "text": [
      " 73%|███████▎  | 729/1000 [02:02<00:43,  6.25it/s]"
     ]
    },
    {
     "name": "stdout",
     "output_type": "stream",
     "text": [
      "Epoch loss : 1.1728661477115456\n",
      "Epoch loss : 1.1720928472157859\n"
     ]
    },
    {
     "name": "stderr",
     "output_type": "stream",
     "text": [
      " 73%|███████▎  | 731/1000 [02:02<00:42,  6.28it/s]"
     ]
    },
    {
     "name": "stdout",
     "output_type": "stream",
     "text": [
      "Epoch loss : 1.1713213155212467\n",
      "Epoch loss : 1.1705516279232975\n"
     ]
    },
    {
     "name": "stderr",
     "output_type": "stream",
     "text": [
      " 73%|███████▎  | 733/1000 [02:02<00:42,  6.33it/s]"
     ]
    },
    {
     "name": "stdout",
     "output_type": "stream",
     "text": [
      "Epoch loss : 1.1697837157482331\n",
      "Epoch loss : 1.1690179258503661\n"
     ]
    },
    {
     "name": "stderr",
     "output_type": "stream",
     "text": [
      " 74%|███████▎  | 735/1000 [02:03<00:42,  6.21it/s]"
     ]
    },
    {
     "name": "stdout",
     "output_type": "stream",
     "text": [
      "Epoch loss : 1.1682538528906876\n",
      "Epoch loss : 1.167491437911582\n"
     ]
    },
    {
     "name": "stderr",
     "output_type": "stream",
     "text": [
      " 74%|███████▎  | 737/1000 [02:03<00:42,  6.22it/s]"
     ]
    },
    {
     "name": "stdout",
     "output_type": "stream",
     "text": [
      "Epoch loss : 1.1667305429474166\n",
      "Epoch loss : 1.1659714324802686\n"
     ]
    },
    {
     "name": "stderr",
     "output_type": "stream",
     "text": [
      " 74%|███████▍  | 739/1000 [02:03<00:42,  6.21it/s]"
     ]
    },
    {
     "name": "stdout",
     "output_type": "stream",
     "text": [
      "Epoch loss : 1.1652137964576241\n",
      "Epoch loss : 1.1644578005242412\n"
     ]
    },
    {
     "name": "stderr",
     "output_type": "stream",
     "text": [
      " 74%|███████▍  | 741/1000 [02:04<00:41,  6.19it/s]"
     ]
    },
    {
     "name": "stdout",
     "output_type": "stream",
     "text": [
      "Epoch loss : 1.1637035144611791\n",
      "Epoch loss : 1.1629510279693585\n"
     ]
    },
    {
     "name": "stderr",
     "output_type": "stream",
     "text": [
      " 74%|███████▍  | 743/1000 [02:04<00:41,  6.13it/s]"
     ]
    },
    {
     "name": "stdout",
     "output_type": "stream",
     "text": [
      "Epoch loss : 1.1622002750848022\n",
      "Epoch loss : 1.1614513964620123\n"
     ]
    },
    {
     "name": "stderr",
     "output_type": "stream",
     "text": [
      " 74%|███████▍  | 745/1000 [02:04<00:41,  6.13it/s]"
     ]
    },
    {
     "name": "stdout",
     "output_type": "stream",
     "text": [
      "Epoch loss : 1.1607041725456233\n",
      "Epoch loss : 1.1599591370424969\n"
     ]
    },
    {
     "name": "stderr",
     "output_type": "stream",
     "text": [
      " 75%|███████▍  | 747/1000 [02:05<00:40,  6.23it/s]"
     ]
    },
    {
     "name": "stdout",
     "output_type": "stream",
     "text": [
      "Epoch loss : 1.159215601003921\n",
      "Epoch loss : 1.1584742451843169\n"
     ]
    },
    {
     "name": "stderr",
     "output_type": "stream",
     "text": [
      " 75%|███████▍  | 749/1000 [02:05<00:39,  6.29it/s]"
     ]
    },
    {
     "name": "stdout",
     "output_type": "stream",
     "text": [
      "Epoch loss : 1.1577340257530384\n",
      "Epoch loss : 1.1569954522914976\n"
     ]
    },
    {
     "name": "stderr",
     "output_type": "stream",
     "text": [
      " 75%|███████▌  | 751/1000 [02:05<00:39,  6.24it/s]"
     ]
    },
    {
     "name": "stdout",
     "output_type": "stream",
     "text": [
      "Epoch loss : 1.1562579548609258\n",
      "Epoch loss : 1.1555221025869944\n"
     ]
    },
    {
     "name": "stderr",
     "output_type": "stream",
     "text": [
      " 75%|███████▌  | 753/1000 [02:06<00:39,  6.30it/s]"
     ]
    },
    {
     "name": "stdout",
     "output_type": "stream",
     "text": [
      "Epoch loss : 1.1547876728397417\n",
      "Epoch loss : 1.1540550702169121\n"
     ]
    },
    {
     "name": "stderr",
     "output_type": "stream",
     "text": [
      " 76%|███████▌  | 755/1000 [02:06<00:39,  6.27it/s]"
     ]
    },
    {
     "name": "stdout",
     "output_type": "stream",
     "text": [
      "Epoch loss : 1.1533241151553884\n",
      "Epoch loss : 1.1525947030534018\n"
     ]
    },
    {
     "name": "stderr",
     "output_type": "stream",
     "text": [
      " 76%|███████▌  | 757/1000 [02:06<00:39,  6.14it/s]"
     ]
    },
    {
     "name": "stdout",
     "output_type": "stream",
     "text": [
      "Epoch loss : 1.151866875315706\n",
      "Epoch loss : 1.151140805422236\n"
     ]
    },
    {
     "name": "stderr",
     "output_type": "stream",
     "text": [
      " 76%|███████▌  | 759/1000 [02:07<00:38,  6.27it/s]"
     ]
    },
    {
     "name": "stdout",
     "output_type": "stream",
     "text": [
      "Epoch loss : 1.1504163178872306\n",
      "Epoch loss : 1.1496933813124148\n"
     ]
    },
    {
     "name": "stderr",
     "output_type": "stream",
     "text": [
      " 76%|███████▌  | 761/1000 [02:07<00:37,  6.36it/s]"
     ]
    },
    {
     "name": "stdout",
     "output_type": "stream",
     "text": [
      "Epoch loss : 1.1489721157895891\n",
      "Epoch loss : 1.1482528222014494\n"
     ]
    },
    {
     "name": "stderr",
     "output_type": "stream",
     "text": [
      " 76%|███████▋  | 763/1000 [02:07<00:37,  6.26it/s]"
     ]
    },
    {
     "name": "stdout",
     "output_type": "stream",
     "text": [
      "Epoch loss : 1.1475351972823225\n",
      "Epoch loss : 1.1468191239413552\n"
     ]
    },
    {
     "name": "stderr",
     "output_type": "stream",
     "text": [
      " 76%|███████▋  | 765/1000 [02:08<00:37,  6.24it/s]"
     ]
    },
    {
     "name": "stdout",
     "output_type": "stream",
     "text": [
      "Epoch loss : 1.1461043778760114\n",
      "Epoch loss : 1.1453911756767947\n"
     ]
    },
    {
     "name": "stderr",
     "output_type": "stream",
     "text": [
      " 77%|███████▋  | 767/1000 [02:08<00:40,  5.77it/s]"
     ]
    },
    {
     "name": "stdout",
     "output_type": "stream",
     "text": [
      "Epoch loss : 1.1446793821753627\n",
      "Epoch loss : 1.1439689852291477\n"
     ]
    },
    {
     "name": "stderr",
     "output_type": "stream",
     "text": [
      " 77%|███████▋  | 769/1000 [02:08<00:42,  5.39it/s]"
     ]
    },
    {
     "name": "stdout",
     "output_type": "stream",
     "text": [
      "Epoch loss : 1.1432602396425016\n",
      "Epoch loss : 1.1425533432900052\n"
     ]
    },
    {
     "name": "stderr",
     "output_type": "stream",
     "text": [
      " 77%|███████▋  | 771/1000 [02:09<00:42,  5.40it/s]"
     ]
    },
    {
     "name": "stdout",
     "output_type": "stream",
     "text": [
      "Epoch loss : 1.1418476470132153\n",
      "Epoch loss : 1.1411436149342669\n"
     ]
    },
    {
     "name": "stderr",
     "output_type": "stream",
     "text": [
      " 77%|███████▋  | 773/1000 [02:09<00:42,  5.28it/s]"
     ]
    },
    {
     "name": "stdout",
     "output_type": "stream",
     "text": [
      "Epoch loss : 1.1404409007450151\n",
      "Epoch loss : 1.1397397038151653\n"
     ]
    },
    {
     "name": "stderr",
     "output_type": "stream",
     "text": [
      " 78%|███████▊  | 775/1000 [02:10<00:43,  5.20it/s]"
     ]
    },
    {
     "name": "stdout",
     "output_type": "stream",
     "text": [
      "Epoch loss : 1.1390400660619409\n",
      "Epoch loss : 1.1383421496402832\n"
     ]
    },
    {
     "name": "stderr",
     "output_type": "stream",
     "text": [
      "\r",
      " 78%|███████▊  | 776/1000 [02:10<00:43,  5.14it/s]"
     ]
    },
    {
     "name": "stdout",
     "output_type": "stream",
     "text": [
      "Epoch loss : 1.1376458736343944\n"
     ]
    },
    {
     "name": "stderr",
     "output_type": "stream",
     "text": [
      " 78%|███████▊  | 778/1000 [02:10<00:43,  5.12it/s]"
     ]
    },
    {
     "name": "stdout",
     "output_type": "stream",
     "text": [
      "Epoch loss : 1.1369512134713708\n",
      "Epoch loss : 1.1362582384187796\n"
     ]
    },
    {
     "name": "stderr",
     "output_type": "stream",
     "text": [
      " 78%|███████▊  | 780/1000 [02:11<00:43,  5.02it/s]"
     ]
    },
    {
     "name": "stdout",
     "output_type": "stream",
     "text": [
      "Epoch loss : 1.1355663021258886\n",
      "Epoch loss : 1.134875827838595\n"
     ]
    },
    {
     "name": "stderr",
     "output_type": "stream",
     "text": [
      " 78%|███████▊  | 782/1000 [02:11<00:42,  5.07it/s]"
     ]
    },
    {
     "name": "stdout",
     "output_type": "stream",
     "text": [
      "Epoch loss : 1.1341866311537776\n",
      "Epoch loss : 1.13349907350624\n"
     ]
    },
    {
     "name": "stderr",
     "output_type": "stream",
     "text": [
      " 78%|███████▊  | 784/1000 [02:11<00:43,  5.02it/s]"
     ]
    },
    {
     "name": "stdout",
     "output_type": "stream",
     "text": [
      "Epoch loss : 1.1328129019313236\n",
      "Epoch loss : 1.132128289692028\n"
     ]
    },
    {
     "name": "stderr",
     "output_type": "stream",
     "text": [
      " 79%|███████▊  | 786/1000 [02:12<00:38,  5.50it/s]"
     ]
    },
    {
     "name": "stdout",
     "output_type": "stream",
     "text": [
      "Epoch loss : 1.1314449802887667\n",
      "Epoch loss : 1.1307631614451645\n"
     ]
    },
    {
     "name": "stderr",
     "output_type": "stream",
     "text": [
      " 79%|███████▉  | 788/1000 [02:12<00:36,  5.82it/s]"
     ]
    },
    {
     "name": "stdout",
     "output_type": "stream",
     "text": [
      "Epoch loss : 1.1300828217733012\n",
      "Epoch loss : 1.129404090560481\n"
     ]
    },
    {
     "name": "stderr",
     "output_type": "stream",
     "text": [
      " 79%|███████▉  | 790/1000 [02:12<00:34,  6.06it/s]"
     ]
    },
    {
     "name": "stdout",
     "output_type": "stream",
     "text": [
      "Epoch loss : 1.1287267670632164\n",
      "Epoch loss : 1.1280513336149198\n"
     ]
    },
    {
     "name": "stderr",
     "output_type": "stream",
     "text": [
      " 79%|███████▉  | 792/1000 [02:13<00:34,  6.00it/s]"
     ]
    },
    {
     "name": "stdout",
     "output_type": "stream",
     "text": [
      "Epoch loss : 1.1273773568812122\n",
      "Epoch loss : 1.1267046727702925\n"
     ]
    },
    {
     "name": "stderr",
     "output_type": "stream",
     "text": [
      " 79%|███████▉  | 794/1000 [02:13<00:33,  6.08it/s]"
     ]
    },
    {
     "name": "stdout",
     "output_type": "stream",
     "text": [
      "Epoch loss : 1.1260332830500182\n",
      "Epoch loss : 1.1253633103971967\n"
     ]
    },
    {
     "name": "stderr",
     "output_type": "stream",
     "text": [
      " 80%|███████▉  | 796/1000 [02:13<00:33,  6.18it/s]"
     ]
    },
    {
     "name": "stdout",
     "output_type": "stream",
     "text": [
      "Epoch loss : 1.1246943214903087\n",
      "Epoch loss : 1.124026662515261\n"
     ]
    },
    {
     "name": "stderr",
     "output_type": "stream",
     "text": [
      " 80%|███████▉  | 798/1000 [02:14<00:32,  6.18it/s]"
     ]
    },
    {
     "name": "stdout",
     "output_type": "stream",
     "text": [
      "Epoch loss : 1.1233607963980217\n",
      "Epoch loss : 1.1226961602352765\n"
     ]
    },
    {
     "name": "stderr",
     "output_type": "stream",
     "text": [
      " 80%|████████  | 800/1000 [02:14<00:32,  6.17it/s]"
     ]
    },
    {
     "name": "stdout",
     "output_type": "stream",
     "text": [
      "Epoch loss : 1.1220333428458964\n",
      "Epoch loss : 1.1213713533680887\n"
     ]
    },
    {
     "name": "stderr",
     "output_type": "stream",
     "text": [
      " 80%|████████  | 802/1000 [02:14<00:32,  6.18it/s]"
     ]
    },
    {
     "name": "stdout",
     "output_type": "stream",
     "text": [
      "Epoch loss : 1.1207109102137973\n",
      "Epoch loss : 1.1200518939582784\n"
     ]
    },
    {
     "name": "stderr",
     "output_type": "stream",
     "text": [
      " 80%|████████  | 804/1000 [02:15<00:32,  6.05it/s]"
     ]
    },
    {
     "name": "stdout",
     "output_type": "stream",
     "text": [
      "Epoch loss : 1.1193942782872937\n",
      "Epoch loss : 1.1187384859238987\n"
     ]
    },
    {
     "name": "stderr",
     "output_type": "stream",
     "text": [
      " 81%|████████  | 806/1000 [02:15<00:31,  6.08it/s]"
     ]
    },
    {
     "name": "stdout",
     "output_type": "stream",
     "text": [
      "Epoch loss : 1.118083948816572\n",
      "Epoch loss : 1.1174306892143289\n"
     ]
    },
    {
     "name": "stderr",
     "output_type": "stream",
     "text": [
      " 81%|████████  | 808/1000 [02:15<00:31,  6.14it/s]"
     ]
    },
    {
     "name": "stdout",
     "output_type": "stream",
     "text": [
      "Epoch loss : 1.1167787054757203\n",
      "Epoch loss : 1.1161278772590184\n"
     ]
    },
    {
     "name": "stderr",
     "output_type": "stream",
     "text": [
      " 81%|████████  | 810/1000 [02:16<00:31,  6.09it/s]"
     ]
    },
    {
     "name": "stdout",
     "output_type": "stream",
     "text": [
      "Epoch loss : 1.1154783622100857\n",
      "Epoch loss : 1.1148301206974336\n"
     ]
    },
    {
     "name": "stderr",
     "output_type": "stream",
     "text": [
      " 81%|████████  | 812/1000 [02:16<00:30,  6.19it/s]"
     ]
    },
    {
     "name": "stdout",
     "output_type": "stream",
     "text": [
      "Epoch loss : 1.114183309101735\n",
      "Epoch loss : 1.1135379213013965\n"
     ]
    },
    {
     "name": "stderr",
     "output_type": "stream",
     "text": [
      " 81%|████████▏ | 814/1000 [02:16<00:29,  6.28it/s]"
     ]
    },
    {
     "name": "stdout",
     "output_type": "stream",
     "text": [
      "Epoch loss : 1.112893861848563\n",
      "Epoch loss : 1.1122510592925021\n"
     ]
    },
    {
     "name": "stderr",
     "output_type": "stream",
     "text": [
      " 82%|████████▏ | 816/1000 [02:17<00:29,  6.18it/s]"
     ]
    },
    {
     "name": "stdout",
     "output_type": "stream",
     "text": [
      "Epoch loss : 1.1116096252616199\n",
      "Epoch loss : 1.1109698399320682\n"
     ]
    },
    {
     "name": "stderr",
     "output_type": "stream",
     "text": [
      " 82%|████████▏ | 818/1000 [02:17<00:30,  5.92it/s]"
     ]
    },
    {
     "name": "stdout",
     "output_type": "stream",
     "text": [
      "Epoch loss : 1.1103314959813215\n",
      "Epoch loss : 1.1096946063258828\n"
     ]
    },
    {
     "name": "stderr",
     "output_type": "stream",
     "text": [
      " 82%|████████▏ | 820/1000 [02:17<00:32,  5.51it/s]"
     ]
    },
    {
     "name": "stdout",
     "output_type": "stream",
     "text": [
      "Epoch loss : 1.109058937840846\n",
      "Epoch loss : 1.1084244364641789\n"
     ]
    },
    {
     "name": "stderr",
     "output_type": "stream",
     "text": [
      "\r",
      " 82%|████████▏ | 821/1000 [02:18<00:33,  5.34it/s]"
     ]
    },
    {
     "name": "stdout",
     "output_type": "stream",
     "text": [
      "Epoch loss : 1.1077913854488066\n"
     ]
    },
    {
     "name": "stderr",
     "output_type": "stream",
     "text": [
      " 82%|████████▏ | 823/1000 [02:18<00:34,  5.16it/s]"
     ]
    },
    {
     "name": "stdout",
     "output_type": "stream",
     "text": [
      "Epoch loss : 1.1071592353074076\n",
      "Epoch loss : 1.106528640480334\n"
     ]
    },
    {
     "name": "stderr",
     "output_type": "stream",
     "text": [
      " 82%|████████▎ | 825/1000 [02:18<00:34,  5.05it/s]"
     ]
    },
    {
     "name": "stdout",
     "output_type": "stream",
     "text": [
      "Epoch loss : 1.1058989083582482\n",
      "Epoch loss : 1.1052708202445145\n"
     ]
    },
    {
     "name": "stderr",
     "output_type": "stream",
     "text": [
      " 83%|████████▎ | 827/1000 [02:19<00:33,  5.14it/s]"
     ]
    },
    {
     "name": "stdout",
     "output_type": "stream",
     "text": [
      "Epoch loss : 1.1046438718228162\n",
      "Epoch loss : 1.1040181907333948\n"
     ]
    },
    {
     "name": "stderr",
     "output_type": "stream",
     "text": [
      " 83%|████████▎ | 829/1000 [02:19<00:33,  5.08it/s]"
     ]
    },
    {
     "name": "stdout",
     "output_type": "stream",
     "text": [
      "Epoch loss : 1.1033935222529991\n",
      "Epoch loss : 1.1027700887061431\n"
     ]
    },
    {
     "name": "stderr",
     "output_type": "stream",
     "text": [
      " 83%|████████▎ | 831/1000 [02:20<00:33,  5.09it/s]"
     ]
    },
    {
     "name": "stdout",
     "output_type": "stream",
     "text": [
      "Epoch loss : 1.102147889965988\n",
      "Epoch loss : 1.1015269318111824\n"
     ]
    },
    {
     "name": "stderr",
     "output_type": "stream",
     "text": [
      " 83%|████████▎ | 833/1000 [02:20<00:32,  5.11it/s]"
     ]
    },
    {
     "name": "stdout",
     "output_type": "stream",
     "text": [
      "Epoch loss : 1.1009074700448231\n",
      "Epoch loss : 1.100289424361945\n"
     ]
    },
    {
     "name": "stderr",
     "output_type": "stream",
     "text": [
      " 84%|████████▎ | 835/1000 [02:20<00:32,  5.13it/s]"
     ]
    },
    {
     "name": "stdout",
     "output_type": "stream",
     "text": [
      "Epoch loss : 1.0996726754736557\n",
      "Epoch loss : 1.0990571802872384\n"
     ]
    },
    {
     "name": "stderr",
     "output_type": "stream",
     "text": [
      " 84%|████████▎ | 837/1000 [02:21<00:29,  5.58it/s]"
     ]
    },
    {
     "name": "stdout",
     "output_type": "stream",
     "text": [
      "Epoch loss : 1.098442854385413\n",
      "Epoch loss : 1.0978298017357697\n"
     ]
    },
    {
     "name": "stderr",
     "output_type": "stream",
     "text": [
      " 84%|████████▍ | 839/1000 [02:21<00:27,  5.80it/s]"
     ]
    },
    {
     "name": "stdout",
     "output_type": "stream",
     "text": [
      "Epoch loss : 1.0972176956596977\n",
      "Epoch loss : 1.096607038260785\n"
     ]
    },
    {
     "name": "stderr",
     "output_type": "stream",
     "text": [
      " 84%|████████▍ | 841/1000 [02:21<00:26,  5.93it/s]"
     ]
    },
    {
     "name": "stdout",
     "output_type": "stream",
     "text": [
      "Epoch loss : 1.0959973873627327\n",
      "Epoch loss : 1.095389273263399\n"
     ]
    },
    {
     "name": "stderr",
     "output_type": "stream",
     "text": [
      " 84%|████████▍ | 843/1000 [02:22<00:28,  5.42it/s]"
     ]
    },
    {
     "name": "stdout",
     "output_type": "stream",
     "text": [
      "Epoch loss : 1.094782323133988\n",
      "Epoch loss : 1.0941768548405184\n"
     ]
    },
    {
     "name": "stderr",
     "output_type": "stream",
     "text": [
      " 84%|████████▍ | 845/1000 [02:22<00:29,  5.30it/s]"
     ]
    },
    {
     "name": "stdout",
     "output_type": "stream",
     "text": [
      "Epoch loss : 1.0935723564378317\n",
      "Epoch loss : 1.0929690746633258\n"
     ]
    },
    {
     "name": "stderr",
     "output_type": "stream",
     "text": [
      "\r",
      " 85%|████████▍ | 846/1000 [02:22<00:29,  5.20it/s]"
     ]
    },
    {
     "name": "stdout",
     "output_type": "stream",
     "text": [
      "Epoch loss : 1.0923671885169426\n"
     ]
    },
    {
     "name": "stderr",
     "output_type": "stream",
     "text": [
      "\r",
      " 85%|████████▍ | 847/1000 [02:22<00:30,  5.06it/s]"
     ]
    },
    {
     "name": "stdout",
     "output_type": "stream",
     "text": [
      "Epoch loss : 1.0917665910896754\n",
      "Epoch loss : 1.0911673064681016\n"
     ]
    },
    {
     "name": "stderr",
     "output_type": "stream",
     "text": [
      " 85%|████████▍ | 849/1000 [02:23<00:29,  5.06it/s]"
     ]
    },
    {
     "name": "stdout",
     "output_type": "stream",
     "text": [
      "Epoch loss : 1.0905691693461685\n"
     ]
    },
    {
     "name": "stderr",
     "output_type": "stream",
     "text": [
      "\r",
      " 85%|████████▌ | 850/1000 [02:23<00:29,  5.02it/s]"
     ]
    },
    {
     "name": "stdout",
     "output_type": "stream",
     "text": [
      "Epoch loss : 1.0899720505191999\n"
     ]
    },
    {
     "name": "stderr",
     "output_type": "stream",
     "text": [
      " 85%|████████▌ | 852/1000 [02:23<00:29,  5.05it/s]"
     ]
    },
    {
     "name": "stdout",
     "output_type": "stream",
     "text": [
      "Epoch loss : 1.0893763612576712\n",
      "Epoch loss : 1.0887811453724412\n"
     ]
    },
    {
     "name": "stderr",
     "output_type": "stream",
     "text": [
      "\r",
      " 85%|████████▌ | 853/1000 [02:24<00:28,  5.09it/s]"
     ]
    },
    {
     "name": "stdout",
     "output_type": "stream",
     "text": [
      "Epoch loss : 1.0881872725347002\n"
     ]
    },
    {
     "name": "stderr",
     "output_type": "stream",
     "text": [
      " 86%|████████▌ | 855/1000 [02:24<00:28,  5.09it/s]"
     ]
    },
    {
     "name": "stdout",
     "output_type": "stream",
     "text": [
      "Epoch loss : 1.0875944097130723\n",
      "Epoch loss : 1.087002704084268\n"
     ]
    },
    {
     "name": "stderr",
     "output_type": "stream",
     "text": [
      " 86%|████████▌ | 857/1000 [02:24<00:27,  5.15it/s]"
     ]
    },
    {
     "name": "stdout",
     "output_type": "stream",
     "text": [
      "Epoch loss : 1.0864122368806155\n",
      "Epoch loss : 1.0858231328019183\n"
     ]
    },
    {
     "name": "stderr",
     "output_type": "stream",
     "text": [
      "\r",
      " 86%|████████▌ | 858/1000 [02:25<00:27,  5.13it/s]"
     ]
    },
    {
     "name": "stdout",
     "output_type": "stream",
     "text": [
      "Epoch loss : 1.0852352483212808\n"
     ]
    },
    {
     "name": "stderr",
     "output_type": "stream",
     "text": [
      " 86%|████████▌ | 860/1000 [02:25<00:27,  5.12it/s]"
     ]
    },
    {
     "name": "stdout",
     "output_type": "stream",
     "text": [
      "Epoch loss : 1.0846483811569574\n",
      "Epoch loss : 1.0840627824858178\n"
     ]
    },
    {
     "name": "stderr",
     "output_type": "stream",
     "text": [
      " 86%|████████▌ | 862/1000 [02:25<00:24,  5.59it/s]"
     ]
    },
    {
     "name": "stdout",
     "output_type": "stream",
     "text": [
      "Epoch loss : 1.0834785047699627\n",
      "Epoch loss : 1.0828955403533862\n"
     ]
    },
    {
     "name": "stderr",
     "output_type": "stream",
     "text": [
      " 86%|████████▋ | 864/1000 [02:26<00:23,  5.85it/s]"
     ]
    },
    {
     "name": "stdout",
     "output_type": "stream",
     "text": [
      "Epoch loss : 1.0823136073381987\n",
      "Epoch loss : 1.0817326427340783\n"
     ]
    },
    {
     "name": "stderr",
     "output_type": "stream",
     "text": [
      " 87%|████████▋ | 866/1000 [02:26<00:22,  6.02it/s]"
     ]
    },
    {
     "name": "stdout",
     "output_type": "stream",
     "text": [
      "Epoch loss : 1.0811528436703488\n",
      "Epoch loss : 1.0805740450642676\n"
     ]
    },
    {
     "name": "stderr",
     "output_type": "stream",
     "text": [
      " 87%|████████▋ | 868/1000 [02:26<00:21,  6.04it/s]"
     ]
    },
    {
     "name": "stdout",
     "output_type": "stream",
     "text": [
      "Epoch loss : 1.0799967203987924\n",
      "Epoch loss : 1.0794205231422103\n"
     ]
    },
    {
     "name": "stderr",
     "output_type": "stream",
     "text": [
      " 87%|████████▋ | 870/1000 [02:27<00:21,  6.06it/s]"
     ]
    },
    {
     "name": "stdout",
     "output_type": "stream",
     "text": [
      "Epoch loss : 1.0788456997206763\n",
      "Epoch loss : 1.0782715697562557\n"
     ]
    },
    {
     "name": "stderr",
     "output_type": "stream",
     "text": [
      " 87%|████████▋ | 872/1000 [02:27<00:20,  6.12it/s]"
     ]
    },
    {
     "name": "stdout",
     "output_type": "stream",
     "text": [
      "Epoch loss : 1.077698738271826\n",
      "Epoch loss : 1.0771266573072846\n"
     ]
    },
    {
     "name": "stderr",
     "output_type": "stream",
     "text": [
      " 87%|████████▋ | 874/1000 [02:27<00:20,  6.18it/s]"
     ]
    },
    {
     "name": "stdout",
     "output_type": "stream",
     "text": [
      "Epoch loss : 1.0765558107393578\n",
      "Epoch loss : 1.0759857550212257\n"
     ]
    },
    {
     "name": "stderr",
     "output_type": "stream",
     "text": [
      " 88%|████████▊ | 876/1000 [02:28<00:20,  6.15it/s]"
     ]
    },
    {
     "name": "stdout",
     "output_type": "stream",
     "text": [
      "Epoch loss : 1.075417225350993\n",
      "Epoch loss : 1.074849732132739\n"
     ]
    },
    {
     "name": "stderr",
     "output_type": "stream",
     "text": [
      " 88%|████████▊ | 878/1000 [02:28<00:19,  6.23it/s]"
     ]
    },
    {
     "name": "stdout",
     "output_type": "stream",
     "text": [
      "Epoch loss : 1.0742836008706005\n",
      "Epoch loss : 1.0737182734723378\n"
     ]
    },
    {
     "name": "stderr",
     "output_type": "stream",
     "text": [
      " 88%|████████▊ | 880/1000 [02:28<00:18,  6.38it/s]"
     ]
    },
    {
     "name": "stdout",
     "output_type": "stream",
     "text": [
      "Epoch loss : 1.073154127889051\n",
      "Epoch loss : 1.0725908114398746\n"
     ]
    },
    {
     "name": "stderr",
     "output_type": "stream",
     "text": [
      " 88%|████████▊ | 882/1000 [02:29<00:18,  6.31it/s]"
     ]
    },
    {
     "name": "stdout",
     "output_type": "stream",
     "text": [
      "Epoch loss : 1.0720286076942989\n",
      "Epoch loss : 1.0714673419742762\n"
     ]
    },
    {
     "name": "stderr",
     "output_type": "stream",
     "text": [
      " 88%|████████▊ | 884/1000 [02:29<00:18,  6.19it/s]"
     ]
    },
    {
     "name": "stdout",
     "output_type": "stream",
     "text": [
      "Epoch loss : 1.070907252782941\n",
      "Epoch loss : 1.0703481649954665\n"
     ]
    },
    {
     "name": "stderr",
     "output_type": "stream",
     "text": [
      " 89%|████████▊ | 886/1000 [02:29<00:18,  6.18it/s]"
     ]
    },
    {
     "name": "stdout",
     "output_type": "stream",
     "text": [
      "Epoch loss : 1.0697903355009812\n",
      "Epoch loss : 1.0692335614844586\n"
     ]
    },
    {
     "name": "stderr",
     "output_type": "stream",
     "text": [
      " 89%|████████▉ | 888/1000 [02:30<00:18,  6.07it/s]"
     ]
    },
    {
     "name": "stdout",
     "output_type": "stream",
     "text": [
      "Epoch loss : 1.0686778992743744\n",
      "Epoch loss : 1.068123281802143\n"
     ]
    },
    {
     "name": "stderr",
     "output_type": "stream",
     "text": [
      " 89%|████████▉ | 890/1000 [02:30<00:17,  6.13it/s]"
     ]
    },
    {
     "name": "stdout",
     "output_type": "stream",
     "text": [
      "Epoch loss : 1.0675699907977079\n",
      "Epoch loss : 1.0670176858741245\n"
     ]
    },
    {
     "name": "stderr",
     "output_type": "stream",
     "text": [
      " 89%|████████▉ | 892/1000 [02:30<00:17,  6.22it/s]"
     ]
    },
    {
     "name": "stdout",
     "output_type": "stream",
     "text": [
      "Epoch loss : 1.0664665371918784\n",
      "Epoch loss : 1.065916859680628\n"
     ]
    },
    {
     "name": "stderr",
     "output_type": "stream",
     "text": [
      " 89%|████████▉ | 894/1000 [02:31<00:16,  6.27it/s]"
     ]
    },
    {
     "name": "stdout",
     "output_type": "stream",
     "text": [
      "Epoch loss : 1.065368587395045\n",
      "Epoch loss : 1.0648208367424523\n"
     ]
    },
    {
     "name": "stderr",
     "output_type": "stream",
     "text": [
      " 90%|████████▉ | 896/1000 [02:31<00:16,  6.23it/s]"
     ]
    },
    {
     "name": "stdout",
     "output_type": "stream",
     "text": [
      "Epoch loss : 1.0642742273304715\n",
      "Epoch loss : 1.063728192618915\n"
     ]
    },
    {
     "name": "stderr",
     "output_type": "stream",
     "text": [
      " 90%|████████▉ | 898/1000 [02:31<00:16,  6.23it/s]"
     ]
    },
    {
     "name": "stdout",
     "output_type": "stream",
     "text": [
      "Epoch loss : 1.0631832817419449\n",
      "Epoch loss : 1.0626391664329908\n"
     ]
    },
    {
     "name": "stderr",
     "output_type": "stream",
     "text": [
      " 90%|█████████ | 900/1000 [02:32<00:16,  6.08it/s]"
     ]
    },
    {
     "name": "stdout",
     "output_type": "stream",
     "text": [
      "Epoch loss : 1.0620961017298354\n",
      "Epoch loss : 1.0615537785841358\n"
     ]
    },
    {
     "name": "stderr",
     "output_type": "stream",
     "text": [
      " 90%|█████████ | 902/1000 [02:32<00:16,  6.10it/s]"
     ]
    },
    {
     "name": "stdout",
     "output_type": "stream",
     "text": [
      "Epoch loss : 1.0610125818206917\n",
      "Epoch loss : 1.0604722390299097\n"
     ]
    },
    {
     "name": "stderr",
     "output_type": "stream",
     "text": [
      " 90%|█████████ | 904/1000 [02:32<00:15,  6.09it/s]"
     ]
    },
    {
     "name": "stdout",
     "output_type": "stream",
     "text": [
      "Epoch loss : 1.0599329833691302\n",
      "Epoch loss : 1.0593947999670574\n"
     ]
    },
    {
     "name": "stderr",
     "output_type": "stream",
     "text": [
      " 91%|█████████ | 906/1000 [02:33<00:15,  6.06it/s]"
     ]
    },
    {
     "name": "stdout",
     "output_type": "stream",
     "text": [
      "Epoch loss : 1.058857577358491\n",
      "Epoch loss : 1.0583217590376242\n"
     ]
    },
    {
     "name": "stderr",
     "output_type": "stream",
     "text": [
      " 91%|█████████ | 908/1000 [02:33<00:15,  6.11it/s]"
     ]
    },
    {
     "name": "stdout",
     "output_type": "stream",
     "text": [
      "Epoch loss : 1.057786989335254\n",
      "Epoch loss : 1.057253394570973\n"
     ]
    },
    {
     "name": "stderr",
     "output_type": "stream",
     "text": [
      " 91%|█████████ | 910/1000 [02:33<00:14,  6.17it/s]"
     ]
    },
    {
     "name": "stdout",
     "output_type": "stream",
     "text": [
      "Epoch loss : 1.0567207366729727\n",
      "Epoch loss : 1.0561891292169854\n"
     ]
    },
    {
     "name": "stderr",
     "output_type": "stream",
     "text": [
      " 91%|█████████ | 912/1000 [02:34<00:14,  6.13it/s]"
     ]
    },
    {
     "name": "stdout",
     "output_type": "stream",
     "text": [
      "Epoch loss : 1.0556584628798173\n",
      "Epoch loss : 1.0551289099376453\n"
     ]
    },
    {
     "name": "stderr",
     "output_type": "stream",
     "text": [
      " 91%|█████████▏| 914/1000 [02:34<00:13,  6.20it/s]"
     ]
    },
    {
     "name": "stdout",
     "output_type": "stream",
     "text": [
      "Epoch loss : 1.054600038059374\n",
      "Epoch loss : 1.0540720541370907\n"
     ]
    },
    {
     "name": "stderr",
     "output_type": "stream",
     "text": [
      " 92%|█████████▏| 916/1000 [02:34<00:13,  6.16it/s]"
     ]
    },
    {
     "name": "stdout",
     "output_type": "stream",
     "text": [
      "Epoch loss : 1.0535452706761699\n",
      "Epoch loss : 1.0530191705899727\n"
     ]
    },
    {
     "name": "stderr",
     "output_type": "stream",
     "text": [
      " 92%|█████████▏| 918/1000 [02:34<00:13,  6.06it/s]"
     ]
    },
    {
     "name": "stdout",
     "output_type": "stream",
     "text": [
      "Epoch loss : 1.052494159601507\n",
      "Epoch loss : 1.0519700857217795\n"
     ]
    },
    {
     "name": "stderr",
     "output_type": "stream",
     "text": [
      " 92%|█████████▏| 920/1000 [02:35<00:13,  5.94it/s]"
     ]
    },
    {
     "name": "stdout",
     "output_type": "stream",
     "text": [
      "Epoch loss : 1.0514470675620082\n",
      "Epoch loss : 1.050925148313784\n"
     ]
    },
    {
     "name": "stderr",
     "output_type": "stream",
     "text": [
      " 92%|█████████▏| 922/1000 [02:35<00:14,  5.54it/s]"
     ]
    },
    {
     "name": "stdout",
     "output_type": "stream",
     "text": [
      "Epoch loss : 1.0504044067930838\n",
      "Epoch loss : 1.0498853754173003\n"
     ]
    },
    {
     "name": "stderr",
     "output_type": "stream",
     "text": [
      " 92%|█████████▏| 924/1000 [02:36<00:14,  5.26it/s]"
     ]
    },
    {
     "name": "stdout",
     "output_type": "stream",
     "text": [
      "Epoch loss : 1.049366483587937\n",
      "Epoch loss : 1.0488486842717573\n"
     ]
    },
    {
     "name": "stderr",
     "output_type": "stream",
     "text": [
      "\r",
      " 92%|█████████▎| 925/1000 [02:36<00:14,  5.19it/s]"
     ]
    },
    {
     "name": "stdout",
     "output_type": "stream",
     "text": [
      "Epoch loss : 1.0483315347162452\n"
     ]
    },
    {
     "name": "stderr",
     "output_type": "stream",
     "text": [
      " 93%|█████████▎| 927/1000 [02:36<00:14,  5.09it/s]"
     ]
    },
    {
     "name": "stdout",
     "output_type": "stream",
     "text": [
      "Epoch loss : 1.0478150913782305\n",
      "Epoch loss : 1.0472997052615514\n"
     ]
    },
    {
     "name": "stderr",
     "output_type": "stream",
     "text": [
      " 93%|█████████▎| 929/1000 [02:37<00:14,  5.00it/s]"
     ]
    },
    {
     "name": "stdout",
     "output_type": "stream",
     "text": [
      "Epoch loss : 1.0467852207999033\n",
      "Epoch loss : 1.046271867662251\n"
     ]
    },
    {
     "name": "stderr",
     "output_type": "stream",
     "text": [
      " 93%|█████████▎| 931/1000 [02:37<00:13,  5.00it/s]"
     ]
    },
    {
     "name": "stdout",
     "output_type": "stream",
     "text": [
      "Epoch loss : 1.045759335481031\n",
      "Epoch loss : 1.045247653312381\n"
     ]
    },
    {
     "name": "stderr",
     "output_type": "stream",
     "text": [
      "\r",
      " 93%|█████████▎| 932/1000 [02:37<00:13,  4.94it/s]"
     ]
    },
    {
     "name": "stdout",
     "output_type": "stream",
     "text": [
      "Epoch loss : 1.0447367008996111\n"
     ]
    },
    {
     "name": "stderr",
     "output_type": "stream",
     "text": [
      " 93%|█████████▎| 934/1000 [02:38<00:13,  4.98it/s]"
     ]
    },
    {
     "name": "stdout",
     "output_type": "stream",
     "text": [
      "Epoch loss : 1.0442268309626421\n",
      "Epoch loss : 1.0437176969411286\n"
     ]
    },
    {
     "name": "stderr",
     "output_type": "stream",
     "text": [
      " 94%|█████████▎| 936/1000 [02:38<00:12,  5.07it/s]"
     ]
    },
    {
     "name": "stdout",
     "output_type": "stream",
     "text": [
      "Epoch loss : 1.0432097862015433\n",
      "Epoch loss : 1.0427027173114256\n"
     ]
    },
    {
     "name": "stderr",
     "output_type": "stream",
     "text": [
      " 94%|█████████▍| 938/1000 [02:38<00:12,  4.98it/s]"
     ]
    },
    {
     "name": "stdout",
     "output_type": "stream",
     "text": [
      "Epoch loss : 1.0421969744025579\n",
      "Epoch loss : 1.041692281686294\n"
     ]
    },
    {
     "name": "stderr",
     "output_type": "stream",
     "text": [
      " 94%|█████████▍| 940/1000 [02:39<00:11,  5.28it/s]"
     ]
    },
    {
     "name": "stdout",
     "output_type": "stream",
     "text": [
      "Epoch loss : 1.0411884675848597\n",
      "Epoch loss : 1.0406852460129463\n"
     ]
    },
    {
     "name": "stderr",
     "output_type": "stream",
     "text": [
      " 94%|█████████▍| 942/1000 [02:39<00:10,  5.55it/s]"
     ]
    },
    {
     "name": "stdout",
     "output_type": "stream",
     "text": [
      "Epoch loss : 1.040183066676641\n",
      "Epoch loss : 1.0396817330550996\n"
     ]
    },
    {
     "name": "stderr",
     "output_type": "stream",
     "text": [
      " 94%|█████████▍| 944/1000 [02:39<00:09,  5.71it/s]"
     ]
    },
    {
     "name": "stdout",
     "output_type": "stream",
     "text": [
      "Epoch loss : 1.039181479138825\n",
      "Epoch loss : 1.0386820518272786\n"
     ]
    },
    {
     "name": "stderr",
     "output_type": "stream",
     "text": [
      " 95%|█████████▍| 946/1000 [02:40<00:09,  5.89it/s]"
     ]
    },
    {
     "name": "stdout",
     "output_type": "stream",
     "text": [
      "Epoch loss : 1.0381840735163008\n",
      "Epoch loss : 1.037686646759636\n"
     ]
    },
    {
     "name": "stderr",
     "output_type": "stream",
     "text": [
      " 95%|█████████▍| 948/1000 [02:40<00:08,  5.88it/s]"
     ]
    },
    {
     "name": "stdout",
     "output_type": "stream",
     "text": [
      "Epoch loss : 1.0371902473716197\n",
      "Epoch loss : 1.0366941989147211\n"
     ]
    },
    {
     "name": "stderr",
     "output_type": "stream",
     "text": [
      " 95%|█████████▌| 950/1000 [02:40<00:08,  5.95it/s]"
     ]
    },
    {
     "name": "stdout",
     "output_type": "stream",
     "text": [
      "Epoch loss : 1.036199345515513\n",
      "Epoch loss : 1.0357050565085912\n"
     ]
    },
    {
     "name": "stderr",
     "output_type": "stream",
     "text": [
      " 95%|█████████▌| 952/1000 [02:41<00:07,  6.06it/s]"
     ]
    },
    {
     "name": "stdout",
     "output_type": "stream",
     "text": [
      "Epoch loss : 1.0352118253118734\n",
      "Epoch loss : 1.034719603547529\n"
     ]
    },
    {
     "name": "stderr",
     "output_type": "stream",
     "text": [
      " 95%|█████████▌| 954/1000 [02:41<00:07,  6.06it/s]"
     ]
    },
    {
     "name": "stdout",
     "output_type": "stream",
     "text": [
      "Epoch loss : 1.0342281286363713\n",
      "Epoch loss : 1.0337375305571146\n"
     ]
    },
    {
     "name": "stderr",
     "output_type": "stream",
     "text": [
      " 96%|█████████▌| 956/1000 [02:41<00:07,  6.08it/s]"
     ]
    },
    {
     "name": "stdout",
     "output_type": "stream",
     "text": [
      "Epoch loss : 1.0332478105141853\n",
      "Epoch loss : 1.032759013887978\n"
     ]
    },
    {
     "name": "stderr",
     "output_type": "stream",
     "text": [
      " 96%|█████████▌| 958/1000 [02:42<00:06,  6.01it/s]"
     ]
    },
    {
     "name": "stdout",
     "output_type": "stream",
     "text": [
      "Epoch loss : 1.0322709032435402\n",
      "Epoch loss : 1.031783791963081\n"
     ]
    },
    {
     "name": "stderr",
     "output_type": "stream",
     "text": [
      " 96%|█████████▌| 960/1000 [02:42<00:06,  6.00it/s]"
     ]
    },
    {
     "name": "stdout",
     "output_type": "stream",
     "text": [
      "Epoch loss : 1.0312974600716105\n",
      "Epoch loss : 1.0308120878621314\n"
     ]
    },
    {
     "name": "stderr",
     "output_type": "stream",
     "text": [
      " 96%|█████████▌| 962/1000 [02:42<00:06,  5.96it/s]"
     ]
    },
    {
     "name": "stdout",
     "output_type": "stream",
     "text": [
      "Epoch loss : 1.0303275908708076\n",
      "Epoch loss : 1.0298441202845618\n"
     ]
    },
    {
     "name": "stderr",
     "output_type": "stream",
     "text": [
      " 96%|█████████▋| 964/1000 [02:43<00:05,  6.04it/s]"
     ]
    },
    {
     "name": "stdout",
     "output_type": "stream",
     "text": [
      "Epoch loss : 1.0293613670987627\n",
      "Epoch loss : 1.0288794742196923\n"
     ]
    },
    {
     "name": "stderr",
     "output_type": "stream",
     "text": [
      " 97%|█████████▋| 966/1000 [02:43<00:05,  6.07it/s]"
     ]
    },
    {
     "name": "stdout",
     "output_type": "stream",
     "text": [
      "Epoch loss : 1.028398542005781\n",
      "Epoch loss : 1.0279184957891394\n"
     ]
    },
    {
     "name": "stderr",
     "output_type": "stream",
     "text": [
      " 97%|█████████▋| 968/1000 [02:43<00:05,  6.05it/s]"
     ]
    },
    {
     "name": "stdout",
     "output_type": "stream",
     "text": [
      "Epoch loss : 1.027439189539084\n",
      "Epoch loss : 1.0269611864004375\n"
     ]
    },
    {
     "name": "stderr",
     "output_type": "stream",
     "text": [
      " 97%|█████████▋| 970/1000 [02:44<00:04,  6.11it/s]"
     ]
    },
    {
     "name": "stdout",
     "output_type": "stream",
     "text": [
      "Epoch loss : 1.0264837699399645\n",
      "Epoch loss : 1.026007295995029\n"
     ]
    },
    {
     "name": "stderr",
     "output_type": "stream",
     "text": [
      " 97%|█████████▋| 972/1000 [02:44<00:04,  6.08it/s]"
     ]
    },
    {
     "name": "stdout",
     "output_type": "stream",
     "text": [
      "Epoch loss : 1.0255317002697537\n",
      "Epoch loss : 1.0250570793830074\n"
     ]
    },
    {
     "name": "stderr",
     "output_type": "stream",
     "text": [
      " 97%|█████████▋| 974/1000 [02:44<00:04,  5.98it/s]"
     ]
    },
    {
     "name": "stdout",
     "output_type": "stream",
     "text": [
      "Epoch loss : 1.0245830091785062\n",
      "Epoch loss : 1.024110008387901\n"
     ]
    },
    {
     "name": "stderr",
     "output_type": "stream",
     "text": [
      " 98%|█████████▊| 976/1000 [02:45<00:03,  6.09it/s]"
     ]
    },
    {
     "name": "stdout",
     "output_type": "stream",
     "text": [
      "Epoch loss : 1.0236374879075931\n",
      "Epoch loss : 1.023165830456209\n"
     ]
    },
    {
     "name": "stderr",
     "output_type": "stream",
     "text": [
      " 98%|█████████▊| 978/1000 [02:45<00:03,  6.07it/s]"
     ]
    },
    {
     "name": "stdout",
     "output_type": "stream",
     "text": [
      "Epoch loss : 1.0226947470703291\n",
      "Epoch loss : 1.0222245094756042\n"
     ]
    },
    {
     "name": "stderr",
     "output_type": "stream",
     "text": [
      " 98%|█████████▊| 980/1000 [02:45<00:03,  6.01it/s]"
     ]
    },
    {
     "name": "stdout",
     "output_type": "stream",
     "text": [
      "Epoch loss : 1.0217552627441955\n",
      "Epoch loss : 1.0212867671482417\n"
     ]
    },
    {
     "name": "stderr",
     "output_type": "stream",
     "text": [
      " 98%|█████████▊| 982/1000 [02:46<00:02,  6.10it/s]"
     ]
    },
    {
     "name": "stdout",
     "output_type": "stream",
     "text": [
      "Epoch loss : 1.0208191491993075\n",
      "Epoch loss : 1.0203524706495999\n"
     ]
    },
    {
     "name": "stderr",
     "output_type": "stream",
     "text": [
      " 98%|█████████▊| 984/1000 [02:46<00:02,  6.11it/s]"
     ]
    },
    {
     "name": "stdout",
     "output_type": "stream",
     "text": [
      "Epoch loss : 1.0198864782077857\n",
      "Epoch loss : 1.0194214693814274\n"
     ]
    },
    {
     "name": "stderr",
     "output_type": "stream",
     "text": [
      " 99%|█████████▊| 986/1000 [02:46<00:02,  6.00it/s]"
     ]
    },
    {
     "name": "stdout",
     "output_type": "stream",
     "text": [
      "Epoch loss : 1.0189570206742602\n",
      "Epoch loss : 1.0184934698187313\n"
     ]
    },
    {
     "name": "stderr",
     "output_type": "stream",
     "text": [
      " 99%|█████████▉| 988/1000 [02:47<00:01,  6.11it/s]"
     ]
    },
    {
     "name": "stdout",
     "output_type": "stream",
     "text": [
      "Epoch loss : 1.0180305058974868\n",
      "Epoch loss : 1.017568467175852\n"
     ]
    },
    {
     "name": "stderr",
     "output_type": "stream",
     "text": [
      " 99%|█████████▉| 990/1000 [02:47<00:01,  6.21it/s]"
     ]
    },
    {
     "name": "stdout",
     "output_type": "stream",
     "text": [
      "Epoch loss : 1.0171073068227878\n",
      "Epoch loss : 1.0166469814708137\n"
     ]
    },
    {
     "name": "stderr",
     "output_type": "stream",
     "text": [
      " 99%|█████████▉| 992/1000 [02:47<00:01,  6.14it/s]"
     ]
    },
    {
     "name": "stdout",
     "output_type": "stream",
     "text": [
      "Epoch loss : 1.0161875459858556\n",
      "Epoch loss : 1.0157290610839282\n"
     ]
    },
    {
     "name": "stderr",
     "output_type": "stream",
     "text": [
      " 99%|█████████▉| 994/1000 [02:48<00:00,  6.25it/s]"
     ]
    },
    {
     "name": "stdout",
     "output_type": "stream",
     "text": [
      "Epoch loss : 1.0152713979401018\n",
      "Epoch loss : 1.0148149546072396\n"
     ]
    },
    {
     "name": "stderr",
     "output_type": "stream",
     "text": [
      "100%|█████████▉| 996/1000 [02:48<00:00,  6.22it/s]"
     ]
    },
    {
     "name": "stdout",
     "output_type": "stream",
     "text": [
      "Epoch loss : 1.0143585111924152\n",
      "Epoch loss : 1.0139028882489625\n"
     ]
    },
    {
     "name": "stderr",
     "output_type": "stream",
     "text": [
      "100%|█████████▉| 998/1000 [02:48<00:00,  6.13it/s]"
     ]
    },
    {
     "name": "stdout",
     "output_type": "stream",
     "text": [
      "Epoch loss : 1.013448056762173\n",
      "Epoch loss : 1.012994520019792\n"
     ]
    },
    {
     "name": "stderr",
     "output_type": "stream",
     "text": [
      "\r",
      "100%|█████████▉| 999/1000 [02:49<00:00,  6.16it/s]"
     ]
    },
    {
     "name": "stdout",
     "output_type": "stream",
     "text": [
      "Epoch loss : 1.0125415116056307\n",
      "Epoch loss : 1.0120892664995789\n"
     ]
    },
    {
     "name": "stderr",
     "output_type": "stream",
     "text": [
      "100%|██████████| 1000/1000 [02:49<00:00,  5.91it/s]\n"
     ]
    }
   ],
   "source": [
    "import numpy as np\n",
    "import torch.optim\n",
    "from tqdm import tqdm\n",
    "# Create the train loop\n",
    "def train_epoch(model, train_dataloader,optimizer, criterion, device = torch.device(\"cuda\"), train_steps= 100):\n",
    "        model.train()\n",
    "        running_loss = []\n",
    "\n",
    "        for i in tqdm(range(1000)):\n",
    "            for i, batch_data in enumerate(train_dataloader, 1):\n",
    "                inputs = batch_data[0].to(device)\n",
    "                labels = batch_data[1].to(device)\n",
    "\n",
    "                optimizer.zero_grad()\n",
    "                outputs = model(inputs)\n",
    "                loss = criterion(outputs, labels)\n",
    "                loss.backward()\n",
    "                optimizer.step()\n",
    "\n",
    "                running_loss.append(loss.item())\n",
    "\n",
    "                if i == train_steps:\n",
    "                    break\n",
    "\n",
    "            epoch_loss = np.mean(running_loss)\n",
    "            print(f\"Epoch loss : {epoch_loss}\")\n",
    "\n",
    "# Create a CBOW model\n",
    "\n",
    "data_set = DataSet()\n",
    "vocab = data_set.get_vocabulary()\n",
    "\n",
    "model = CbowModel(vocab_size=len(vocab))\n",
    "model.to(torch.device(\"cuda\"))\n",
    "optimizer = torch.optim.Adam(model.parameters(), lr=0.001)\n",
    "loss_criteria = torch.nn.CrossEntropyLoss()\n",
    "\n",
    "train_epoch(model=model, \n",
    "            train_dataloader=DataSet.get_dataloader_and_vocab(model_name=\"cbow\", batch_size=15, vocab=vocab, shuffle=False)[0],\n",
    "            optimizer=optimizer, criterion=loss_criteria\n",
    "            )\n"
   ]
  },
  {
   "cell_type": "code",
   "execution_count": 6,
   "metadata": {
    "colab": {
     "base_uri": "https://localhost:8080/"
    },
    "id": "G-BVft0ccR36",
    "outputId": "2b3785cb-1e4d-4bfc-f1a6-7d22fc582fce"
   },
   "outputs": [
    {
     "name": "stdout",
     "output_type": "stream",
     "text": [
      "True\n"
     ]
    }
   ],
   "source": [
    "print(torch.cuda.is_available())"
   ]
  },
  {
   "cell_type": "code",
   "execution_count": 8,
   "metadata": {
    "id": "vv9H9EMVf6T9"
   },
   "outputs": [],
   "source": [
    "import numpy as np\n",
    "import pandas as pd\n",
    "import torch\n",
    "import sys\n",
    "\n",
    "from sklearn.manifold import TSNE\n",
    "import plotly.graph_objects as go\n"
   ]
  },
  {
   "cell_type": "code",
   "execution_count": 9,
   "metadata": {
    "colab": {
     "base_uri": "https://localhost:8080/"
    },
    "id": "0pwpRBDmf93f",
    "outputId": "bc3bce58-a255-4afc-dbac-9ed04a8e518a"
   },
   "outputs": [
    {
     "data": {
      "text/plain": [
       "(1123, 150)"
      ]
     },
     "execution_count": 9,
     "metadata": {},
     "output_type": "execute_result"
    }
   ],
   "source": [
    "# embedding from first model layer\n",
    "embeddings = list(model.parameters())[0]\n",
    "embeddings = embeddings.cpu().detach().numpy()\n",
    "\n",
    "# normalization\n",
    "norms = (embeddings ** 2).sum(axis=1) ** (1 / 2)\n",
    "norms = np.reshape(norms, (len(norms), 1))\n",
    "embeddings_norm = embeddings / norms\n",
    "embeddings_norm.shape"
   ]
  },
  {
   "cell_type": "code",
   "execution_count": 11,
   "metadata": {
    "id": "hj2V2i9VgCMG"
   },
   "outputs": [],
   "source": [
    "\n",
    "\n",
    "# get embeddings\n",
    "embeddings_df = pd.DataFrame(embeddings)\n",
    "\n",
    "# t-SNE transform\n",
    "tsne = TSNE(n_components=2)\n",
    "embeddings_df_trans = tsne.fit_transform(embeddings_df)\n",
    "embeddings_df_trans = pd.DataFrame(embeddings_df_trans)\n",
    "\n",
    "# get token order\n",
    "embeddings_df_trans.index = data_set._indexed_vocabulary.keys()\n",
    "\n",
    "# if token is a number\n",
    "is_numeric = embeddings_df_trans.index.str.isnumeric()\n",
    "\n"
   ]
  },
  {
   "cell_type": "code",
   "execution_count": 12,
   "metadata": {
    "colab": {
     "base_uri": "https://localhost:8080/",
     "height": 542
    },
    "id": "7qomrkD6gkIk",
    "outputId": "87279411-98fd-471c-e45c-14c7f6c18c97"
   },
   "outputs": [
    {
     "data": {
      "text/html": [
       "<html>\n",
       "<head><meta charset=\"utf-8\" /></head>\n",
       "<body>\n",
       "    <div>            <script src=\"https://cdnjs.cloudflare.com/ajax/libs/mathjax/2.7.5/MathJax.js?config=TeX-AMS-MML_SVG\"></script><script type=\"text/javascript\">if (window.MathJax && window.MathJax.Hub && window.MathJax.Hub.Config) {window.MathJax.Hub.Config({SVG: {font: \"STIX-Web\"}});}</script>                <script type=\"text/javascript\">window.PlotlyConfig = {MathJaxConfig: 'local'};</script>\n",
       "        <script src=\"https://cdn.plot.ly/plotly-2.18.2.min.js\"></script>                <div id=\"489f3b8a-21b8-44ab-a27b-f6f3cfb897cc\" class=\"plotly-graph-div\" style=\"height:525px; width:100%;\"></div>            <script type=\"text/javascript\">                                    window.PLOTLYENV=window.PLOTLYENV || {};                                    if (document.getElementById(\"489f3b8a-21b8-44ab-a27b-f6f3cfb897cc\")) {                    Plotly.newPlot(                        \"489f3b8a-21b8-44ab-a27b-f6f3cfb897cc\",                        [{\"mode\":\"text\",\"text\":[\"Will\",\"you\",\"show\",\"me\",\"a\",\"schedule\",\"for\",\"movies\",\"around\",\"here\",\"?\",\"Put\",\"The\",\"and\",\"the\",\"Green\",\"on\",\"Los\",\"Radio\",\"rate\",\"zero\",\"points\",\"out\",\"of\",\"6\",\"play\",\"A\",\"trailer\",\"Add\",\"track\",\"to\",\"gaming\",\"playlist.\",\"Where\",\"can\",\"I\",\"book\",\"table\",\"close\",\"in\",\"Moon\",\"at\",\"sixteen\",\"o'clock\",\"that\",\"will\",\"take\",\"three\",\"people\",\"Please\",\"look\",\"up\",\"Case\",\"album\",\".\",\"Warren\",\"my\",\"dinner\",\"I'd\",\"give\",\"current\",\"essay\",\"five\",\"Show\",\"Is\",\"it\",\"cloudy\",\"Give\",\"textbook\",\"5\",\"Book\",\"bar\",\"which\",\"serves\",\"chicken\",\"Tell\",\"if\",\"it'll\",\"be\",\"humid\",\"spot\",\"Play\",\"baby\",\"by\",\"Check\",\"weather\",\"forecast\",\"put\",\"this\",\"road\",\"trip\",\"playlist\",\"want\",\"get\",\"movie\",\"eat\",\"brasserie\",\"has\",\"internet\",\"near\",\"elevenses\",\"new\",\"melody\",\"Itunes\",\"an\",\"outdoor\",\"place\",\"town\",\"within\",\"walking\",\"distance\",\"nine\",\"add\",\"How\",\"much\",\"rain\",\"Montana\",\"12\",\"months\",\"from\",\"now\",\"Find\",\"night\",\"closest\",\"house\",\"2017\",\"National\",\"Future\",\"Hits\",\"hear\",\"soundtrack\",\"music\",\"Youtube\",\"video\",\"game\",\"Machine\",\"is\",\"My\",\"playing\",\"St\",\"seat\",\"two\",\"about\",\"one\",\"minute\",\"serving\",\"restaurant\",\"20\",\"hours\",\"what's\",\"showing\",\"Legend\",\"schedules\",\"MJR\",\"Theatres\",\"What's\",\"like\",\"see\",\"painting\",\"Two\",\"going\",\"hotter\",\"position\",\"four\",\"tune\",\"song\",\"50\",\"eight\",\"New\",\"chronicle\",\"1\",\"stars\",\"Girls\",\"Forever\",\"reservations\",\"diner\",\"not\",\"far\",\"Weather\",\"same\",\"area\",\"as\",\"Mills\",\",\",\"KY\",\"between\",\"i\",\"have\",\"local\",\"times\",\"What\",\"Nov.\",\"Rate\",\"novel\",\"with\",\"latin\",\"food\",\"Arkansas\",\"hour\",\"2\",\"Pandora\",\"gets\",\"there\",\"blizzard\",\"am\",\"sun\",\"Park\",\"Bridge\",\"House\",\"meal\",\"time\",\"Republic\",\"Can\",\"showings\",\"I'm\",\"looking\",\"Evil\",\"or\",\"-\",\"Live\",\"York\",\"City\",\"Blood\",\"series\",\"only\",\"greatest\",\"Groove\",\"Shark\",\"me,\",\"find\",\"photograph\",\"called\",\"Sea\",\"artist\",\"added\",\"Power\",\"Metal\",\"playlist?\",\"into\",\"some\",\"Castle\",\"january\",\"2030\",\"Falls\",\"State\",\"Springs\",\"thirties\",\"saga\",\"rating.\",\"chilly\",\"second\",\"1975\",\"twenty\",\"seconds\",\"city\",\"cold\",\"seven\",\"In\",\"another\",\"100\",\"Spotify\",\"Deep\",\"Dark\",\"Indie\",\"Folk\",\"where\",\"watch\",\"court\",\"Arizona\",\"0\",\"Netflix\",\"For\",\"seating\",\"best\",\"French\",\"rock\",\"star\",\"need\",\"highly\",\"rated\",\"joint\",\"FL\",\"step\",\"Great\",\"Escape\",\"tell\",\"Alamo\",\"Drafthouse\",\"Cinema\",\"top-rated\",\"Johnny\",\"Columbia\",\"Album\",\"Collection\",\"4\",\"/\",\"Last\",\"Day\",\"sixties\",\"search\",\"Young\",\"rating\",\"top\",\"fifty\",\"twenties\",\"what\",\"FM\",\"foggy\",\"when\",\"Dead\",\"List\",\"How's\",\"traffic\",\"go\",\"David\",\"3\",\"midnight\",\"films\",\"are\",\"Kerasotes\",\"women\",\"classical\",\"Amusements\",\"Kids\",\"Top\",\"Australia\",\"General\",\"Corporation\",\"7\",\"United\",\"Paramount\",\"know\",\"Devil\",\"theatre\",\"pool\",\"neighborhood\",\"Black\",\"Bar\",\"AR\",\"humidity\",\"morning\",\"Morning\",\"nice\",\"Cobb\",\"Regal\",\"Entertainment\",\"Group\",\"pub\",\"China\",\"Look\",\"Greatest\",\"Classics\",\"All\",\"Time\",\"neighbourhood\",\"jan.\",\"2037\",\"Back\",\"popular\",\"sort\",\"fifties\",\"Lost\",\"Fear\",\"Trail\",\"de\",\"con\",\"help\",\"Times\",\"ballad\",\"Google\",\"Music\",\"Soul\",\"When\",\"North\",\"pull\",\"Queen\",\"Three\",\"Love\",\"tunes\",\"list\",\"giving\",\"Latin\",\"rainfall\",\"faraway\",\"titled\",\"Journal\",\"Guest\",\"Out\",\"concerto\",\"ten\",\"Head\",\"blues\",\"title\",\"country\",\"tracks\",\"spotify\",\"TV\",\"Share\",\"location\",\"reservation\",\"Game\",\"Home\",\"funk\",\"listen\",\"Ghost\",\"Red\",\"Dickinson\",\"hits\",\"70s\",\"days\",\"South\",\"Earth\",\"animated\",\"colder\",\"Grand\",\"than\",\"Man\",\"spring\",\"Project\",\"google\",\"creative\",\"named\",\"warm\",\"march\",\"Delaware\",\"Movie\",\"nearest\",\"midday\",\"bakery\",\"\\u2013\",\"warmer\",\"Songs\",\"Club\",\"does\",\"His\",\"television\",\"groove\",\"tea\",\"Georgia\",\"hail\",\"8\",\"minutes\",\"MA\",\"fourties\",\"nearby\",\"Pacific\",\"Years\",\"zvooq\",\"Southern\",\"Get\",\"tomorrow\",\"evening\",\"ep\",\"temperate\",\"&\",\"fast\",\"Death\",\"smoking\",\"room\",\"next\",\"year\",\"White\",\"Caribbean\",\"Cinemas\",\"work\",\"Beyond\",\"Very\",\"Best\",\"Only\",\"latest\",\"September\",\"Girl\",\"Rock\",\"Under\",\"PM\",\"DE\",\"AMC\",\"Theaters\",\"MS\",\"last\",\"sound\",\"Who\",\"Do\",\"You\",\"Are\",\"newest\",\"your\",\"make\",\"Lo\",\"Mejor\",\"los\",\"picture\",\"previous\",\"do\",\"Hip\",\"Hop\",\"School\",\"workout\",\"January\",\"Michael\",\"movement\",\"please\",\"folk\",\"Search\",\"History\",\"Let\",\"how\",\"Way\",\"ND\",\"hundred\",\"'s\",\"Make\",\"eighties\",\"weeks\",\"John\",\"Area\",\"Cold\",\"freezing\",\"Virgin\",\"Islands\",\"off\",\"party\",\"10\",\"Lake\",\"people.\",\"Goodrich\",\"Quality\",\"taxi\",\"cinema\",\"most\",\"Song\",\"Summer\",\"Malco\",\"film\",\"Sunset\",\"Island\",\"something\",\"Fm\",\"la\",\"spa\",\"16\",\"entitled\",\"hotel\",\"acoustic\",\"supper\",\"Which\",\"It\",\"storm\",\"This\",\"Am\",\"tonight\",\"good\",\"soul\",\"MD\",\"10th\",\"Jersey\",\"snow\",\"week\",\"Forest\",\"High\",\"love\",\"songs\",\"conditions\",\"hot\",\"was\",\"record\",\"deezer\",\"Mark\",\"AM\",\"Sep.\",\"Pop\",\"playing?\",\"december\",\"years\",\"El\",\"Need\",\"close-by\",\"state\",\"wind\",\"open\",\"pandora\",\"onto\",\"fresh\",\"Zvooq\",\"Douglas\",\"Theatre\",\"Company\",\"Mary\",\"six\",\"Mr.\",\"Men\",\"that's\",\"sep.\",\"De\",\"Paul\",\"Boy\",\"pm\",\"B&B\",\"our\",\"Children\",\"creativity\",\"People\",\"Sky\",\"Now\",\"Stars\",\"9\",\"members\",\"RI\",\"snowfall\",\"Beach\",\"metal\",\"Federated\",\"States\",\"Of\",\"Micronesia\",\"person\",\"October\",\"osteria\",\"AL\",\"King\",\"America\",\"Chill\",\"Acoustic\",\"overcast\",\"starting\",\"Virginia\",\"GA\",\"Puerto\",\"Rico\",\"chill\",\"indian\",\"Carolina\",\"Old\",\"With\",\"Me\",\"showtimes\",\"Fort\",\"taverna\",\"Party\",\"Gaming\",\"punk\",\"autumn\",\"Open\",\"Lastfm\",\"start\",\"Hands\",\"Jul.\",\"fog\",\"Star\",\"nineties\",\"Magic\",\"East\",\"KS\",\"Wildlife\",\"Sanctuary\",\"Wave\",\"Oregon\",\"gastropub\",\"Creek\",\"Brian\",\"Johnson\",\"Guinea\",\"Inn\",\"Down\",\"La\",\"Kiss\",\"NE\",\"somewhere\",\"august\",\"theme\",\"music.\",\"churrascaria\",\"2011\",\"chant\",\"Indiana\",\"truck\",\"should\",\"Women\",\"Air\",\"1999\",\"April\",\"2033\",\"MT\",\"Life\",\"Beat\",\"Tennessee\",\"August\",\"21\",\"name\",\"No\",\"delicatessen\",\"PA\",\"Water\",\"Northern\",\"Mariana\",\"parking\",\"friends\",\"read\",\"cuisine\",\"neighboring\",\"Av\",\"Bow\",\"Tie\",\"bistro\",\"half\",\"Reggae\",\"Perfect\",\"Another\",\"Mexico\",\"Lady\",\"II:\",\"day\",\"oyster\",\"snowstorm\",\"River\",\"Classical\",\"tavern\",\"Hell\",\"Evening\",\"KB\",\"would\",\"Story\",\"Good\",\"Iheart\",\"Point\",\"George\",\"rainy\",\"indoor\",\"nineteen\",\"following\",\"use\",\"Dj\",\"seats\",\"Mann\",\"Secret\",\"Wisconsin\",\"them\",\"Dakota\",\"Kansas\",\"distant\",\"Could\",\"locate\",\"Vimeo\",\"Dec.\",\"13\",\"nov.\",\"Saint\",\"Alaska\",\"right\",\"To\",\"Be\",\"Tom\",\"wish\",\"Mike\",\"whats\",\"San\",\"That\",\"Jazz\",\"2016\",\"Adventure\",\"Iowa\",\"steakhouse\",\"James\",\"DC\",\"Spirit\",\"Walk\",\"Days\",\"II\",\"Rising\",\"ArcLight\",\"Hollywood\",\"cafe\",\"Jan.\",\"y\",\"Palau\",\"snowy\",\"Hotel\",\"Connecticut\",\"Mountain\",\"Iron\",\"Santikos\",\"Stone\",\"Slacker\",\"Mystery\",\"deserves\",\"Country\",\"twelve\",\"Come\",\"Wish\",\"think\",\"possible\",\"Through\",\"NH\",\"chillier\",\"Fox\",\"23\",\"90s\",\"lo\",\"que\",\"suena\",\"york\",\"Little\",\"Something\",\"Punk\",\"temperature\",\"feel\",\"noon\",\"Cineplex\",\"Odeon\",\"Serbia\",\"On\",\"Hot\",\"cleaning\",\"From\",\"Midnight\",\"symphony\",\"First\",\"Feb.\",\"2026\",\"work,\",\"An\",\"IA\",\"Town\",\"showing?\",\"Heart\",\"Cooper\",\"Foundation\",\"downtown\",\"breakfast\",\"Bay\",\"netflix\",\"17\",\"any\",\"Light\",\"Woman\",\"War\",\"About\",\"Land\",\"Night\",\"indie\",\"espa\\u00f1ol\",\"Part\",\"sunny\",\"Loews\",\"april\",\"Fall\",\"Heights\",\"SD\",\"American\",\"seventies\",\"Go\",\"World\",\"being\",\"One\",\"15\",\"At\",\"Amco\",\"Prince\",\"Afternoon\",\"cloud\",\"Neighborhood\",\"Lakes\",\"february\",\"Hills\",\"instrumental\",\"Jones\",\"buy\",\"Not\",\"Your\",\"purchase\",\"Blue\",\"Baby\",\"80s\",\"Reserve\",\"Blues\",\"Wild\",\"11\",\"Robert\",\"Lee\",\"Fine\",\"Speakeasy\",\"winter\",\"Samoa\",\"West\",\"fourteen\",\"March\",\"November\",\"type\",\"windy\",\"Fish\",\"value\",\"Return\",\"Season\",\"Christmas\",\"their\",\"seventeen\",\"Missouri\",\"Deezer\",\"Hard\",\"a.m.\",\"piano\",\"pizzeria\",\"Rhode\",\"using\",\"So\",\"para\",\"june\",\"today\",\"sister\",\"Use\",\"Up\",\"Big\",\"Lets\",\"WY\",\"today?\",\"And\",\"More\",\"R&B\",\"Jams\",\"Classic\",\"Gold\",\"top-twenty\",\"supposed\",\"A.M.\",\"AMerican\",\"GU\",\"Refuge\",\"Harkins\",\"Free\",\"Workout\",\"directions\",\"month\",\"Fire\",\"black\",\"Kuwait\",\"Consolidated\",\"Sweet\",\"service\",\"We\",\"temps\",\"22\",\"May\",\"District\",\"wifi\",\"Hill\",\"Dave\",\"thirteen\",\"Historic\",\"God\",\"Space\",\"Start\",\"Street\",\"feb.\",\"Landmark\",\"Tree\",\"Cafe\",\"California\",\"Plitt\",\"Road\",\"Natural\",\"Texas\",\"AK\",\"Cry\",\"classics\",\"mejor\",\"Netherlands\",\"Oct.\",\"Looking\",\"LA\",\"Lord\",\"Dipson\",\"coffeehouse\",\"Borough\",\"summer\",\"dance\",\"SC\",\"Montenegro\",\"scheduled\",\"under\",\"Cool\",\"Help\",\"Valley\",\"2024\",\"Tomorrow\",\"needs\",\"Long\",\"Showcase\",\"UT\",\"OK\",\"Sun\",\"Vermont\",\"youtube\",\"Spring\",\"depression\",\"Washington\",\"after\",\"July\",\"NY\",\"Central\",\"Center\",\"Richard\",\"check\",\"Family\",\"Nature\",\"IN\",\"Include\",\"Stories\",\"Paris\",\"Dinner\",\"IMAX\",\"Glass\",\"Die\",\"Send\",\"disco\",\"all\",\"Playlist\",\"Cinemark\",\"Want\",\"Take\",\"Dance\",\"Was\",\"Our\",\"Billy\",\"Fresh\",\"2020\",\"jazz\",\"Century\",\"lunch\",\"Tavern\",\"Would\",\"Dawn\",\"reserve\",\"genre\",\"Short\",\"1993\",\"Hand\",\"She\",\"Without\",\"Just\",\"February\",\"End\",\"meeting\",\"please.\",\"Other\",\"Tonight\",\"Nebraska\",\"Battle\",\"eleven\",\"Joe\",\"Tracks\",\"Tale\",\"more\",\"home\",\"Ultimate\",\"2034\",\"Hunter\",\"law\",\"en\",\"NV\",\"Marcus\",\"TN\",\"pop\",\"funtime\",\"lastfm\",\"Right\",\"Jack\",\"currently\",\"2003\",\"Lounge\",\"discography\",\"30\",\"october\",\"view\",\"during\",\"1991\",\"Kentucky\",\"brazilian\",\"cafeteria\",\"Colorado\",\"may\",\"Tony\",\"Megaplex\",\"Don\",\"laundry\",\"ME\",\"Happy\",\"stormy\",\"Restaurant\",\"ID\",\"Art\",\"theater\",\"Martin\",\"News\",\"OH\",\"itunes\",\"1958\",\"MI\",\"Grill\",\"brunch\",\"iheart\",\"Heaven\",\"Before\",\"Sleep\",\"Does\",\"friday\",\"Minnesota\",\"Louisiana\",\"anything\",\"Nothing\",\"Mount\",\"kind\",\"They\",\"Like\",\"Chris\",\"Adventures\",\"it.\",\"WI\",\"Vincent\",\"ETA\",\"Place\",\"Bill\",\"del\",\"sunrise\"],\"textfont\":{\"color\":[\"black\",\"black\",\"black\",\"black\",\"black\",\"black\",\"black\",\"black\",\"black\",\"black\",\"black\",\"black\",\"black\",\"black\",\"black\",\"black\",\"black\",\"black\",\"black\",\"black\",\"black\",\"black\",\"black\",\"black\",\"green\",\"black\",\"black\",\"black\",\"black\",\"black\",\"black\",\"black\",\"black\",\"black\",\"black\",\"black\",\"black\",\"black\",\"black\",\"black\",\"black\",\"black\",\"black\",\"black\",\"black\",\"black\",\"black\",\"black\",\"black\",\"black\",\"black\",\"black\",\"black\",\"black\",\"black\",\"black\",\"black\",\"black\",\"black\",\"black\",\"black\",\"black\",\"black\",\"black\",\"black\",\"black\",\"black\",\"black\",\"black\",\"green\",\"black\",\"black\",\"black\",\"black\",\"black\",\"black\",\"black\",\"black\",\"black\",\"black\",\"black\",\"black\",\"black\",\"black\",\"black\",\"black\",\"black\",\"black\",\"black\",\"black\",\"black\",\"black\",\"black\",\"black\",\"black\",\"black\",\"black\",\"black\",\"black\",\"black\",\"black\",\"black\",\"black\",\"black\",\"black\",\"black\",\"black\",\"black\",\"black\",\"black\",\"black\",\"black\",\"black\",\"black\",\"black\",\"black\",\"black\",\"green\",\"black\",\"black\",\"black\",\"black\",\"black\",\"black\",\"black\",\"green\",\"black\",\"black\",\"black\",\"black\",\"black\",\"black\",\"black\",\"black\",\"black\",\"black\",\"black\",\"black\",\"black\",\"black\",\"black\",\"black\",\"black\",\"black\",\"black\",\"black\",\"black\",\"green\",\"black\",\"black\",\"black\",\"black\",\"black\",\"black\",\"black\",\"black\",\"black\",\"black\",\"black\",\"black\",\"black\",\"black\",\"black\",\"black\",\"black\",\"black\",\"green\",\"black\",\"black\",\"black\",\"green\",\"black\",\"black\",\"black\",\"black\",\"black\",\"black\",\"black\",\"black\",\"black\",\"black\",\"black\",\"black\",\"black\",\"black\",\"black\",\"black\",\"black\",\"black\",\"black\",\"black\",\"black\",\"black\",\"black\",\"black\",\"black\",\"black\",\"black\",\"black\",\"green\",\"black\",\"black\",\"black\",\"black\",\"black\",\"black\",\"black\",\"black\",\"black\",\"black\",\"black\",\"black\",\"black\",\"black\",\"black\",\"black\",\"black\",\"black\",\"black\",\"black\",\"black\",\"black\",\"black\",\"black\",\"black\",\"black\",\"black\",\"black\",\"black\",\"black\",\"black\",\"black\",\"black\",\"black\",\"black\",\"black\",\"black\",\"black\",\"black\",\"black\",\"black\",\"black\",\"green\",\"black\",\"black\",\"black\",\"black\",\"black\",\"black\",\"black\",\"black\",\"green\",\"black\",\"black\",\"black\",\"black\",\"black\",\"black\",\"black\",\"green\",\"black\",\"black\",\"black\",\"black\",\"black\",\"black\",\"black\",\"black\",\"black\",\"green\",\"black\",\"black\",\"black\",\"black\",\"black\",\"black\",\"black\",\"black\",\"black\",\"black\",\"black\",\"black\",\"black\",\"black\",\"black\",\"black\",\"black\",\"black\",\"black\",\"black\",\"black\",\"black\",\"black\",\"black\",\"green\",\"black\",\"black\",\"black\",\"black\",\"black\",\"black\",\"black\",\"black\",\"black\",\"black\",\"black\",\"black\",\"black\",\"black\",\"black\",\"black\",\"black\",\"black\",\"black\",\"black\",\"green\",\"black\",\"black\",\"black\",\"black\",\"black\",\"black\",\"black\",\"black\",\"black\",\"black\",\"black\",\"black\",\"green\",\"black\",\"black\",\"black\",\"black\",\"black\",\"black\",\"black\",\"black\",\"black\",\"black\",\"black\",\"black\",\"black\",\"black\",\"black\",\"black\",\"black\",\"black\",\"black\",\"black\",\"black\",\"black\",\"black\",\"black\",\"black\",\"black\",\"black\",\"green\",\"black\",\"black\",\"black\",\"black\",\"black\",\"black\",\"black\",\"black\",\"black\",\"black\",\"black\",\"black\",\"black\",\"black\",\"black\",\"black\",\"black\",\"black\",\"black\",\"black\",\"black\",\"black\",\"black\",\"black\",\"black\",\"black\",\"black\",\"black\",\"black\",\"black\",\"black\",\"black\",\"black\",\"black\",\"black\",\"black\",\"black\",\"black\",\"black\",\"black\",\"black\",\"black\",\"black\",\"black\",\"black\",\"black\",\"black\",\"black\",\"black\",\"black\",\"black\",\"black\",\"black\",\"black\",\"black\",\"black\",\"black\",\"black\",\"black\",\"black\",\"black\",\"black\",\"black\",\"black\",\"black\",\"black\",\"black\",\"black\",\"black\",\"black\",\"black\",\"black\",\"black\",\"black\",\"black\",\"black\",\"black\",\"black\",\"black\",\"black\",\"black\",\"black\",\"black\",\"green\",\"black\",\"black\",\"black\",\"black\",\"black\",\"black\",\"black\",\"black\",\"black\",\"black\",\"black\",\"black\",\"black\",\"black\",\"black\",\"black\",\"black\",\"black\",\"black\",\"black\",\"black\",\"black\",\"black\",\"black\",\"black\",\"black\",\"black\",\"black\",\"black\",\"black\",\"black\",\"black\",\"black\",\"black\",\"black\",\"black\",\"black\",\"black\",\"black\",\"black\",\"black\",\"black\",\"black\",\"black\",\"black\",\"black\",\"black\",\"black\",\"black\",\"black\",\"black\",\"black\",\"black\",\"black\",\"black\",\"black\",\"black\",\"black\",\"black\",\"black\",\"black\",\"black\",\"black\",\"black\",\"black\",\"black\",\"black\",\"black\",\"black\",\"black\",\"black\",\"black\",\"black\",\"black\",\"black\",\"black\",\"black\",\"black\",\"black\",\"black\",\"black\",\"green\",\"black\",\"black\",\"black\",\"black\",\"black\",\"black\",\"black\",\"black\",\"black\",\"black\",\"black\",\"black\",\"black\",\"black\",\"black\",\"black\",\"black\",\"green\",\"black\",\"black\",\"black\",\"black\",\"black\",\"black\",\"black\",\"black\",\"black\",\"black\",\"black\",\"black\",\"black\",\"black\",\"black\",\"black\",\"black\",\"black\",\"black\",\"black\",\"black\",\"black\",\"black\",\"black\",\"black\",\"black\",\"black\",\"black\",\"black\",\"black\",\"black\",\"black\",\"black\",\"black\",\"black\",\"black\",\"black\",\"black\",\"black\",\"black\",\"black\",\"black\",\"black\",\"black\",\"black\",\"black\",\"black\",\"black\",\"black\",\"black\",\"black\",\"black\",\"black\",\"black\",\"black\",\"black\",\"black\",\"black\",\"black\",\"black\",\"black\",\"black\",\"black\",\"black\",\"green\",\"black\",\"black\",\"black\",\"black\",\"black\",\"black\",\"black\",\"black\",\"black\",\"black\",\"black\",\"black\",\"black\",\"black\",\"black\",\"black\",\"black\",\"black\",\"black\",\"black\",\"black\",\"black\",\"black\",\"black\",\"black\",\"black\",\"black\",\"black\",\"black\",\"black\",\"black\",\"black\",\"black\",\"black\",\"black\",\"black\",\"black\",\"black\",\"black\",\"black\",\"black\",\"black\",\"black\",\"black\",\"black\",\"black\",\"black\",\"black\",\"black\",\"black\",\"black\",\"black\",\"black\",\"black\",\"black\",\"black\",\"black\",\"black\",\"black\",\"black\",\"black\",\"black\",\"black\",\"black\",\"black\",\"black\",\"green\",\"black\",\"black\",\"black\",\"black\",\"black\",\"black\",\"green\",\"black\",\"green\",\"black\",\"black\",\"black\",\"black\",\"black\",\"green\",\"black\",\"black\",\"black\",\"black\",\"black\",\"black\",\"black\",\"black\",\"black\",\"black\",\"black\",\"black\",\"black\",\"black\",\"black\",\"black\",\"black\",\"black\",\"black\",\"black\",\"black\",\"black\",\"black\",\"black\",\"black\",\"black\",\"black\",\"black\",\"black\",\"black\",\"black\",\"black\",\"black\",\"black\",\"black\",\"black\",\"black\",\"black\",\"black\",\"black\",\"black\",\"black\",\"black\",\"black\",\"black\",\"black\",\"black\",\"black\",\"black\",\"black\",\"black\",\"black\",\"black\",\"black\",\"black\",\"black\",\"green\",\"black\",\"black\",\"black\",\"black\",\"black\",\"black\",\"black\",\"black\",\"black\",\"black\",\"black\",\"black\",\"black\",\"green\",\"black\",\"black\",\"black\",\"black\",\"black\",\"black\",\"black\",\"black\",\"black\",\"black\",\"black\",\"black\",\"black\",\"black\",\"black\",\"black\",\"black\",\"black\",\"black\",\"black\",\"black\",\"black\",\"black\",\"black\",\"black\",\"black\",\"black\",\"black\",\"black\",\"black\",\"black\",\"black\",\"black\",\"black\",\"black\",\"black\",\"green\",\"black\",\"black\",\"black\",\"black\",\"black\",\"black\",\"black\",\"black\",\"black\",\"black\",\"black\",\"black\",\"black\",\"black\",\"black\",\"black\",\"black\",\"black\",\"black\",\"black\",\"black\",\"black\",\"green\",\"black\",\"black\",\"black\",\"black\",\"black\",\"black\",\"black\",\"black\",\"black\",\"black\",\"black\",\"black\",\"green\",\"black\",\"black\",\"black\",\"black\",\"black\",\"black\",\"black\",\"black\",\"black\",\"black\",\"black\",\"black\",\"black\",\"black\",\"black\",\"black\",\"black\",\"black\",\"black\",\"black\",\"black\",\"black\",\"green\",\"black\",\"black\",\"black\",\"black\",\"black\",\"black\",\"black\",\"black\",\"black\",\"black\",\"black\",\"black\",\"black\",\"black\",\"black\",\"black\",\"black\",\"black\",\"black\",\"black\",\"black\",\"green\",\"black\",\"black\",\"black\",\"black\",\"black\",\"black\",\"black\",\"black\",\"black\",\"black\",\"black\",\"black\",\"black\",\"black\",\"black\",\"black\",\"black\",\"black\",\"black\",\"black\",\"black\",\"black\",\"black\",\"black\",\"black\",\"black\",\"black\",\"black\",\"black\",\"black\",\"black\",\"black\",\"black\",\"black\",\"black\",\"black\",\"black\",\"black\",\"black\",\"black\",\"black\",\"black\",\"black\",\"black\",\"black\",\"black\",\"black\",\"black\",\"black\",\"black\",\"black\",\"black\",\"black\",\"black\",\"black\",\"black\",\"black\",\"black\",\"black\",\"black\",\"black\",\"black\",\"black\",\"green\",\"black\",\"black\",\"black\",\"black\",\"black\",\"black\",\"black\",\"black\",\"black\",\"black\",\"black\",\"black\",\"black\",\"black\",\"black\",\"black\",\"black\",\"black\",\"black\",\"black\",\"black\",\"black\",\"black\",\"black\",\"black\",\"black\",\"black\",\"black\",\"black\",\"black\",\"black\",\"black\",\"black\",\"black\",\"black\",\"black\",\"black\",\"black\",\"black\",\"black\",\"black\",\"green\",\"black\",\"black\",\"black\",\"black\",\"black\",\"black\",\"black\",\"black\",\"black\",\"black\",\"black\",\"black\",\"black\",\"black\",\"black\",\"black\",\"black\",\"black\",\"black\",\"black\",\"black\",\"black\",\"black\",\"black\",\"black\",\"black\",\"black\",\"black\",\"black\",\"black\",\"black\",\"black\",\"black\",\"black\",\"black\",\"black\",\"black\",\"black\",\"black\",\"black\",\"black\",\"green\",\"black\",\"black\",\"black\",\"black\",\"black\",\"black\",\"black\",\"black\",\"black\",\"green\",\"black\",\"black\",\"black\",\"black\",\"black\",\"black\",\"black\",\"black\",\"black\",\"black\",\"black\",\"black\",\"black\",\"black\",\"black\",\"black\",\"black\",\"black\",\"black\",\"green\",\"black\",\"black\",\"black\",\"black\",\"black\",\"black\",\"black\",\"black\",\"black\",\"black\",\"black\",\"black\",\"green\",\"black\",\"black\",\"green\",\"black\",\"black\",\"black\",\"green\",\"black\",\"black\",\"black\",\"black\",\"black\",\"black\",\"black\",\"black\",\"black\",\"black\",\"black\",\"black\",\"black\",\"black\",\"black\",\"black\",\"black\",\"black\",\"black\",\"black\",\"green\",\"black\",\"black\",\"black\",\"black\",\"black\",\"black\",\"black\",\"black\",\"black\",\"black\",\"black\",\"black\",\"black\",\"black\",\"black\",\"black\",\"black\",\"black\",\"black\",\"black\",\"black\",\"black\",\"black\",\"black\",\"black\",\"black\",\"black\"]},\"textposition\":\"middle center\",\"x\":[4.787508010864258,-2.8197226524353027,-12.62976360321045,3.944720983505249,-16.93627166748047,-12.457176208496094,-7.842525959014893,-23.346923828125,-26.004018783569336,35.21257400512695,7.47261905670166,-2.81968355178833,30.24788475036621,-0.6594069004058838,10.577027320861816,27.218069076538086,8.70297908782959,7.2977375984191895,26.971450805664062,14.031529426574707,14.354633331298828,-5.349102020263672,-2.597475528717041,-17.362699508666992,24.549240112304688,-8.599883079528809,26.69329071044922,-4.126160144805908,1.0428199768066406,14.412334442138672,24.469614028930664,25.898942947387695,10.398237228393555,21.408336639404297,6.3439435958862305,20.238407135009766,11.570528030395508,-0.4939936101436615,-19.116336822509766,22.224376678466797,33.84971618652344,-11.669249534606934,3.9004404544830322,-2.101041555404663,-17.488666534423828,6.27929162979126,-8.670461654663086,12.5828218460083,-7.361797332763672,15.117776870727539,-10.832606315612793,-9.03616714477539,2.091279983520508,1.0315760374069214,23.89525032043457,2.8630874156951904,19.024578094482422,19.097225189208984,11.718798637390137,11.853214263916016,5.620571613311768,-5.897030353546143,-13.512604713439941,-6.209874629974365,0.7005698680877686,-19.5031795501709,31.96942138671875,-2.7078893184661865,14.101786613464355,-21.951322555541992,-2.9187448024749756,2.2264692783355713,-2.4067652225494385,20.046751022338867,11.913578033447266,-19.901077270507812,7.99896240234375,-10.677861213684082,-20.747156143188477,10.025721549987793,-2.9329023361206055,-17.357585906982422,24.684772491455078,25.46918487548828,20.826061248779297,-19.61917495727539,-17.07993507385254,-13.478792190551758,12.724296569824219,2.326622724533081,16.83625602722168,6.698713302612305,21.119630813598633,19.09349822998047,-2.029207468032837,-26.350948333740234,-20.881759643554688,-22.014223098754883,-26.42875862121582,3.4580698013305664,19.779550552368164,-22.38779640197754,6.562657356262207,29.325016021728516,30.06532859802246,8.351356506347656,-13.181220054626465,-19.000417709350586,-4.876660346984863,7.162123680114746,-12.08891487121582,-10.65386962890625,-10.802406311035156,20.616802215576172,14.745526313781738,-11.789862632751465,-9.754549026489258,-18.704599380493164,-5.839107513427734,-5.360943794250488,18.533843994140625,-1.7307125329971313,-0.1520472913980484,-22.492050170898438,-26.671207427978516,-27.408992767333984,6.570831775665283,10.229872703552246,9.706208229064941,18.127553939819336,34.49755096435547,4.049431800842285,23.674129486083984,30.31367301940918,-18.039186477661133,5.589447021484375,-1.4327830076217651,-16.890588760375977,4.977183818817139,8.480729103088379,13.149951934814453,-34.47663497924805,-3.878917694091797,9.985383033752441,-9.959723472595215,-8.377224922180176,-10.02800178527832,-21.447189331054688,-23.10163116455078,-10.320878982543945,-19.596010208129883,-5.150264739990234,-2.650911808013916,-8.594287872314453,-16.770021438598633,-27.951082229614258,-18.580322265625,19.355112075805664,11.857320785522461,4.856477737426758,-3.0192341804504395,12.576704978942871,-7.455605506896973,19.1479434967041,-5.7427568435668945,23.99560546875,23.72496223449707,1.732346534729004,-10.187435150146484,-2.8174495697021484,-3.2684988975524902,-5.718359470367432,-2.6194539070129395,-30.32988739013672,8.64187240600586,-20.30278778076172,-23.992061614990234,0.5783340930938721,-4.975815773010254,4.194737911224365,-3.5025036334991455,-4.576790809631348,4.053225994110107,-5.270097255706787,2.6880717277526855,-17.21063995361328,-3.712368965148926,1.9658880233764648,-34.49946975708008,3.79736065864563,-7.812104225158691,9.610252380371094,34.17618942260742,14.81674861907959,-21.82263946533203,6.777770519256592,17.475786209106445,1.2657729387283325,-17.91080665588379,-12.639811515808105,-4.842249870300293,29.094533920288086,0.8088325262069702,0.28729498386383057,-20.6944580078125,-14.835794448852539,-5.528493881225586,26.170795440673828,21.08742332458496,-3.559180974960327,-23.01590919494629,-0.34228846430778503,-3.688267469406128,26.646682739257812,3.2049200534820557,5.296538352966309,-8.949708938598633,18.97593879699707,-6.190634727478027,14.236327171325684,-18.926677703857422,-11.052096366882324,3.9798777103424072,-0.30221840739250183,-0.07775304466485977,2.2477123737335205,37.357120513916016,17.884458541870117,33.225406646728516,-7.597198486328125,11.786030769348145,5.633642196655273,9.862345695495605,25.902467727661133,20.301698684692383,13.14873218536377,12.128324508666992,-5.152767181396484,-16.839582443237305,4.6533589363098145,21.056516647338867,-3.4811770915985107,28.84157943725586,3.8273236751556396,-9.699606895446777,12.624587059020996,-3.2505180835723877,0.10097012668848038,-21.650192260742188,-13.788562774658203,-16.073640823364258,-12.569412231445312,29.515066146850586,20.903627395629883,-11.67330265045166,-4.132583141326904,-11.810867309570312,-10.047806739807129,-5.065967559814453,-8.480049133300781,8.230180740356445,25.703908920288086,35.337013244628906,17.025270462036133,10.302488327026367,13.726109504699707,0.8304520845413208,10.867692947387695,1.343696117401123,-16.340538024902344,-4.234364032745361,33.290950775146484,26.869464874267578,-20.941993713378906,-2.7763500213623047,-6.00264835357666,17.779987335205078,-22.93134117126465,18.705400466918945,-7.537659645080566,-8.273330688476562,-21.292640686035156,-12.597393989562988,-11.729058265686035,-15.631075859069824,-27.334430694580078,-15.90874195098877,-27.706422805786133,-27.63340187072754,-27.298351287841797,-27.179588317871094,6.671356678009033,-0.7682133913040161,12.062273025512695,-18.360828399658203,-4.942480087280273,-6.744253635406494,27.52215576171875,-0.5723710656166077,0.7901284694671631,-3.000685691833496,-4.466085433959961,-17.038536071777344,4.289991855621338,21.096511840820312,0.600085973739624,9.86335277557373,2.199073076248169,-17.879785537719727,31.38115882873535,-5.545557975769043,21.04954719543457,16.65142059326172,-2.9345734119415283,13.3369140625,-20.567707061767578,-5.271304130554199,-12.748913764953613,-12.573583602905273,-30.795307159423828,-29.854557037353516,-5.817363262176514,0.7734313011169434,-21.420743942260742,-1.1136908531188965,38.185646057128906,1.5799527168273926,-27.39764404296875,-19.709653854370117,-0.9912512898445129,-13.745529174804688,-25.127185821533203,6.795715808868408,-24.87652587890625,-27.23459815979004,-26.809452056884766,-12.606619834899902,11.74804401397705,15.171429634094238,-12.498391151428223,-17.957759857177734,-13.496464729309082,31.48062515258789,8.881001472473145,-27.625444412231445,-14.573565483093262,-8.586043357849121,-7.760345458984375,-22.386123657226562,-4.529797554016113,-8.384212493896484,6.490631580352783,20.267370223999023,9.387995719909668,-18.824703216552734,-15.01961612701416,-8.690709114074707,18.412694931030273,16.442501068115234,-25.533845901489258,23.52052879333496,-1.6271213293075562,-26.036590576171875,10.90888500213623,-18.038036346435547,15.458427429199219,6.490188121795654,-13.929306983947754,0.962591290473938,24.96539878845215,32.35293960571289,-0.25569307804107666,14.964194297790527,1.7563247680664062,-11.794434547424316,-10.317057609558105,32.431583404541016,-20.59139060974121,-25.188608169555664,15.273599624633789,4.948423385620117,13.664261817932129,9.275022506713867,-9.22617244720459,-8.81521224975586,14.940990447998047,25.533950805664062,7.631712436676025,-21.81696319580078,25.02145004272461,-14.120552062988281,-10.262962341308594,13.454176902770996,-22.537790298461914,0.7343674898147583,-9.341239929199219,24.887269973754883,2.595125198364258,36.122920989990234,-18.633697509765625,-16.352922439575195,22.368982315063477,2.8225603103637695,9.617493629455566,14.644759178161621,-4.885481834411621,-4.866795063018799,-29.268529891967773,17.900671005249023,-2.71578311920166,-7.317155838012695,-5.270694255828857,-5.92826509475708,9.748505592346191,-1.8322193622589111,13.465583801269531,-3.6359050273895264,2.8552544116973877,15.760183334350586,-3.394972801208496,29.52176856994629,10.0108642578125,7.96231746673584,-17.840009689331055,25.973405838012695,-6.6133809089660645,-0.38315290212631226,-26.63828468322754,-18.04603385925293,-23.91580581665039,1.4598195552825928,-7.1851582527160645,-5.361869812011719,14.727736473083496,0.06907179206609726,13.03476619720459,3.6916916370391846,31.531152725219727,-16.612855911254883,20.321971893310547,-4.377384185791016,-9.208827018737793,-9.826109886169434,-5.3451738357543945,29.695941925048828,3.4233899116516113,-20.129898071289062,9.850311279296875,15.517226219177246,-22.572284698486328,-0.8549930453300476,-0.9544391632080078,15.290168762207031,24.72700309753418,-4.509105205535889,11.644707679748535,-21.180744171142578,16.131128311157227,-24.88690185546875,-8.959187507629395,14.4352445602417,1.0242501497268677,26.14493751525879,-24.35120391845703,7.041065692901611,5.259498596191406,6.043382167816162,-13.93752670288086,-1.8090013265609741,-1.4494708776474,-2.6639318466186523,-3.7062039375305176,-11.875899314880371,11.440507888793945,14.728389739990234,-26.716304779052734,-11.15414810180664,-12.402789115905762,-25.08072280883789,15.80584716796875,11.955053329467773,22.414066314697266,-24.770687103271484,20.376060485839844,23.326086044311523,21.587690353393555,6.566869735717773,-11.49486255645752,10.041313171386719,14.06269359588623,6.578813076019287,-27.565494537353516,3.4501097202301025,13.353519439697266,20.154184341430664,-8.546073913574219,0.760725736618042,-12.339828491210938,20.13002586364746,32.23655700683594,15.187746047973633,30.43010711669922,-13.692733764648438,10.910097122192383,2.2799057960510254,-25.080825805664062,27.258159637451172,-2.255626678466797,4.725033283233643,-5.836782455444336,-6.896795272827148,20.083507537841797,-1.850070834159851,27.47572135925293,-6.12208366394043,14.93908405303955,17.319873809814453,-0.9720991253852844,-17.905349731445312,-7.516067028045654,-0.11669537425041199,7.575545310974121,-17.89936637878418,-6.721277236938477,-18.511913299560547,-11.405899047851562,-27.62942886352539,-26.129440307617188,-19.939228057861328,-26.59536361694336,21.853906631469727,23.206298828125,-2.5289154052734375,-15.409276008605957,17.97828483581543,-4.682090759277344,8.642040252685547,28.392791748046875,32.80636978149414,15.35423755645752,8.561781883239746,-14.882464408874512,14.117137908935547,8.491301536560059,0.7744180560112,13.339792251586914,22.09322738647461,29.35201072692871,-15.799424171447754,16.403818130493164,0.9154196381568909,-25.093358993530273,26.837297439575195,28.473020553588867,2.686178207397461,35.0400505065918,34.682369232177734,-10.150015830993652,-10.578161239624023,6.766927719116211,12.213675498962402,-2.7484045028686523,23.610740661621094,-3.2586898803710938,2.628321886062622,36.150909423828125,25.53474998474121,-12.485761642456055,-0.9334753751754761,-18.260196685791016,-2.0931522846221924,9.087322235107422,1.895817518234253,33.80138397216797,-6.315270900726318,-2.5317060947418213,22.58327865600586,11.802074432373047,-6.34970235824585,9.43245792388916,-16.73200225830078,14.079524040222168,15.196435928344727,7.18629264831543,30.975374221801758,-10.64048957824707,16.786035537719727,-1.248937964439392,14.957218170166016,-9.392930030822754,10.255096435546875,-5.289830207824707,-13.931102752685547,32.84784698486328,24.08335304260254,34.426483154296875,25.219783782958984,-18.59868812561035,-15.064308166503906,8.036358833312988,-5.122383117675781,-1.514456868171692,7.095356464385986,0.07315262407064438,17.210346221923828,30.528810501098633,-8.577226638793945,-14.778778076171875,16.144216537475586,-18.614025115966797,34.43222427368164,13.878195762634277,-21.585723876953125,0.04479845613241196,22.066444396972656,-14.272554397583008,-25.02638816833496,29.052656173706055,5.467487335205078,-3.747342109680176,-6.245757102966309,-8.312844276428223,2.866413116455078,10.162711143493652,-17.059864044189453,-23.185075759887695,-25.34744644165039,34.7723274230957,0.21897441148757935,-12.609100341796875,13.539237976074219,2.492252826690674,5.996953010559082,-2.597848415374756,23.627450942993164,20.624494552612305,-11.167975425720215,-10.19800090789795,-19.946943283081055,13.558516502380371,8.827364921569824,17.600322723388672,14.883745193481445,28.41663360595703,34.28635025024414,-23.136484146118164,25.034605026245117,-8.387261390686035,-9.00134563446045,-9.455892562866211,29.499038696289062,-1.3205153942108154,-2.917628765106201,-17.25687599182129,11.665102005004883,-0.47363194823265076,12.760068893432617,-4.9441070556640625,-24.726390838623047,0.3915185332298279,26.749666213989258,-23.999961853027344,12.358893394470215,20.692195892333984,1.0717558860778809,14.990948677062988,14.19163703918457,-7.27354621887207,-16.6534366607666,32.47883987426758,25.784961700439453,13.241518020629883,-24.818923950195312,34.377498626708984,22.851591110229492,-3.668092727661133,1.2622370719909668,10.329641342163086,-7.0806145668029785,-5.413886070251465,27.391626358032227,31.259925842285156,-18.630149841308594,-13.578063011169434,16.580610275268555,5.375774383544922,-17.208166122436523,32.11052703857422,-10.347687721252441,16.82363510131836,18.141983032226562,-15.23913860321045,-3.382700204849243,-22.68455696105957,-13.260709762573242,-28.5797176361084,-25.547517776489258,-7.550076484680176,11.63986873626709,-22.165803909301758,-4.1139936447143555,-10.70020580291748,-28.00992774963379,-10.505656242370605,-11.944746971130371,-20.971364974975586,10.292427062988281,11.110029220581055,-8.36206340789795,5.369912624359131,3.311229705810547,15.082914352416992,-14.477051734924316,5.489536285400391,-19.2630558013916,24.262928009033203,-25.17797088623047,-24.756853103637695,4.086226463317871,15.105109214782715,-28.449464797973633,11.546281814575195,15.431208610534668,5.100488662719727,27.488750457763672,-1.5208728313446045,11.269092559814453,-10.38598918914795,-2.5820369720458984,21.093639373779297,-2.987037181854248,16.449954986572266,25.101367950439453,-20.030227661132812,-13.17236328125,-6.726551055908203,-0.7187607288360596,0.4726833999156952,8.054813385009766,-8.19929313659668,-25.322349548339844,-17.421062469482422,6.126401424407959,31.834209442138672,-3.628293514251709,32.31171798706055,-10.531695365905762,-6.701255798339844,-4.810110569000244,6.690117835998535,22.356124877929688,25.89574432373047,22.752235412597656,18.074018478393555,29.46181869506836,-18.66096305847168,5.405951023101807,15.136472702026367,8.897526741027832,34.145477294921875,7.806026935577393,-15.090789794921875,-21.02359962463379,21.23822784423828,-4.795838832855225,-0.303974986076355,-16.684001922607422,10.177258491516113,14.838045120239258,14.930971145629883,21.95842170715332,-22.53464126586914,-24.44136619567871,28.75595474243164,-14.549273490905762,13.954654693603516,34.890777587890625,-20.330482482910156,-5.115121841430664,16.499605178833008,-11.264730453491211,-28.913272857666016,0.7142976522445679,27.4245548248291,-2.0358638763427734,-3.1539430618286133,13.447588920593262,-1.537359595298767,28.021636962890625,3.7617225646972656,13.287455558776855,22.23387336730957,6.033740043640137,-17.133956909179688,-7.354576587677002,-26.959489822387695,-18.47138786315918,10.273419380187988,15.09317398071289,31.269969940185547,32.00057601928711,21.843708038330078,-13.802679061889648,5.384228229522705,16.097492218017578,-8.278732299804688,16.965190887451172,-24.321916580200195,-26.19073486328125,-23.60578155517578,-2.0119681358337402,5.7928786277771,11.326108932495117,15.470300674438477,4.212491512298584,-5.735298156738281,27.77182388305664,-3.636422872543335,35.26193618774414,4.522336006164551,-24.89984703063965,16.97429656982422,-5.304800033569336,32.678924560546875,-11.82433795928955,-6.668185710906982,-13.98082160949707,-23.739294052124023,-13.740602493286133,-20.911869049072266,-11.734987258911133,31.80543327331543,-20.603389739990234,7.4823760986328125,35.681026458740234,4.499246120452881,-1.5159492492675781,-21.043519973754883,7.984287738800049,15.967853546142578,7.876901149749756,21.963642120361328,15.760916709899902,-1.7265135049819946,-14.147770881652832,32.956138610839844,16.63760757446289,-11.350157737731934,15.310823440551758,3.3442509174346924,-3.157851219177246,-1.3203476667404175,4.4284868240356445,15.762226104736328,26.846538543701172,-27.522937774658203,-10.927140235900879,-25.11811065673828,3.7226476669311523,23.955650329589844,-11.957712173461914,-18.232826232910156,27.009471893310547,31.497032165527344,-1.3458629846572876,10.215415954589844,14.08061695098877,9.841343879699707,17.948352813720703,16.818889617919922,11.71398639678955,-8.156543731689453,11.957334518432617,14.153008460998535,14.420269012451172,20.49334144592285,8.430562019348145,-20.829288482666016,-18.438915252685547,13.69835376739502,-14.807600975036621,-12.152183532714844,12.111709594726562,-20.12386131286621,-3.391541004180908,-2.548105001449585,10.623995780944824,-26.71088218688965,-19.01164436340332,-12.091226577758789,-22.30866241455078,-22.30780029296875,16.854084014892578,0.4246644675731659,12.850916862487793,-8.623150825500488,-1.4704779386520386,-7.526558876037598,16.463098526000977,13.750635147094727,-23.404247283935547,4.952554702758789,0.4901917576789856,-15.191133499145508,13.315024375915527,20.602975845336914,5.528784275054932,29.740083694458008,-18.69051170349121,-27.674423217773438,17.12350845336914,13.7399263381958,2.811025857925415,3.7679123878479004,-9.201038360595703,-19.459375381469727,0.1535913050174713,6.748885631561279,6.6389641761779785,16.487443923950195,15.347597122192383,7.6164703369140625,30.115642547607422,18.621068954467773,-18.82520294189453,-11.282052993774414,-13.001710891723633,25.61344337463379,-32.31748962402344,-7.224368572235107,17.365766525268555,16.97258758544922,-10.400382041931152,30.991243362426758,14.078882217407227,-14.663230895996094,-13.162631034851074,24.103801727294922,17.230239868164062,20.36286735534668,19.45651626586914,-30.022266387939453,-3.637235164642334,-14.326833724975586,-31.43657112121582,-11.567023277282715,30.304304122924805,-12.235407829284668,15.147600173950195,5.663522243499756,9.905720710754395,7.312726020812988,-4.381250381469727,34.851802825927734,-14.414955139160156,-4.405043601989746,12.810846328735352,8.233258247375488,-18.381736755371094,-22.41017723083496,-1.2219159603118896,-24.11327362060547,-1.0722811222076416,23.735734939575195,-7.353000640869141,6.583144187927246,-11.384729385375977,26.183984756469727,-28.721607208251953,0.10119649767875671,24.642330169677734,-35.55732345581055,-7.296703815460205,-19.750112533569336,-13.69992446899414,2.5801689624786377,-12.996467590332031,-8.53380298614502,21.223617553710938,8.278304100036621,-2.8286755084991455,-11.806306838989258,13.514995574951172,-28.514175415039062,5.609591007232666,8.015719413757324,35.0272102355957,-29.766584396362305,-10.070327758789062,-16.056276321411133,-8.090766906738281,12.464387893676758,-33.68212127685547,7.81503963470459,-3.2159085273742676,-33.96640396118164,-12.139641761779785,-25.777774810791016,6.903754234313965,9.100339889526367,5.263832092285156,16.12125587463379,-31.112722396850586,35.36968231201172,-11.828751564025879,-8.23029613494873,28.530120849609375,2.3522112369537354,19.058164596557617,33.09791564941406,14.744185447692871,4.258248805999756,37.199684143066406,-32.131011962890625,19.30819320678711,-36.080448150634766,20.603437423706055,29.95496940612793,-12.484330177307129,-32.11783981323242,17.643783569335938,-23.201717376708984,5.939248085021973,-4.952983856201172,-8.317381858825684,-14.223203659057617,11.718924522399902,-4.544224262237549,-28.16240119934082,-21.8222713470459,2.2587637901306152,8.23653793334961,38.58049392700195,27.346145629882812,-5.6425251960754395,-22.586259841918945,-15.291844367980957,27.421064376831055,-28.493396759033203,-32.69831466674805,-24.520126342773438,0.35706809163093567,-20.687145233154297,-9.769655227661133,28.313629150390625,-28.46637725830078,20.3525390625,-27.62940216064453,-6.237201690673828,-19.701580047607422,-4.8722758293151855,20.946636199951172,-14.917071342468262,17.227373123168945,-20.517126083374023,5.25053071975708,12.125704765319824,-18.733753204345703,3.4184908866882324,-8.4037446975708,37.91010665893555,-24.104419708251953,-27.99433708190918,17.266754150390625,-29.129384994506836,-11.895781517028809,-0.7663751840591431,-7.058016777038574,-12.781486511230469,2.475245952606201,23.6395206451416,5.63667106628418,-10.486124992370605,-29.636882781982422,-16.22491455078125,5.102414608001709,-31.415491104125977,6.0410637855529785,-16.26657485961914,19.649063110351562,-26.911008834838867,30.6427001953125,8.39118766784668,-7.994195461273193,10.74504566192627,27.02323341369629,13.904999732971191,-36.15061569213867,2.982880115509033,-29.884437561035156,1.2762699127197266,-32.3463134765625,-6.092931747436523,-14.546478271484375,23.522085189819336,10.133544921875,7.653618335723877,12.515522956848145,-9.882149696350098,22.117740631103516,-6.964634418487549,22.211708068847656,-29.304380416870117,22.77446937561035,-17.53804588317871,15.239550590515137,-7.127110481262207,-21.046018600463867,-2.036132574081421,-19.784664154052734,-6.995886325836182,-11.1974458694458,2.197575092315674,-11.81328010559082,-14.619974136352539,29.690454483032227,39.69941329956055,10.97927188873291,-22.904983520507812,15.21313190460205,3.6407551765441895,-16.347532272338867,39.49871826171875],\"y\":[-0.018200267106294632,3.5509274005889893,-24.061552047729492,-12.162688255310059,-13.34559154510498,9.64594841003418,-13.181910514831543,12.903350830078125,14.721578598022461,-3.095212697982788,-4.206305980682373,13.617595672607422,11.902291297912598,14.931133270263672,21.637441635131836,15.712820053100586,-7.892865180969238,15.496684074401855,12.47945499420166,5.64729642868042,-29.9529972076416,3.249506950378418,-4.247835159301758,-9.960296630859375,5.931650161743164,-18.361764907836914,1.5886428356170654,-5.970517158508301,-15.220291137695312,0.9970593452453613,-11.313077926635742,-17.383575439453125,5.519558906555176,4.425662517547607,-22.471843719482422,-21.51995086669922,-8.084794044494629,-17.60947608947754,1.3247026205062866,-6.471352577209473,-10.933856010437012,21.11688804626465,-14.555156707763672,5.9317450523376465,1.473870873451233,29.47040557861328,-28.80970001220703,-6.67258358001709,3.7873425483703613,-7.688760280609131,-22.22701072692871,-22.24802017211914,-4.355210781097412,-9.032964706420898,-12.092318534851074,26.962556838989258,2.191296100616455,-4.954278469085693,13.31700325012207,-6.969085693359375,-28.973148345947266,-8.856528282165527,18.746667861938477,0.418641060590744,-14.643670082092285,-21.51172637939453,-5.118980884552002,30.445186614990234,-28.84059715270996,-13.989728927612305,2.7558505535125732,-12.554877281188965,-20.167011260986328,27.452104568481445,9.848484992980957,7.911357879638672,-20.645051956176758,-33.14434051513672,-22.026565551757812,-2.620777130126953,25.662904739379883,1.4218387603759766,1.1608058214187622,-4.234281539916992,14.019017219543457,-23.796430587768555,-17.25428009033203,-1.3715777397155762,1.7860764265060425,0.4556396007537842,-14.772758483886719,5.751741409301758,-14.516561508178711,-17.42289161682129,-12.937728881835938,14.3651762008667,6.708590507507324,-4.797859191894531,23.968307495117188,-21.02447509765625,16.893369674682617,5.903223514556885,-1.9149612188339233,-1.5500234365463257,7.275972843170166,0.412984162569046,0.6043911576271057,-2.1101794242858887,23.881839752197266,-7.4008989334106445,-27.392898559570312,-9.96920394897461,5.973718643188477,12.070889472961426,-9.904839515686035,28.466920852661133,-1.6750340461730957,28.859283447265625,-11.203922271728516,13.067268371582031,22.58871078491211,18.081092834472656,-14.172574043273926,4.01798677444458,0.3165203034877777,-14.325857162475586,-18.649024963378906,19.69695472717285,1.278030514717102,-5.169073581695557,6.176477432250977,-7.515693187713623,-8.62519645690918,5.1511969566345215,-12.936238288879395,-12.605960845947266,-10.178040504455566,-22.883249282836914,9.516655921936035,-13.267987251281738,-1.8214589357376099,-4.744452953338623,0.9133759140968323,14.058003425598145,-5.114539623260498,13.43546199798584,3.678851366043091,-4.601168155670166,9.940019607543945,14.422603607177734,-23.53595542907715,11.349154472351074,-9.493449211120605,-12.645153999328613,7.312677383422852,5.6714701652526855,-21.866615295410156,-18.24867057800293,-21.667129516601562,-10.983833312988281,-18.154922485351562,-10.844989776611328,28.768442153930664,-29.725971221923828,-1.6967034339904785,-11.310853004455566,-10.504023551940918,-18.173450469970703,4.449869155883789,-10.724261283874512,-11.668166160583496,3.659811019897461,-4.287395477294922,16.29865264892578,-7.807363986968994,2.6231532096862793,-3.5496480464935303,19.40422248840332,5.54498291015625,-17.831737518310547,-22.917293548583984,-20.742300033569336,-6.415644645690918,17.019458770751953,22.255041122436523,-33.81012725830078,9.999713897705078,-4.645257949829102,-4.2895989418029785,-22.912546157836914,-13.353216171264648,-18.407459259033203,11.270697593688965,-29.431316375732422,-16.992029190063477,9.15899658203125,-2.397818088531494,-25.240680694580078,19.34056854248047,15.955355644226074,0.4065094292163849,8.592552185058594,-3.431950092315674,2.703139066696167,-10.680285453796387,14.34260082244873,-23.594194412231445,20.443321228027344,26.30938148498535,7.788339138031006,11.003546714782715,0.2839236557483673,-21.073991775512695,-17.136579513549805,-17.907136917114258,-6.009154319763184,-12.01244068145752,-0.1508415937423706,25.09964370727539,-4.961983680725098,10.570980072021484,-16.829334259033203,16.15614128112793,-6.75050163269043,-12.034137725830078,14.794065475463867,2.8810296058654785,1.1205967664718628,10.175848960876465,-0.6651081442832947,-21.88113021850586,-10.61701774597168,-27.460115432739258,-5.655788421630859,-13.300332069396973,0.07666689902544022,-5.008726596832275,-18.727209091186523,-27.501779556274414,11.57149887084961,7.486632347106934,23.43441390991211,12.943066596984863,-19.910221099853516,24.668888092041016,-3.571026563644409,22.230276107788086,-24.2781982421875,-14.27759838104248,16.528385162353516,-19.050458908081055,15.920234680175781,0.7051487565040588,21.046890258789062,16.126989364624023,-20.422576904296875,-34.37106704711914,5.811793804168701,-6.584458351135254,25.448509216308594,4.802272796630859,5.2484259605407715,-5.287569999694824,-6.736308574676514,6.891707897186279,-15.857036590576172,-0.28566500544548035,-18.76041603088379,32.4599609375,10.17648696899414,3.0507755279541016,7.017491340637207,-8.293842315673828,2.5307111740112305,-27.94915199279785,10.324718475341797,0.09061010926961899,-11.97288703918457,-17.880340576171875,3.7031021118164062,-4.481532096862793,-5.009798526763916,24.204524993896484,2.2249650955200195,7.351932525634766,5.382920265197754,-23.401165008544922,13.07209587097168,-5.581256866455078,4.5486555099487305,2.3627207279205322,-26.824865341186523,-11.298913955688477,12.179195404052734,-30.420991897583008,0.34179913997650146,11.094298362731934,7.496695041656494,-7.919857025146484,-23.612869262695312,-1.769181728363037,-3.8796212673187256,-8.084603309631348,-16.450902938842773,20.81842041015625,-23.845674514770508,-18.401981353759766,22.767337799072266,14.663410186767578,7.864407539367676,-7.75868034362793,-2.0548667907714844,-8.568419456481934,0.7440069317817688,-11.615311622619629,9.917441368103027,1.9547619819641113,0.2365809679031372,-13.289061546325684,14.467610359191895,16.27347183227539,-18.75459861755371,-30.300251007080078,13.246185302734375,-15.70637035369873,2.5741848945617676,7.861295700073242,13.956526756286621,-29.12399673461914,-18.253679275512695,-11.90298080444336,6.074376583099365,-16.301179885864258,-9.093697547912598,-14.568707466125488,-7.069007873535156,-8.410558700561523,-30.406370162963867,22.1109619140625,14.511679649353027,-4.657783508300781,23.711267471313477,-6.000057697296143,-6.12076997756958,16.48232078552246,7.158988952636719,-16.360698699951172,-37.24497604370117,-4.331023216247559,28.41899871826172,-21.994653701782227,-26.12761116027832,4.763178825378418,3.7469563484191895,-8.162784576416016,25.0143985748291,-1.2827972173690796,15.429760932922363,8.835466384887695,23.40477180480957,15.80029296875,-22.55049705505371,-21.905902862548828,-6.12471342086792,11.633739471435547,-16.218833923339844,20.667095184326172,-24.392892837524414,-10.62413215637207,-11.501346588134766,5.037744998931885,-21.436857223510742,-15.10418701171875,-15.283177375793457,8.617989540100098,-23.225116729736328,8.709224700927734,-11.633021354675293,17.16228485107422,-19.721084594726562,-3.6854143142700195,-28.708101272583008,5.438922882080078,-31.38826560974121,8.75782299041748,-27.372034072875977,20.529020309448242,7.843757629394531,-1.5177628993988037,-0.9839209318161011,4.434834957122803,22.461692810058594,-13.146026611328125,-7.765890598297119,11.50590991973877,-17.601686477661133,5.742742538452148,15.90418815612793,9.082771301269531,-1.3816545009613037,0.570279061794281,-2.5579872131347656,4.364164352416992,8.978771209716797,-11.340845108032227,-22.29439353942871,21.387468338012695,17.84619140625,-13.211199760437012,-19.218997955322266,14.311811447143555,19.58374786376953,11.455107688903809,17.568628311157227,27.82695770263672,15.19275188446045,-17.68506622314453,-9.160966873168945,-2.5351665019989014,-33.44329833984375,9.89795970916748,-23.6441707611084,-27.152536392211914,14.694576263427734,-22.67807388305664,17.237197875976562,-10.220182418823242,0.2533622682094574,-19.522933959960938,-4.647880554199219,-17.402013778686523,28.148998260498047,-11.84721565246582,-12.187090873718262,14.498455047607422,17.59946632385254,16.161239624023438,9.531478881835938,4.275946140289307,-23.17889404296875,28.105981826782227,5.36149263381958,15.427886962890625,17.490781784057617,0.9732211828231812,-5.726511001586914,23.392471313476562,-14.733384132385254,15.299681663513184,-2.4613232612609863,8.64085865020752,8.640050888061523,-9.516111373901367,-3.296743154525757,25.80083656311035,-17.617774963378906,17.415205001831055,8.37607192993164,-9.153135299682617,11.512304306030273,-23.99385643005371,-23.131311416625977,-7.616846084594727,6.961361885070801,21.916330337524414,-11.570594787597656,-20.387052536010742,-22.929506301879883,-7.6836700439453125,20.536184310913086,-33.46527862548828,-33.110843658447266,23.642423629760742,5.4264326095581055,-26.71286392211914,10.23609733581543,23.688953399658203,-4.61722469329834,9.075321197509766,12.394587516784668,-26.167848587036133,18.643882751464844,19.548349380493164,13.083062171936035,-0.7507103681564331,11.367193222045898,-1.9517866373062134,20.74555206298828,-10.708335876464844,5.473496913909912,19.116683959960938,-6.877350330352783,-9.859816551208496,-26.2056941986084,-21.551721572875977,20.979555130004883,11.516149520874023,-17.058731079101562,-13.655550003051758,13.886364936828613,-2.6094460487365723,3.9578700065612793,-24.047317504882812,-15.334601402282715,-20.029001235961914,-21.935026168823242,-16.962600708007812,-24.077985763549805,-21.076974868774414,23.211776733398438,23.742565155029297,7.935565948486328,-11.794734954833984,-3.168729782104492,12.251348495483398,18.679296493530273,17.870498657226562,12.371482849121094,-16.916017532348633,-2.492210865020752,21.03596305847168,16.46015739440918,-7.834927082061768,1.6883296966552734,10.898894309997559,-0.9717525839805603,13.15700626373291,6.4819793701171875,-7.4733452796936035,-15.123542785644531,8.306557655334473,-18.648778915405273,-21.59370231628418,7.438686370849609,-7.526396751403809,25.096527099609375,-12.228157997131348,-15.396838188171387,1.9857159852981567,-1.8630703687667847,-5.239480018615723,1.8311388492584229,-26.390384674072266,-8.824974060058594,-30.244497299194336,13.721990585327148,11.0973539352417,5.923397541046143,-18.027347564697266,7.53797721862793,-11.274011611938477,4.104217052459717,-0.8966649174690247,8.005702018737793,19.939674377441406,12.531000137329102,-10.208237648010254,20.098106384277344,18.322404861450195,21.152515411376953,-13.236454010009766,-16.00234603881836,-8.824687957763672,20.117984771728516,23.478090286254883,3.7220335006713867,-1.8278405666351318,9.989269256591797,-21.574989318847656,2.5148048400878906,5.878714561462402,9.869657516479492,-22.338787078857422,8.866020202636719,12.18476676940918,22.70746421813965,-18.799474716186523,19.38801383972168,22.087982177734375,-6.947458744049072,-29.308130264282227,12.184378623962402,22.210050582885742,2.042809009552002,12.47676944732666,0.7891840934753418,4.690759658813477,-20.170869827270508,14.76589584350586,5.878322124481201,-6.259270668029785,-5.968958854675293,-10.93522834777832,13.730498313903809,-2.165910482406616,0.08861088007688522,-0.24136002361774445,2.1551060676574707,-4.981842994689941,-4.493403434753418,-16.997743606567383,-8.154889106750488,13.976325035095215,21.160844802856445,17.317350387573242,8.804014205932617,-6.961736679077148,11.765217781066895,14.579120635986328,-10.364535331726074,14.314912796020508,-0.09356199204921722,10.864465713500977,24.72737693786621,-0.25742167234420776,27.3214111328125,9.4229097366333,11.157389640808105,35.932010650634766,22.956363677978516,-5.654808521270752,-18.760526657104492,-33.930274963378906,-2.6481106281280518,-18.449613571166992,-6.529249668121338,23.865434646606445,-10.095664024353027,23.137174606323242,22.384592056274414,-8.233929634094238,27.105606079101562,23.724843978881836,24.16886329650879,-3.8602211475372314,-8.804829597473145,-1.853779673576355,23.48699188232422,-5.887362003326416,7.562060356140137,8.821385383605957,13.869202613830566,-1.2142454385757446,1.7953892946243286,0.36694595217704773,11.327259063720703,-4.648797035217285,-3.883193016052246,-31.295738220214844,2.030942678451538,-6.075892925262451,15.775893211364746,-23.047439575195312,-33.878841400146484,-4.638031959533691,29.103103637695312,14.381497383117676,23.214921951293945,-2.4185097217559814,25.10439682006836,-2.86220121383667,5.904507160186768,10.666312217712402,26.942380905151367,-9.163304328918457,11.278587341308594,10.259359359741211,17.947275161743164,18.003692626953125,12.282170295715332,-11.906485557556152,11.767098426818848,-4.933477878570557,-1.478712558746338,3.7589752674102783,21.92011070251465,32.38558578491211,14.781203269958496,-16.82853126525879,-6.578237056732178,2.6006741523742676,9.863253593444824,-30.187623977661133,21.950712203979492,-7.560419082641602,-19.185375213623047,18.751249313354492,5.774967670440674,-18.417966842651367,-2.882232189178467,11.329216957092285,32.43657302856445,25.5564022064209,7.477450370788574,24.93208885192871,-7.041347980499268,23.966861724853516,6.0293169021606445,-29.81015968322754,-2.8579156398773193,-24.344411849975586,-3.353161334991455,17.91753578186035,25.96572494506836,-16.549541473388672,-8.094622611999512,5.345435619354248,-21.97591209411621,-28.581375122070312,29.419248580932617,-23.15336036682129,-4.563287734985352,14.667163848876953,35.939910888671875,-10.26272201538086,-23.905473709106445,-29.537643432617188,-1.2796244621276855,-34.00932693481445,-15.354379653930664,16.786252975463867,-8.183436393737793,-20.169984817504883,-9.382847785949707,5.5336809158325195,23.375905990600586,20.31503677368164,-0.6892303228378296,-28.085939407348633,26.22061538696289,-1.7135186195373535,-9.610137939453125,-7.219440460205078,2.772042751312256,-3.4605164527893066,-20.552579879760742,29.109394073486328,5.78898811340332,30.328857421875,12.869379043579102,-2.414334774017334,-32.563838958740234,-18.89882469177246,4.761908054351807,35.227874755859375,9.789186477661133,24.51542091369629,18.747512817382812,18.445648193359375,6.721027851104736,18.925804138183594,-3.0762276649475098,-1.6578893661499023,-8.925509452819824,-0.740226149559021,-21.37803840637207,21.150615692138672,16.053237915039062,9.837200164794922,-2.0521624088287354,-27.125272750854492,32.773719787597656,-10.39307689666748,-11.924485206604004,17.10826873779297,-6.755314350128174,-27.074739456176758,-15.5385103225708,27.32449722290039,13.857787132263184,-18.745254516601562,5.762946128845215,-3.24959135055542,11.49992561340332,-12.1189546585083,13.163739204406738,15.222901344299316,9.750283241271973,17.599130630493164,-13.534689903259277,26.725812911987305,16.856000900268555,-9.284500122070312,5.616523742675781,-21.21598243713379,-15.257035255432129,-8.427261352539062,18.626628875732422,10.205848693847656,2.3211216926574707,-26.538373947143555,-18.665334701538086,-27.685657501220703,-18.627216339111328,28.44394302368164,11.025708198547363,8.573420524597168,3.8337981700897217,17.46981430053711,-6.7129693031311035,-7.380686283111572,4.2393341064453125,-21.499929428100586,-8.640875816345215,-1.1130191087722778,33.3396110534668,-13.087194442749023,4.770791053771973,3.2966227531433105,8.011839866638184,2.7097675800323486,-21.533924102783203,20.023256301879883,-2.9488368034362793,-19.183237075805664,-3.0856900215148926,0.9896321892738342,-15.215786933898926,9.37507438659668,-19.83863067626953,-21.932588577270508,19.675561904907227,19.04529571533203,-2.240154266357422,-34.40520477294922,-20.445024490356445,-11.773286819458008,6.715506553649902,1.024812936782837,5.263407230377197,24.37616729736328,2.3691177368164062,28.406661987304688,0.29643574357032776,3.340205192565918,-10.604211807250977,-20.319875717163086,-7.620349884033203,10.022665023803711,-5.558289051055908,1.0534957647323608,-14.885937690734863,-20.78363609313965,28.609594345092773,-4.680375576019287,10.947267532348633,4.616193771362305,25.100875854492188,12.995580673217773,-23.88071060180664,-33.974700927734375,-10.127023696899414,8.119708061218262,-3.3246009349823,-4.590501308441162,17.947509765625,-18.91935157775879,7.384599208831787,6.877787113189697,-5.556535720825195,-0.9850739240646362,7.366474628448486,15.146012306213379,10.822311401367188,24.19367027282715,-10.682785987854004,15.875945091247559,-23.698488235473633,11.417348861694336,11.360091209411621,-29.853588104248047,-21.845455169677734,15.681365013122559,14.05575180053711,13.08621597290039,-8.895586967468262,10.683853149414062,28.239683151245117,19.666662216186523,24.03599739074707,-4.733746528625488,-3.171292781829834,1.9887844324111938,23.41582679748535,24.929773330688477,22.328035354614258,-15.336604118347168,18.345746994018555,-2.889824628829956,-34.51994323730469,7.744636535644531,-8.875417709350586,-8.176803588867188,0.4571334421634674,15.789766311645508,-1.1708202362060547,25.000165939331055,-2.1489429473876953,16.142742156982422,8.514678001403809,6.806283950805664,-20.084501266479492,0.4040031433105469,22.745201110839844,12.592647552490234,13.010273933410645,-18.654207229614258,10.498517036437988,5.843348503112793,-7.023843765258789,-10.254114151000977,-13.712913513183594,16.952537536621094,2.304486036300659,23.283672332763672,29.18121337890625,-10.107830047607422,-10.991782188415527,13.92178726196289,13.332260131835938,-2.7981460094451904,7.861491680145264,-6.3944902420043945,-10.369779586791992,7.647550582885742,8.358997344970703,20.05858612060547,20.533926010131836,-17.80059242248535,-36.71327590942383,5.38403844833374,-8.437310218811035,18.698562622070312,10.14571475982666,14.256036758422852,20.10032844543457,-3.48716139793396,-2.3236567974090576,-10.476622581481934,-25.997371673583984,-4.904719829559326,7.206373691558838,35.21506118774414,27.3104305267334,-5.76137638092041,22.639739990234375,-6.481142044067383,25.84463119506836,14.083671569824219,-18.767898559570312,17.16393280029297,6.179393291473389,16.22527503967285,10.849043846130371,4.425369739532471,23.48137855529785,13.234291076660156,30.5041561126709,7.153035640716553,-7.392829895019531,21.960763931274414,3.247220516204834,26.96788787841797,-1.8779422044754028,6.380613803863525,19.22325325012207,22.83414649963379,9.694635391235352,-2.200275421142578,-5.70194149017334,-25.27342414855957,6.946969032287598,16.596576690673828,-31.356388092041016,-28.174531936645508,-3.4213812351226807,5.013790607452393,0.5773242115974426,6.87636137008667,-13.827380180358887,10.447802543640137,-30.182781219482422,2.5482890605926514,-13.940265655517578,5.159124851226807,25.732261657714844,18.937652587890625,4.451107978820801,-7.735165596008301,28.875303268432617,-37.91034698486328,34.214168548583984,2.7118983268737793,-33.522647857666016,-35.346893310546875,-5.541085243225098,3.0164992809295654,-12.008228302001953,10.92323112487793,31.355255126953125,-29.860618591308594,2.390655040740967,7.378076076507568,15.966830253601074,29.66465950012207,34.84869384765625,-17.585817337036133,-34.21917724609375,29.53206443786621,-16.966642379760742,29.29689598083496,29.8176212310791,8.78254508972168,16.382719039916992,3.0797104835510254,11.943219184875488,-24.34933853149414,-14.735480308532715,-14.122557640075684,-9.775146484375,8.617698669433594,0.3120775818824768,-13.880019187927246,-13.020174026489258,-9.336446762084961,9.413811683654785,28.67899513244629,6.364816665649414,24.237258911132812,17.874792098999023,-27.669527053833008,-23.27973747253418,12.246702194213867,21.052202224731445,32.054534912109375,25.308021545410156,-1.9948058128356934,17.171531677246094,19.65025520324707,-18.094989776611328,-25.020959854125977,3.205233335494995,14.893287658691406,26.653644561767578,-10.789146423339844,-16.536306381225586,17.283031463623047,-8.61756706237793,-21.881500244140625,30.383581161499023,-27.824159622192383,1.615179181098938,33.611141204833984,-24.12400245666504,-28.70500946044922,25.973508834838867,-10.741958618164062,-16.639415740966797,19.161697387695312,33.02606201171875,-3.0471956729888916,-19.37093162536621,-22.081846237182617,20.31655502319336,1.8519562482833862,-6.708930969238281,-2.1983187198638916,7.085299015045166,-37.36189651489258,9.843027114868164,12.826593399047852,13.792498588562012,-25.906824111938477,-7.178922176361084,25.36212158203125,-24.12322235107422,19.739707946777344,2.7486367225646973,-16.190853118896484,-30.16063117980957,7.863555431365967,-8.38216781616211,-20.831083297729492,-31.5035457611084,-0.7587107419967651,-22.71343421936035,-23.437856674194336,-5.265210151672363,12.937378883361816,10.6425199508667,5.67800235748291,-0.9311595559120178,8.875911712646484,-9.344524383544922,1.847079873085022,23.290945053100586,-17.645063400268555,21.332321166992188,-12.310808181762695,27.178098678588867,-14.6651029586792,-4.076409339904785,-9.920614242553711,8.898167610168457,-35.09693145751953,27.125102996826172,-3.471189260482788,1.0222305059432983,-28.89927864074707,19.967487335205078,-24.662012100219727,11.973553657531738,33.763214111328125,32.535850524902344,-6.436524391174316,24.124223709106445,-6.637553691864014,25.729045867919922,-15.841086387634277,4.704349994659424,-1.7739028930664062,22.269254684448242,6.279327869415283],\"type\":\"scatter\"}],                        {\"template\":{\"data\":{\"histogram2dcontour\":[{\"type\":\"histogram2dcontour\",\"colorbar\":{\"outlinewidth\":0,\"ticks\":\"\"},\"colorscale\":[[0.0,\"#0d0887\"],[0.1111111111111111,\"#46039f\"],[0.2222222222222222,\"#7201a8\"],[0.3333333333333333,\"#9c179e\"],[0.4444444444444444,\"#bd3786\"],[0.5555555555555556,\"#d8576b\"],[0.6666666666666666,\"#ed7953\"],[0.7777777777777778,\"#fb9f3a\"],[0.8888888888888888,\"#fdca26\"],[1.0,\"#f0f921\"]]}],\"choropleth\":[{\"type\":\"choropleth\",\"colorbar\":{\"outlinewidth\":0,\"ticks\":\"\"}}],\"histogram2d\":[{\"type\":\"histogram2d\",\"colorbar\":{\"outlinewidth\":0,\"ticks\":\"\"},\"colorscale\":[[0.0,\"#0d0887\"],[0.1111111111111111,\"#46039f\"],[0.2222222222222222,\"#7201a8\"],[0.3333333333333333,\"#9c179e\"],[0.4444444444444444,\"#bd3786\"],[0.5555555555555556,\"#d8576b\"],[0.6666666666666666,\"#ed7953\"],[0.7777777777777778,\"#fb9f3a\"],[0.8888888888888888,\"#fdca26\"],[1.0,\"#f0f921\"]]}],\"heatmap\":[{\"type\":\"heatmap\",\"colorbar\":{\"outlinewidth\":0,\"ticks\":\"\"},\"colorscale\":[[0.0,\"#0d0887\"],[0.1111111111111111,\"#46039f\"],[0.2222222222222222,\"#7201a8\"],[0.3333333333333333,\"#9c179e\"],[0.4444444444444444,\"#bd3786\"],[0.5555555555555556,\"#d8576b\"],[0.6666666666666666,\"#ed7953\"],[0.7777777777777778,\"#fb9f3a\"],[0.8888888888888888,\"#fdca26\"],[1.0,\"#f0f921\"]]}],\"heatmapgl\":[{\"type\":\"heatmapgl\",\"colorbar\":{\"outlinewidth\":0,\"ticks\":\"\"},\"colorscale\":[[0.0,\"#0d0887\"],[0.1111111111111111,\"#46039f\"],[0.2222222222222222,\"#7201a8\"],[0.3333333333333333,\"#9c179e\"],[0.4444444444444444,\"#bd3786\"],[0.5555555555555556,\"#d8576b\"],[0.6666666666666666,\"#ed7953\"],[0.7777777777777778,\"#fb9f3a\"],[0.8888888888888888,\"#fdca26\"],[1.0,\"#f0f921\"]]}],\"contourcarpet\":[{\"type\":\"contourcarpet\",\"colorbar\":{\"outlinewidth\":0,\"ticks\":\"\"}}],\"contour\":[{\"type\":\"contour\",\"colorbar\":{\"outlinewidth\":0,\"ticks\":\"\"},\"colorscale\":[[0.0,\"#0d0887\"],[0.1111111111111111,\"#46039f\"],[0.2222222222222222,\"#7201a8\"],[0.3333333333333333,\"#9c179e\"],[0.4444444444444444,\"#bd3786\"],[0.5555555555555556,\"#d8576b\"],[0.6666666666666666,\"#ed7953\"],[0.7777777777777778,\"#fb9f3a\"],[0.8888888888888888,\"#fdca26\"],[1.0,\"#f0f921\"]]}],\"surface\":[{\"type\":\"surface\",\"colorbar\":{\"outlinewidth\":0,\"ticks\":\"\"},\"colorscale\":[[0.0,\"#0d0887\"],[0.1111111111111111,\"#46039f\"],[0.2222222222222222,\"#7201a8\"],[0.3333333333333333,\"#9c179e\"],[0.4444444444444444,\"#bd3786\"],[0.5555555555555556,\"#d8576b\"],[0.6666666666666666,\"#ed7953\"],[0.7777777777777778,\"#fb9f3a\"],[0.8888888888888888,\"#fdca26\"],[1.0,\"#f0f921\"]]}],\"mesh3d\":[{\"type\":\"mesh3d\",\"colorbar\":{\"outlinewidth\":0,\"ticks\":\"\"}}],\"scatter\":[{\"fillpattern\":{\"fillmode\":\"overlay\",\"size\":10,\"solidity\":0.2},\"type\":\"scatter\"}],\"parcoords\":[{\"type\":\"parcoords\",\"line\":{\"colorbar\":{\"outlinewidth\":0,\"ticks\":\"\"}}}],\"scatterpolargl\":[{\"type\":\"scatterpolargl\",\"marker\":{\"colorbar\":{\"outlinewidth\":0,\"ticks\":\"\"}}}],\"bar\":[{\"error_x\":{\"color\":\"#2a3f5f\"},\"error_y\":{\"color\":\"#2a3f5f\"},\"marker\":{\"line\":{\"color\":\"#E5ECF6\",\"width\":0.5},\"pattern\":{\"fillmode\":\"overlay\",\"size\":10,\"solidity\":0.2}},\"type\":\"bar\"}],\"scattergeo\":[{\"type\":\"scattergeo\",\"marker\":{\"colorbar\":{\"outlinewidth\":0,\"ticks\":\"\"}}}],\"scatterpolar\":[{\"type\":\"scatterpolar\",\"marker\":{\"colorbar\":{\"outlinewidth\":0,\"ticks\":\"\"}}}],\"histogram\":[{\"marker\":{\"pattern\":{\"fillmode\":\"overlay\",\"size\":10,\"solidity\":0.2}},\"type\":\"histogram\"}],\"scattergl\":[{\"type\":\"scattergl\",\"marker\":{\"colorbar\":{\"outlinewidth\":0,\"ticks\":\"\"}}}],\"scatter3d\":[{\"type\":\"scatter3d\",\"line\":{\"colorbar\":{\"outlinewidth\":0,\"ticks\":\"\"}},\"marker\":{\"colorbar\":{\"outlinewidth\":0,\"ticks\":\"\"}}}],\"scattermapbox\":[{\"type\":\"scattermapbox\",\"marker\":{\"colorbar\":{\"outlinewidth\":0,\"ticks\":\"\"}}}],\"scatterternary\":[{\"type\":\"scatterternary\",\"marker\":{\"colorbar\":{\"outlinewidth\":0,\"ticks\":\"\"}}}],\"scattercarpet\":[{\"type\":\"scattercarpet\",\"marker\":{\"colorbar\":{\"outlinewidth\":0,\"ticks\":\"\"}}}],\"carpet\":[{\"aaxis\":{\"endlinecolor\":\"#2a3f5f\",\"gridcolor\":\"white\",\"linecolor\":\"white\",\"minorgridcolor\":\"white\",\"startlinecolor\":\"#2a3f5f\"},\"baxis\":{\"endlinecolor\":\"#2a3f5f\",\"gridcolor\":\"white\",\"linecolor\":\"white\",\"minorgridcolor\":\"white\",\"startlinecolor\":\"#2a3f5f\"},\"type\":\"carpet\"}],\"table\":[{\"cells\":{\"fill\":{\"color\":\"#EBF0F8\"},\"line\":{\"color\":\"white\"}},\"header\":{\"fill\":{\"color\":\"#C8D4E3\"},\"line\":{\"color\":\"white\"}},\"type\":\"table\"}],\"barpolar\":[{\"marker\":{\"line\":{\"color\":\"#E5ECF6\",\"width\":0.5},\"pattern\":{\"fillmode\":\"overlay\",\"size\":10,\"solidity\":0.2}},\"type\":\"barpolar\"}],\"pie\":[{\"automargin\":true,\"type\":\"pie\"}]},\"layout\":{\"autotypenumbers\":\"strict\",\"colorway\":[\"#636efa\",\"#EF553B\",\"#00cc96\",\"#ab63fa\",\"#FFA15A\",\"#19d3f3\",\"#FF6692\",\"#B6E880\",\"#FF97FF\",\"#FECB52\"],\"font\":{\"color\":\"#2a3f5f\"},\"hovermode\":\"closest\",\"hoverlabel\":{\"align\":\"left\"},\"paper_bgcolor\":\"white\",\"plot_bgcolor\":\"#E5ECF6\",\"polar\":{\"bgcolor\":\"#E5ECF6\",\"angularaxis\":{\"gridcolor\":\"white\",\"linecolor\":\"white\",\"ticks\":\"\"},\"radialaxis\":{\"gridcolor\":\"white\",\"linecolor\":\"white\",\"ticks\":\"\"}},\"ternary\":{\"bgcolor\":\"#E5ECF6\",\"aaxis\":{\"gridcolor\":\"white\",\"linecolor\":\"white\",\"ticks\":\"\"},\"baxis\":{\"gridcolor\":\"white\",\"linecolor\":\"white\",\"ticks\":\"\"},\"caxis\":{\"gridcolor\":\"white\",\"linecolor\":\"white\",\"ticks\":\"\"}},\"coloraxis\":{\"colorbar\":{\"outlinewidth\":0,\"ticks\":\"\"}},\"colorscale\":{\"sequential\":[[0.0,\"#0d0887\"],[0.1111111111111111,\"#46039f\"],[0.2222222222222222,\"#7201a8\"],[0.3333333333333333,\"#9c179e\"],[0.4444444444444444,\"#bd3786\"],[0.5555555555555556,\"#d8576b\"],[0.6666666666666666,\"#ed7953\"],[0.7777777777777778,\"#fb9f3a\"],[0.8888888888888888,\"#fdca26\"],[1.0,\"#f0f921\"]],\"sequentialminus\":[[0.0,\"#0d0887\"],[0.1111111111111111,\"#46039f\"],[0.2222222222222222,\"#7201a8\"],[0.3333333333333333,\"#9c179e\"],[0.4444444444444444,\"#bd3786\"],[0.5555555555555556,\"#d8576b\"],[0.6666666666666666,\"#ed7953\"],[0.7777777777777778,\"#fb9f3a\"],[0.8888888888888888,\"#fdca26\"],[1.0,\"#f0f921\"]],\"diverging\":[[0,\"#8e0152\"],[0.1,\"#c51b7d\"],[0.2,\"#de77ae\"],[0.3,\"#f1b6da\"],[0.4,\"#fde0ef\"],[0.5,\"#f7f7f7\"],[0.6,\"#e6f5d0\"],[0.7,\"#b8e186\"],[0.8,\"#7fbc41\"],[0.9,\"#4d9221\"],[1,\"#276419\"]]},\"xaxis\":{\"gridcolor\":\"white\",\"linecolor\":\"white\",\"ticks\":\"\",\"title\":{\"standoff\":15},\"zerolinecolor\":\"white\",\"automargin\":true,\"zerolinewidth\":2},\"yaxis\":{\"gridcolor\":\"white\",\"linecolor\":\"white\",\"ticks\":\"\",\"title\":{\"standoff\":15},\"zerolinecolor\":\"white\",\"automargin\":true,\"zerolinewidth\":2},\"scene\":{\"xaxis\":{\"backgroundcolor\":\"#E5ECF6\",\"gridcolor\":\"white\",\"linecolor\":\"white\",\"showbackground\":true,\"ticks\":\"\",\"zerolinecolor\":\"white\",\"gridwidth\":2},\"yaxis\":{\"backgroundcolor\":\"#E5ECF6\",\"gridcolor\":\"white\",\"linecolor\":\"white\",\"showbackground\":true,\"ticks\":\"\",\"zerolinecolor\":\"white\",\"gridwidth\":2},\"zaxis\":{\"backgroundcolor\":\"#E5ECF6\",\"gridcolor\":\"white\",\"linecolor\":\"white\",\"showbackground\":true,\"ticks\":\"\",\"zerolinecolor\":\"white\",\"gridwidth\":2}},\"shapedefaults\":{\"line\":{\"color\":\"#2a3f5f\"}},\"annotationdefaults\":{\"arrowcolor\":\"#2a3f5f\",\"arrowhead\":0,\"arrowwidth\":1},\"geo\":{\"bgcolor\":\"white\",\"landcolor\":\"#E5ECF6\",\"subunitcolor\":\"white\",\"showland\":true,\"showlakes\":true,\"lakecolor\":\"white\"},\"title\":{\"x\":0.05},\"mapbox\":{\"style\":\"light\"}}}},                        {\"responsive\": true}                    ).then(function(){\n",
       "                            \n",
       "var gd = document.getElementById('489f3b8a-21b8-44ab-a27b-f6f3cfb897cc');\n",
       "var x = new MutationObserver(function (mutations, observer) {{\n",
       "        var display = window.getComputedStyle(gd).display;\n",
       "        if (!display || display === 'none') {{\n",
       "            console.log([gd, 'removed!']);\n",
       "            Plotly.purge(gd);\n",
       "            observer.disconnect();\n",
       "        }}\n",
       "}});\n",
       "\n",
       "// Listen for the removal of the full notebook cells\n",
       "var notebookContainer = gd.closest('#notebook-container');\n",
       "if (notebookContainer) {{\n",
       "    x.observe(notebookContainer, {childList: true});\n",
       "}}\n",
       "\n",
       "// Listen for the clearing of the current output cell\n",
       "var outputEl = gd.closest('.output');\n",
       "if (outputEl) {{\n",
       "    x.observe(outputEl, {childList: true});\n",
       "}}\n",
       "\n",
       "                        })                };                            </script>        </div>\n",
       "</body>\n",
       "</html>"
      ]
     },
     "metadata": {},
     "output_type": "display_data"
    }
   ],
   "source": [
    "\n",
    "color = np.where(is_numeric, \"green\", \"black\")\n",
    "fig = go.Figure()\n",
    "\n",
    "fig.add_trace(\n",
    "    go.Scatter(\n",
    "        x=embeddings_df_trans[0],\n",
    "        y=embeddings_df_trans[1],\n",
    "        mode=\"text\",\n",
    "        text=embeddings_df_trans.index,\n",
    "        textposition=\"middle center\",\n",
    "        textfont=dict(color=color),\n",
    "    )\n",
    ")\n",
    "fig.show()\n",
    "\n"
   ]
  }
 ],
 "metadata": {
  "accelerator": "GPU",
  "colab": {
   "gpuType": "T4",
   "provenance": []
  },
  "kernelspec": {
   "display_name": "Python 3 (ipykernel)",
   "language": "python",
   "name": "python3"
  },
  "language_info": {
   "codemirror_mode": {
    "name": "ipython",
    "version": 3
   },
   "file_extension": ".py",
   "mimetype": "text/x-python",
   "name": "python",
   "nbconvert_exporter": "python",
   "pygments_lexer": "ipython3",
   "version": "3.7.9"
  }
 },
 "nbformat": 4,
 "nbformat_minor": 1
}
